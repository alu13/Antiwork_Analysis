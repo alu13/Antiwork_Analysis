{
 "cells": [
  {
   "cell_type": "code",
   "execution_count": 2,
   "id": "c4fa9e91",
   "metadata": {},
   "outputs": [
    {
     "data": {
      "text/plain": [
       "'/Users/albertlu/Documents/GitHub/Antiwork_Analysis/src'"
      ]
     },
     "execution_count": 2,
     "metadata": {},
     "output_type": "execute_result"
    }
   ],
   "source": [
    "import praw\n",
    "import pandas as pd\n",
    "import os\n",
    "import numpy as np\n",
    "\n",
    "os.getcwd()"
   ]
  },
  {
   "cell_type": "code",
   "execution_count": 3,
   "id": "031f52a3",
   "metadata": {},
   "outputs": [],
   "source": [
    "my_client_id = \"your client secret\"\n",
    "my_client_secret = \"your client id\"\n",
    "my_user_agent = \"Antiwork_Scrape\"\n",
    "\n",
    "reddit = praw.Reddit(client_id = my_client_id, client_secret = my_client_secret, user_agent = my_user_agent)"
   ]
  },
  {
   "cell_type": "markdown",
   "id": "48781c67",
   "metadata": {},
   "source": [
    "# PRAW Sanity Test"
   ]
  },
  {
   "cell_type": "code",
   "execution_count": 4,
   "id": "19e14ce7",
   "metadata": {},
   "outputs": [
    {
     "name": "stdout",
     "output_type": "stream",
     "text": [
      "Mesaage to Ukrainians seeking asylum. (copied from a comment in a previous thread)\n",
      "BREAKING: Starbucks workers in Mesa, AZ have WON their union election 25-3. The store becomes the 3rd unionized Starbucks in the country after overcoming extreme union-busting to win a blowout victory.\n",
      "Company didn't want to pay me a fair wage and the day after I quit, it cost the company around $40 Million.\n"
     ]
    }
   ],
   "source": [
    "new_posts = reddit.subreddit('antiwork').hot(limit = 3)\n",
    "for post in new_posts:\n",
    "    print(post.title)"
   ]
  },
  {
   "cell_type": "markdown",
   "id": "2925bf42",
   "metadata": {},
   "source": [
    "# Pytesseract Sanity Test"
   ]
  },
  {
   "cell_type": "code",
   "execution_count": 4,
   "id": "d6124dd0",
   "metadata": {
    "scrolled": true
   },
   "outputs": [
    {
     "name": "stdout",
     "output_type": "stream",
     "text": [
      "< Why Gen Zis having a way better starttoth.. % --\n",
      "\n",
      "   \n",
      "\n",
      "(2) Business Insider @ @Businessinsider\n",
      "\n",
      "February 4, 2022\n",
      "\n",
      "Why Gen Z is having a way better start to their\n",
      "adult lives than millennials did\n",
      "\n",
      "In May 2009, along with millions of fellow millennials, Insider senior correspondent\n",
      "Aki Ito graduated from college into what was shaping up to be the worst job market\n",
      "since World War II. So in 2020, when the coronavirus pandemic shuttered vast\n",
      "portions of the economy, there were worries that another lost generation was in the\n",
      "making. But this time, things played out very differently for Gen Z.\n",
      "\n",
      "Photo via @BusinessInsider\n",
      "\n"
     ]
    }
   ],
   "source": [
    "import pytesseract as py\n",
    "import cv2\n",
    "\n",
    "py.pytesseract.tesseract_cmd = r'/opt/homebrew/Cellar/tesseract/5.0.1/bin/tesseract'\n",
    "img = cv2.imread(r'Tesseract_test.png')\n",
    "print(py.image_to_string(img))"
   ]
  },
  {
   "cell_type": "markdown",
   "id": "8ce8eeee",
   "metadata": {},
   "source": [
    "# Main Scraping Loop\n",
    "\n",
    "This loop scrapes the antiwork subreddit and pulls post/comment/user features"
   ]
  },
  {
   "cell_type": "code",
   "execution_count": 5,
   "id": "f10f6423",
   "metadata": {},
   "outputs": [],
   "source": [
    "import re\n",
    "from urllib.request import urlopen\n",
    "\n",
    "image_regex = re.compile(r'https://i.redd.it/')\n",
    "\n",
    "\n",
    "\n",
    "def example_loop():\n",
    "    posts = []\n",
    "    for post in antiwork.hot(limit = 0):\n",
    "        real_body = post.selftext\n",
    "        if image_regex.search(post.url) != None:\n",
    "            req = urlopen(post.url)\n",
    "            arr = np.asarray(bytearray(req.read()), dtype=np.uint8)\n",
    "            img = cv2.imdecode(arr, -1)\n",
    "            real_body = str(py.image_to_string(img))\n",
    "        addition = [post.title, post.score, post.id, post.subreddit, post.url, post.num_comments, real_body, post.created]\n",
    "        posts.append(addition)\n",
    "    posts = pd.DataFrame(posts, columns=['title', 'score', 'id', 'subreddit', 'url', 'num_comments', 'body', 'created'])\n",
    "    posts.to_csv(\"Scraper_Test.csv\")"
   ]
  },
  {
   "cell_type": "markdown",
   "id": "5371c195",
   "metadata": {},
   "source": [
    "# Exploring Submissions"
   ]
  },
  {
   "cell_type": "code",
   "execution_count": 6,
   "id": "1558a1c9",
   "metadata": {},
   "outputs": [
    {
     "ename": "ValueError",
     "evalue": "The truth value of a Series is ambiguous. Use a.empty, a.bool(), a.item(), a.any() or a.all().",
     "output_type": "error",
     "traceback": [
      "\u001b[0;31m---------------------------------------------------------------------------\u001b[0m",
      "\u001b[0;31mValueError\u001b[0m                                Traceback (most recent call last)",
      "Input \u001b[0;32mIn [6]\u001b[0m, in \u001b[0;36m<module>\u001b[0;34m\u001b[0m\n\u001b[1;32m     29\u001b[0m     \u001b[38;5;28;01mreturn\u001b[39;00m real_body\n\u001b[1;32m     31\u001b[0m csv_path \u001b[38;5;241m=\u001b[39m \u001b[38;5;124m\"\u001b[39m\u001b[38;5;124m../data/2019/2019-1.csv\u001b[39m\u001b[38;5;124m\"\u001b[39m\n\u001b[0;32m---> 32\u001b[0m \u001b[43mpull_submissions\u001b[49m\u001b[43m(\u001b[49m\u001b[43mcsv_path\u001b[49m\u001b[43m)\u001b[49m\n",
      "Input \u001b[0;32mIn [6]\u001b[0m, in \u001b[0;36mpull_submissions\u001b[0;34m(csv_path)\u001b[0m\n\u001b[1;32m      4\u001b[0m a \u001b[38;5;241m=\u001b[39m pd\u001b[38;5;241m.\u001b[39mread_csv(csv_path, index_col \u001b[38;5;241m=\u001b[39m \u001b[38;5;241m0\u001b[39m)\n\u001b[1;32m      5\u001b[0m ids \u001b[38;5;241m=\u001b[39m a[\u001b[38;5;124m'\u001b[39m\u001b[38;5;124mid\u001b[39m\u001b[38;5;124m'\u001b[39m]\n\u001b[0;32m----> 6\u001b[0m posts \u001b[38;5;241m=\u001b[39m \u001b[43mreddit\u001b[49m\u001b[38;5;241;43m.\u001b[39;49m\u001b[43msubmission\u001b[49m\u001b[43m(\u001b[49m\u001b[43mids\u001b[49m\u001b[43m)\u001b[49m\n\u001b[1;32m      7\u001b[0m \u001b[38;5;28mprint\u001b[39m(posts)\n",
      "File \u001b[0;32m~/opt/anaconda3/envs/Antiwork/lib/python3.10/site-packages/praw/reddit.py:925\u001b[0m, in \u001b[0;36mReddit.submission\u001b[0;34m(self, id, url)\u001b[0m\n\u001b[1;32m    914\u001b[0m \u001b[38;5;28;01mdef\u001b[39;00m \u001b[38;5;21msubmission\u001b[39m(  \u001b[38;5;66;03m# pylint: disable=invalid-name,redefined-builtin\u001b[39;00m\n\u001b[1;32m    915\u001b[0m     \u001b[38;5;28mself\u001b[39m, \u001b[38;5;28mid\u001b[39m: Optional[\u001b[38;5;28mstr\u001b[39m] \u001b[38;5;241m=\u001b[39m \u001b[38;5;28;01mNone\u001b[39;00m, url: Optional[\u001b[38;5;28mstr\u001b[39m] \u001b[38;5;241m=\u001b[39m \u001b[38;5;28;01mNone\u001b[39;00m\n\u001b[1;32m    916\u001b[0m ) \u001b[38;5;241m-\u001b[39m\u001b[38;5;241m>\u001b[39m \u001b[38;5;124m\"\u001b[39m\u001b[38;5;124mpraw.models.Submission\u001b[39m\u001b[38;5;124m\"\u001b[39m:\n\u001b[1;32m    917\u001b[0m     \u001b[38;5;124;03m\"\"\"Return a lazy instance of :class:`~.Submission`.\u001b[39;00m\n\u001b[1;32m    918\u001b[0m \n\u001b[1;32m    919\u001b[0m \u001b[38;5;124;03m    :param id: A Reddit base36 submission ID, e.g., ``2gmzqe``.\u001b[39;00m\n\u001b[0;32m   (...)\u001b[0m\n\u001b[1;32m    923\u001b[0m \n\u001b[1;32m    924\u001b[0m \u001b[38;5;124;03m    \"\"\"\u001b[39;00m\n\u001b[0;32m--> 925\u001b[0m     \u001b[38;5;28;01mreturn\u001b[39;00m \u001b[43mmodels\u001b[49m\u001b[38;5;241;43m.\u001b[39;49m\u001b[43mSubmission\u001b[49m\u001b[43m(\u001b[49m\u001b[38;5;28;43mself\u001b[39;49m\u001b[43m,\u001b[49m\u001b[43m \u001b[49m\u001b[38;5;28;43mid\u001b[39;49m\u001b[38;5;241;43m=\u001b[39;49m\u001b[38;5;28;43mid\u001b[39;49m\u001b[43m,\u001b[49m\u001b[43m \u001b[49m\u001b[43murl\u001b[49m\u001b[38;5;241;43m=\u001b[39;49m\u001b[43murl\u001b[49m\u001b[43m)\u001b[49m\n",
      "File \u001b[0;32m~/opt/anaconda3/envs/Antiwork/lib/python3.10/site-packages/praw/models/reddit/submission.py:571\u001b[0m, in \u001b[0;36mSubmission.__init__\u001b[0;34m(self, reddit, id, url, _data)\u001b[0m\n\u001b[1;32m    555\u001b[0m \u001b[38;5;28;01mdef\u001b[39;00m \u001b[38;5;21m__init__\u001b[39m(\n\u001b[1;32m    556\u001b[0m     \u001b[38;5;28mself\u001b[39m,\n\u001b[1;32m    557\u001b[0m     reddit: \u001b[38;5;124m\"\u001b[39m\u001b[38;5;124mpraw.Reddit\u001b[39m\u001b[38;5;124m\"\u001b[39m,\n\u001b[0;32m   (...)\u001b[0m\n\u001b[1;32m    560\u001b[0m     _data: Optional[Dict[\u001b[38;5;28mstr\u001b[39m, Any]] \u001b[38;5;241m=\u001b[39m \u001b[38;5;28;01mNone\u001b[39;00m,\n\u001b[1;32m    561\u001b[0m ):\n\u001b[1;32m    562\u001b[0m     \u001b[38;5;124;03m\"\"\"Initialize a Submission instance.\u001b[39;00m\n\u001b[1;32m    563\u001b[0m \n\u001b[1;32m    564\u001b[0m \u001b[38;5;124;03m    :param reddit: An instance of :class:`~.Reddit`.\u001b[39;00m\n\u001b[0;32m   (...)\u001b[0m\n\u001b[1;32m    569\u001b[0m \n\u001b[1;32m    570\u001b[0m \u001b[38;5;124;03m    \"\"\"\u001b[39;00m\n\u001b[0;32m--> 571\u001b[0m     \u001b[38;5;28;01mif\u001b[39;00m \u001b[43m(\u001b[49m\u001b[38;5;28;43mid\u001b[39;49m\u001b[43m,\u001b[49m\u001b[43m \u001b[49m\u001b[43murl\u001b[49m\u001b[43m,\u001b[49m\u001b[43m \u001b[49m\u001b[43m_data\u001b[49m\u001b[43m)\u001b[49m\u001b[38;5;241;43m.\u001b[39;49m\u001b[43mcount\u001b[49m\u001b[43m(\u001b[49m\u001b[38;5;28;43;01mNone\u001b[39;49;00m\u001b[43m)\u001b[49m \u001b[38;5;241m!=\u001b[39m \u001b[38;5;241m2\u001b[39m:\n\u001b[1;32m    572\u001b[0m         \u001b[38;5;28;01mraise\u001b[39;00m \u001b[38;5;167;01mTypeError\u001b[39;00m(\u001b[38;5;124m\"\u001b[39m\u001b[38;5;124mExactly one of `id`, `url`, or `_data` must be provided.\u001b[39m\u001b[38;5;124m\"\u001b[39m)\n\u001b[1;32m    573\u001b[0m     \u001b[38;5;28mself\u001b[39m\u001b[38;5;241m.\u001b[39mcomment_limit \u001b[38;5;241m=\u001b[39m \u001b[38;5;241m2048\u001b[39m\n",
      "File \u001b[0;32m~/opt/anaconda3/envs/Antiwork/lib/python3.10/site-packages/pandas/core/generic.py:1537\u001b[0m, in \u001b[0;36mNDFrame.__nonzero__\u001b[0;34m(self)\u001b[0m\n\u001b[1;32m   1535\u001b[0m \u001b[38;5;129m@final\u001b[39m\n\u001b[1;32m   1536\u001b[0m \u001b[38;5;28;01mdef\u001b[39;00m \u001b[38;5;21m__nonzero__\u001b[39m(\u001b[38;5;28mself\u001b[39m):\n\u001b[0;32m-> 1537\u001b[0m     \u001b[38;5;28;01mraise\u001b[39;00m \u001b[38;5;167;01mValueError\u001b[39;00m(\n\u001b[1;32m   1538\u001b[0m         \u001b[38;5;124mf\u001b[39m\u001b[38;5;124m\"\u001b[39m\u001b[38;5;124mThe truth value of a \u001b[39m\u001b[38;5;132;01m{\u001b[39;00m\u001b[38;5;28mtype\u001b[39m(\u001b[38;5;28mself\u001b[39m)\u001b[38;5;241m.\u001b[39m\u001b[38;5;18m__name__\u001b[39m\u001b[38;5;132;01m}\u001b[39;00m\u001b[38;5;124m is ambiguous. \u001b[39m\u001b[38;5;124m\"\u001b[39m\n\u001b[1;32m   1539\u001b[0m         \u001b[38;5;124m\"\u001b[39m\u001b[38;5;124mUse a.empty, a.bool(), a.item(), a.any() or a.all().\u001b[39m\u001b[38;5;124m\"\u001b[39m\n\u001b[1;32m   1540\u001b[0m     )\n",
      "\u001b[0;31mValueError\u001b[0m: The truth value of a Series is ambiguous. Use a.empty, a.bool(), a.item(), a.any() or a.all()."
     ]
    }
   ],
   "source": [
    "#Create the dataframe of submission IDs\n",
    "def pull_submissions(csv_path):\n",
    "    image_regex = re.compile(r'https://i.redd.it/')\n",
    "    a = pd.read_csv(csv_path, index_col = 0)\n",
    "    ids = a['id']\n",
    "    posts = reddit.submission(ids)\n",
    "    print(posts)\n",
    "#     for sub_id in a['id']:\n",
    "#         print(\"sub_id = \" + str(sub_id))\n",
    "#         post = reddit.submission(sub_id)\n",
    "#         body = None\n",
    "#         if image_regex.search(post.url) != None:\n",
    "#             body = url_to_body(post.url)\n",
    "#         elif post.selftext == \"[deleted]\" or post.selftext == \"\":\n",
    "#             print(\"hello\")\n",
    "#             continue\n",
    "#         elif post.selftext == \"\":\n",
    "#             print(post.url)\n",
    "#         else:\n",
    "#             body = post.selftext\n",
    "#         print(body)\n",
    "\n",
    "def url_to_body(post_url):\n",
    "    print(\"here\")\n",
    "    req = urlopen(post_url)\n",
    "    arr = np.asarray(bytearray(req.read()), dtype=np.uint8)\n",
    "    img = cv2.imdecode(arr, -1)\n",
    "    real_body = str(py.image_to_string(img))\n",
    "    return real_body\n",
    "\n",
    "csv_path = \"../data/2019/2019-1.csv\"\n",
    "pull_submissions(csv_path)"
   ]
  },
  {
   "cell_type": "code",
   "execution_count": null,
   "id": "70d761fd",
   "metadata": {},
   "outputs": [],
   "source": []
  },
  {
   "cell_type": "code",
   "execution_count": null,
   "id": "d98eec8a",
   "metadata": {},
   "outputs": [],
   "source": [
    "from time import sleep\n",
    "\n",
    "cmts = set()\n",
    "sub = r.subreddit(\"the_sub\")\n",
    "while True:\n",
    "    try:\n",
    "        cmts.add([c for c in sub.comments(limit=100)])\n",
    "    except KeyboardInterrupt:\n",
    "        raise\n",
    "    except Exception as e:\n",
    "        print(e)\n",
    "        sleep(30)\n",
    "    sleep(600)"
   ]
  },
  {
   "cell_type": "code",
   "execution_count": 30,
   "id": "17168154",
   "metadata": {},
   "outputs": [
    {
     "ename": "TypeError",
     "evalue": "SubredditHelper.__call__() got an unexpected keyword argument 'created'",
     "output_type": "error",
     "traceback": [
      "\u001b[0;31m---------------------------------------------------------------------------\u001b[0m",
      "\u001b[0;31mTypeError\u001b[0m                                 Traceback (most recent call last)",
      "Input \u001b[0;32mIn [30]\u001b[0m, in \u001b[0;36m<module>\u001b[0;34m\u001b[0m\n\u001b[1;32m      2\u001b[0m \u001b[38;5;66;03m#     pprint.pprint(vars(post))\u001b[39;00m\n\u001b[1;32m      3\u001b[0m \u001b[38;5;28;01mfrom\u001b[39;00m \u001b[38;5;21;01mdatetime\u001b[39;00m \u001b[38;5;28;01mimport\u001b[39;00m datetime\n\u001b[0;32m----> 4\u001b[0m new_posts \u001b[38;5;241m=\u001b[39m \u001b[43mreddit\u001b[49m\u001b[38;5;241;43m.\u001b[39;49m\u001b[43msubreddit\u001b[49m\u001b[43m(\u001b[49m\u001b[38;5;124;43m'\u001b[39;49m\u001b[38;5;124;43mantiwork\u001b[39;49m\u001b[38;5;124;43m'\u001b[39;49m\u001b[43m,\u001b[49m\u001b[43m \u001b[49m\u001b[43mcreated\u001b[49m\u001b[43m \u001b[49m\u001b[38;5;241;43m=\u001b[39;49m\u001b[43m \u001b[49m\u001b[38;5;124;43m'\u001b[39;49m\u001b[38;5;124;43m10\u001b[39;49m\u001b[38;5;124;43m'\u001b[39;49m\u001b[43m)\u001b[49m\u001b[38;5;241m.\u001b[39mnew(limit \u001b[38;5;241m=\u001b[39m \u001b[38;5;241m500\u001b[39m)\n\u001b[1;32m      5\u001b[0m counter \u001b[38;5;241m=\u001b[39m \u001b[38;5;241m0\u001b[39m\n\u001b[1;32m      6\u001b[0m \u001b[38;5;28;01mfor\u001b[39;00m post \u001b[38;5;129;01min\u001b[39;00m new_posts:\n",
      "\u001b[0;31mTypeError\u001b[0m: SubredditHelper.__call__() got an unexpected keyword argument 'created'"
     ]
    }
   ],
   "source": [
    "import pprint\n",
    "#     pprint.pprint(vars(post))\n",
    "from datetime import datetime\n",
    "new_posts = reddit.subreddit('antiwork', created = '10').new(limit = 500)\n",
    "counter = 0\n",
    "for post in new_posts:\n",
    "    if counter > 480:\n",
    "        timestamp = post.created_utc\n",
    "        print(datetime.utcfromtimestamp(timestamp))\n",
    "    counter += 1\n",
    "    print(counter)"
   ]
  }
 ],
 "metadata": {
  "kernelspec": {
   "display_name": "Python 3 (ipykernel)",
   "language": "python",
   "name": "python3"
  },
  "language_info": {
   "codemirror_mode": {
    "name": "ipython",
    "version": 3
   },
   "file_extension": ".py",
   "mimetype": "text/x-python",
   "name": "python",
   "nbconvert_exporter": "python",
   "pygments_lexer": "ipython3",
   "version": "3.10.0"
  }
 },
 "nbformat": 4,
 "nbformat_minor": 5
}
