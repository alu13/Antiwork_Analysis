{
 "cells": [
  {
   "cell_type": "code",
   "execution_count": 60,
   "id": "5a14367c-fa87-4062-a15b-38bfbb3fe425",
   "metadata": {},
   "outputs": [],
   "source": [
    "import pandas as pd\n",
    "import pymc as pm\n",
    "import numpy as np\n",
    "from scipy.special import logsumexp\n",
    "\n",
    "%reload_ext watermark"
   ]
  },
  {
   "cell_type": "code",
   "execution_count": 9,
   "id": "9c366fb1-150d-4440-9ab2-b56f01151b5f",
   "metadata": {},
   "outputs": [
    {
     "name": "stdout",
     "output_type": "stream",
     "text": [
      "pandas: 1.4.2\n",
      "pymc  : 4.0.0b6\n",
      "\n"
     ]
    }
   ],
   "source": [
    "%watermark --iversions"
   ]
  },
  {
   "cell_type": "code",
   "execution_count": 10,
   "id": "c61a9d13-5473-4cb1-b093-940f438bd39d",
   "metadata": {},
   "outputs": [],
   "source": [
    "path = \"../../../data/users/summaries/combined/\""
   ]
  },
  {
   "cell_type": "markdown",
   "id": "9989dd18-d255-4437-b766-ff8baab174fb",
   "metadata": {
    "tags": []
   },
   "source": [
    "## Setup for a Bayesian model\n",
    "\n",
    "Let's try to see if there is any relationship between probability of \"success\" that a user will choose to post an entry of a specific topic as a function of the user attributes.\n",
    "\n",
    "This will be the setup:\n",
    "\n",
    "There are $n$ users that have $m$ covariates and post across $k$ topics. Then:\n",
    "\n",
    "$Y$ (n x k) where $Y_i^j$ denotes observed count of topic $i$ posted by user $j$\n",
    "\n",
    "$c$ (n x 1) where $c^j$ denotes total number of posts made by user $j$\n",
    "\n",
    "$p$ (n x k) where $p_i^j$ denotes the probability that a post made by user $j$ is of topic $i$\n",
    "\n",
    "$X$ (n x m) where $X_m^j$ denotes attribute $m$ of user $j$\n",
    "\n",
    "$Y \\sim  Multinomial(p, c)$\n",
    "\n",
    "$p = softmax(Z)$\n",
    "\n",
    "$Z = \\alpha + X \\beta$\n",
    "\n",
    "$\\beta$ (k x m) $\\sim Normal(0, scale=0.001)$\n",
    "\n",
    "$\\alpha$ (k x 1) $\\sim Normal(0, scale=0.001)$\n",
    "\n",
    " \n",
    "\n"
   ]
  },
  {
   "cell_type": "code",
   "execution_count": 100,
   "id": "2db21fa4-1659-471b-b2b8-42cd7bb15ab3",
   "metadata": {},
   "outputs": [],
   "source": [
    "data = pd.read_csv(path + \"for_multinomial.csv\")"
   ]
  },
  {
   "cell_type": "code",
   "execution_count": 101,
   "id": "9c2c54ab-891c-4312-9173-498b4116f795",
   "metadata": {},
   "outputs": [],
   "source": [
    "subset = data[data['total'] > 10]\n",
    "\n",
    "feature_cols = ['no_posts', \"no_comments\", \"post_karma\", \"comment_karma\", \"avg_post_karma\", \"avg_comment_karma\", \"activity_window\", \"longevity\", \"indirect_pg_rank\"]\n",
    "topic_cols = [str(i) for i in range(25)]\n",
    "total_col = ['total']"
   ]
  },
  {
   "cell_type": "code",
   "execution_count": 123,
   "id": "8c9edb2b-6069-4874-90c5-31ec069f4b09",
   "metadata": {},
   "outputs": [],
   "source": [
    "features = subset[feature_cols].values\n",
    "counts = subset[total_col].values\n",
    "\n",
    "n_users, m_features = features.shape\n",
    "k_topics = len(topic_cols)"
   ]
  },
  {
   "cell_type": "code",
   "execution_count": 124,
   "id": "ed1b67d4-cf06-4cc7-899e-72fcbc170eb3",
   "metadata": {},
   "outputs": [],
   "source": [
    "t = subset[topic_cols].values / subset[topic_cols].values.sum(axis=1).reshape(-1, 1)"
   ]
  },
  {
   "cell_type": "code",
   "execution_count": 125,
   "id": "f9935e9b-26ab-4b2d-9802-fc18b0e78b5d",
   "metadata": {},
   "outputs": [],
   "source": [
    "topics = t.reshape(1, n_users, k_topics)"
   ]
  },
  {
   "cell_type": "code",
   "execution_count": 79,
   "id": "b3df924a-7855-410d-ac9d-312fca3a1ebe",
   "metadata": {},
   "outputs": [
    {
     "data": {
      "text/plain": [
       "array([[0.04, 0.04, 0.04, ..., 0.04, 0.04, 0.04],\n",
       "       [0.04, 0.04, 0.04, ..., 0.04, 0.04, 0.04],\n",
       "       [0.04, 0.04, 0.04, ..., 0.04, 0.04, 0.04],\n",
       "       ...,\n",
       "       [0.04, 0.04, 0.04, ..., 0.04, 0.04, 0.04],\n",
       "       [0.04, 0.04, 0.04, ..., 0.04, 0.04, 0.04],\n",
       "       [0.04, 0.04, 0.04, ..., 0.04, 0.04, 0.04]])"
      ]
     },
     "execution_count": 79,
     "metadata": {},
     "output_type": "execute_result"
    }
   ],
   "source": [
    "a = np.ones((n_users, 1))\n",
    "b = np.ones((m_features, k_topics))\n",
    "Z = features @ b + a\n",
    "sums = logsumexp(Z, axis=1, keepdims = True)\n",
    "p = np.exp(Z - sums)\n",
    "p"
   ]
  },
  {
   "cell_type": "code",
   "execution_count": 177,
   "id": "a2a5db41-f763-41ed-a58b-a87451124422",
   "metadata": {},
   "outputs": [],
   "source": [
    "features = np.array([[1, 0, 1], [1, 1, 1], [0, 0, 1], [0, 1, 0]])\n",
    "counts = np.array([5, 2, 4, 1])\n",
    "\n",
    "beta = np.array([[1, 3], [3, 7], [8, 3]])\n",
    "\n",
    "Z = features @ beta\n",
    "\n",
    "sums = logsumexp(Z, axis=1, keepdims = True)\n",
    "p = np.exp(Z - sums)\n",
    "\n",
    "\n",
    "topics = np.round((p.T * counts).T,0)\n",
    "\n",
    "\n",
    "n_users = 4\n",
    "m_features = 3\n",
    "k_topics = 2\n",
    "\n"
   ]
  },
  {
   "cell_type": "code",
   "execution_count": 182,
   "id": "32552254-76f3-4ff4-aa12-0f88131c6ebc",
   "metadata": {},
   "outputs": [
    {
     "name": "stderr",
     "output_type": "stream",
     "text": [
      "Auto-assigning NUTS sampler...\n",
      "Initializing NUTS using jitter+adapt_diag...\n",
      "Sequential sampling (1 chains in 1 job)\n",
      "NUTS: [coefficients]\n"
     ]
    },
    {
     "data": {
      "text/html": [
       "\n",
       "<style>\n",
       "    /* Turns off some styling */\n",
       "    progress {\n",
       "        /* gets rid of default border in Firefox and Opera. */\n",
       "        border: none;\n",
       "        /* Needs to be in here for Safari polyfill so background images work as expected. */\n",
       "        background-size: auto;\n",
       "    }\n",
       "    .progress-bar-interrupted, .progress-bar-interrupted::-webkit-progress-bar {\n",
       "        background: #F44336;\n",
       "    }\n",
       "</style>\n"
      ],
      "text/plain": [
       "<IPython.core.display.HTML object>"
      ]
     },
     "metadata": {},
     "output_type": "display_data"
    },
    {
     "data": {
      "text/html": [
       "\n",
       "    <div>\n",
       "      <progress value='2000' class='' max='2000' style='width:300px; height:20px; vertical-align: middle;'></progress>\n",
       "      100.00% [2000/2000 00:39<00:00 Sampling chain 0, 0 divergences]\n",
       "    </div>\n",
       "    "
      ],
      "text/plain": [
       "<IPython.core.display.HTML object>"
      ]
     },
     "metadata": {},
     "output_type": "display_data"
    },
    {
     "name": "stderr",
     "output_type": "stream",
     "text": [
      "Sampling 1 chain for 1_000 tune and 1_000 draw iterations (1_000 + 1_000 draws total) took 39 seconds.\n"
     ]
    }
   ],
   "source": [
    "with pm.Model() as model:\n",
    "    data = pm.ConstantData(\"features\", features)\n",
    "    totals  = pm.ConstantData(\"counts\", counts)\n",
    "    Y = pm.ConstantData(\"topics\", topics)\n",
    "            \n",
    "    β = pm.Normal(\"coefficients\", 0, tau=1e-6, shape=(m_features, k_topics))\n",
    "    \n",
    "    Z = pm.math.dot(data, β)    \n",
    "    sums = pm.math.logsumexp(Z, axis=1, keepdims = True)\n",
    "    p = pm.math.exp(Z - sums)\n",
    "            \n",
    "    pm.Multinomial(\"outcomes\", p = p, n = totals, observed = Y)\n",
    "        \n",
    "    trace = pm.sample(1000, chains=1)\n",
    "    "
   ]
  },
  {
   "cell_type": "code",
   "execution_count": 181,
   "id": "6e6b72ab-bc3b-440b-91a3-c0b00e0dc924",
   "metadata": {},
   "outputs": [
    {
     "name": "stderr",
     "output_type": "stream",
     "text": [
      "arviz - WARNING - Shape validation failed: input_shape: (1, 1000), minimum_shape: (chains=2, draws=4)\n"
     ]
    },
    {
     "data": {
      "text/html": [
       "<div>\n",
       "<style scoped>\n",
       "    .dataframe tbody tr th:only-of-type {\n",
       "        vertical-align: middle;\n",
       "    }\n",
       "\n",
       "    .dataframe tbody tr th {\n",
       "        vertical-align: top;\n",
       "    }\n",
       "\n",
       "    .dataframe thead th {\n",
       "        text-align: right;\n",
       "    }\n",
       "</style>\n",
       "<table border=\"1\" class=\"dataframe\">\n",
       "  <thead>\n",
       "    <tr style=\"text-align: right;\">\n",
       "      <th></th>\n",
       "      <th>mean</th>\n",
       "      <th>sd</th>\n",
       "      <th>hdi_3%</th>\n",
       "      <th>hdi_97%</th>\n",
       "      <th>mcse_mean</th>\n",
       "      <th>mcse_sd</th>\n",
       "      <th>ess_bulk</th>\n",
       "      <th>ess_tail</th>\n",
       "      <th>r_hat</th>\n",
       "    </tr>\n",
       "  </thead>\n",
       "  <tbody>\n",
       "    <tr>\n",
       "      <th>b</th>\n",
       "      <td>-177.013</td>\n",
       "      <td>799.882</td>\n",
       "      <td>-1804.242</td>\n",
       "      <td>978.256</td>\n",
       "      <td>529.961</td>\n",
       "      <td>437.109</td>\n",
       "      <td>2.0</td>\n",
       "      <td>27.0</td>\n",
       "      <td>NaN</td>\n",
       "    </tr>\n",
       "    <tr>\n",
       "      <th>intercept[0, 0]</th>\n",
       "      <td>2.610</td>\n",
       "      <td>11.239</td>\n",
       "      <td>-15.704</td>\n",
       "      <td>22.645</td>\n",
       "      <td>7.833</td>\n",
       "      <td>6.596</td>\n",
       "      <td>2.0</td>\n",
       "      <td>26.0</td>\n",
       "      <td>NaN</td>\n",
       "    </tr>\n",
       "    <tr>\n",
       "      <th>intercept[1, 0]</th>\n",
       "      <td>-1.213</td>\n",
       "      <td>10.216</td>\n",
       "      <td>-16.185</td>\n",
       "      <td>19.011</td>\n",
       "      <td>1.624</td>\n",
       "      <td>1.157</td>\n",
       "      <td>40.0</td>\n",
       "      <td>87.0</td>\n",
       "      <td>NaN</td>\n",
       "    </tr>\n",
       "    <tr>\n",
       "      <th>intercept[2, 0]</th>\n",
       "      <td>1.352</td>\n",
       "      <td>9.329</td>\n",
       "      <td>-17.124</td>\n",
       "      <td>17.144</td>\n",
       "      <td>1.175</td>\n",
       "      <td>0.834</td>\n",
       "      <td>62.0</td>\n",
       "      <td>116.0</td>\n",
       "      <td>NaN</td>\n",
       "    </tr>\n",
       "    <tr>\n",
       "      <th>intercept[3, 0]</th>\n",
       "      <td>-0.894</td>\n",
       "      <td>10.459</td>\n",
       "      <td>-20.653</td>\n",
       "      <td>15.699</td>\n",
       "      <td>1.366</td>\n",
       "      <td>0.970</td>\n",
       "      <td>58.0</td>\n",
       "      <td>85.0</td>\n",
       "      <td>NaN</td>\n",
       "    </tr>\n",
       "    <tr>\n",
       "      <th>coefficients[0, 0]</th>\n",
       "      <td>-297.344</td>\n",
       "      <td>989.502</td>\n",
       "      <td>-2118.199</td>\n",
       "      <td>1513.532</td>\n",
       "      <td>688.755</td>\n",
       "      <td>579.606</td>\n",
       "      <td>2.0</td>\n",
       "      <td>24.0</td>\n",
       "      <td>NaN</td>\n",
       "    </tr>\n",
       "    <tr>\n",
       "      <th>coefficients[0, 1]</th>\n",
       "      <td>-431.485</td>\n",
       "      <td>940.377</td>\n",
       "      <td>-1777.961</td>\n",
       "      <td>1595.929</td>\n",
       "      <td>487.001</td>\n",
       "      <td>375.593</td>\n",
       "      <td>4.0</td>\n",
       "      <td>28.0</td>\n",
       "      <td>NaN</td>\n",
       "    </tr>\n",
       "    <tr>\n",
       "      <th>coefficients[1, 0]</th>\n",
       "      <td>-712.160</td>\n",
       "      <td>1055.380</td>\n",
       "      <td>-2728.690</td>\n",
       "      <td>916.403</td>\n",
       "      <td>506.678</td>\n",
       "      <td>385.570</td>\n",
       "      <td>5.0</td>\n",
       "      <td>65.0</td>\n",
       "      <td>NaN</td>\n",
       "    </tr>\n",
       "    <tr>\n",
       "      <th>coefficients[1, 1]</th>\n",
       "      <td>352.010</td>\n",
       "      <td>1186.478</td>\n",
       "      <td>-1968.606</td>\n",
       "      <td>2416.579</td>\n",
       "      <td>529.856</td>\n",
       "      <td>398.916</td>\n",
       "      <td>5.0</td>\n",
       "      <td>21.0</td>\n",
       "      <td>NaN</td>\n",
       "    </tr>\n",
       "    <tr>\n",
       "      <th>coefficients[2, 0]</th>\n",
       "      <td>339.841</td>\n",
       "      <td>820.078</td>\n",
       "      <td>-900.306</td>\n",
       "      <td>2081.368</td>\n",
       "      <td>361.557</td>\n",
       "      <td>271.741</td>\n",
       "      <td>6.0</td>\n",
       "      <td>45.0</td>\n",
       "      <td>NaN</td>\n",
       "    </tr>\n",
       "    <tr>\n",
       "      <th>coefficients[2, 1]</th>\n",
       "      <td>-590.187</td>\n",
       "      <td>946.535</td>\n",
       "      <td>-2266.932</td>\n",
       "      <td>1328.375</td>\n",
       "      <td>485.686</td>\n",
       "      <td>373.917</td>\n",
       "      <td>4.0</td>\n",
       "      <td>57.0</td>\n",
       "      <td>NaN</td>\n",
       "    </tr>\n",
       "    <tr>\n",
       "      <th>a</th>\n",
       "      <td>0.152</td>\n",
       "      <td>1.072</td>\n",
       "      <td>0.000</td>\n",
       "      <td>0.259</td>\n",
       "      <td>0.069</td>\n",
       "      <td>0.049</td>\n",
       "      <td>11.0</td>\n",
       "      <td>21.0</td>\n",
       "      <td>NaN</td>\n",
       "    </tr>\n",
       "  </tbody>\n",
       "</table>\n",
       "</div>"
      ],
      "text/plain": [
       "                       mean        sd    hdi_3%   hdi_97%  mcse_mean  mcse_sd  \\\n",
       "b                  -177.013   799.882 -1804.242   978.256    529.961  437.109   \n",
       "intercept[0, 0]       2.610    11.239   -15.704    22.645      7.833    6.596   \n",
       "intercept[1, 0]      -1.213    10.216   -16.185    19.011      1.624    1.157   \n",
       "intercept[2, 0]       1.352     9.329   -17.124    17.144      1.175    0.834   \n",
       "intercept[3, 0]      -0.894    10.459   -20.653    15.699      1.366    0.970   \n",
       "coefficients[0, 0] -297.344   989.502 -2118.199  1513.532    688.755  579.606   \n",
       "coefficients[0, 1] -431.485   940.377 -1777.961  1595.929    487.001  375.593   \n",
       "coefficients[1, 0] -712.160  1055.380 -2728.690   916.403    506.678  385.570   \n",
       "coefficients[1, 1]  352.010  1186.478 -1968.606  2416.579    529.856  398.916   \n",
       "coefficients[2, 0]  339.841   820.078  -900.306  2081.368    361.557  271.741   \n",
       "coefficients[2, 1] -590.187   946.535 -2266.932  1328.375    485.686  373.917   \n",
       "a                     0.152     1.072     0.000     0.259      0.069    0.049   \n",
       "\n",
       "                    ess_bulk  ess_tail  r_hat  \n",
       "b                        2.0      27.0    NaN  \n",
       "intercept[0, 0]          2.0      26.0    NaN  \n",
       "intercept[1, 0]         40.0      87.0    NaN  \n",
       "intercept[2, 0]         62.0     116.0    NaN  \n",
       "intercept[3, 0]         58.0      85.0    NaN  \n",
       "coefficients[0, 0]       2.0      24.0    NaN  \n",
       "coefficients[0, 1]       4.0      28.0    NaN  \n",
       "coefficients[1, 0]       5.0      65.0    NaN  \n",
       "coefficients[1, 1]       5.0      21.0    NaN  \n",
       "coefficients[2, 0]       6.0      45.0    NaN  \n",
       "coefficients[2, 1]       4.0      57.0    NaN  \n",
       "a                       11.0      21.0    NaN  "
      ]
     },
     "execution_count": 181,
     "metadata": {},
     "output_type": "execute_result"
    }
   ],
   "source": [
    "import arviz as az\n",
    "\n",
    "az.summary(trace)"
   ]
  },
  {
   "cell_type": "code",
   "execution_count": null,
   "id": "d64ddfa3-2b0d-49af-8562-02b99f625007",
   "metadata": {},
   "outputs": [],
   "source": []
  }
 ],
 "metadata": {
  "kernelspec": {
   "display_name": "pymc4",
   "language": "python",
   "name": "pymc4"
  },
  "language_info": {
   "codemirror_mode": {
    "name": "ipython",
    "version": 3
   },
   "file_extension": ".py",
   "mimetype": "text/x-python",
   "name": "python",
   "nbconvert_exporter": "python",
   "pygments_lexer": "ipython3",
   "version": "3.9.12"
  }
 },
 "nbformat": 4,
 "nbformat_minor": 5
}
