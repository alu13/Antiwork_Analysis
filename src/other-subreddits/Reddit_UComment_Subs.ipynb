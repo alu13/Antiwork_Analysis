{
 "cells": [
  {
   "cell_type": "markdown",
   "id": "262bba4e",
   "metadata": {},
   "source": [
    "This notebook uses PRAW to pull the subreddits posted in of reddit users in antiwork"
   ]
  },
  {
   "cell_type": "code",
   "execution_count": null,
   "id": "4281c6d9",
   "metadata": {},
   "outputs": [],
   "source": [
    "#Imports\n",
    "import praw\n",
    "import pandas as pd\n",
    "import datetime as dt\n",
    "import csv\n",
    "import prawcore.exceptions "
   ]
  },
  {
   "cell_type": "markdown",
   "id": "be6f1c55",
   "metadata": {},
   "source": [
    "We import the file of all usernames in antiwork, then loop through their posts and the subsequent subreddits."
   ]
  },
  {
   "cell_type": "code",
   "execution_count": null,
   "id": "315c2191",
   "metadata": {},
   "outputs": [],
   "source": [
    "df = pd.read_csv ('user_stats.csv')\n",
    "\n",
    "\n",
    "reddit = praw.Reddit(client_id='blb2ZuNkAGWKyPJr_ruqOw', \n",
    "                      client_secret='9IYM0Ba4kJQBKKP9H9ZTVkkDgtrSsQ', \n",
    "                      user_agent='6471_Project')\n",
    "#number of observations\n",
    "size = df.shape[0]\n",
    "print(\"total users within Anti-Work Subreddit \", size)\n",
    "#Users with over 100 total activity\n",
    "consolidated_df = df[df[\"total_activity\"] >= 100]\n",
    "con_size = consolidated_df.shape[0]\n",
    "print(\"number of users with 100 or more total activity \", con_size)\n",
    "con_users = consolidated_df[\"user_name\"]\n",
    "\n",
    "#Sanity Test\n",
    "# username = con_users[3]\n",
    "# user_posts = []\n",
    "# user = reddit.redditor(con_users[3])\n",
    "# submissions = user.comments.new(limit=None)\n",
    "# test_posts = [username]\n",
    "# try:\n",
    "#     for link in submissions:\n",
    "#         test_posts.append(link.id)\n",
    "#     user_posts.append(test_posts)\n",
    "# except Forbidden:\n",
    "#     print(\"failed\")\n",
    "\n",
    "\n",
    "#Dictionary mapping users to a list of their comments\n",
    "#loop through most active users\n",
    "\n",
    "#user_comments = []\n",
    "user_comment_subreddits = []\n",
    "\n",
    "count = 0\n",
    "#halted, starting where left off at 294\n",
    "for username in con_users:\n",
    "    user = reddit.redditor(username)\n",
    "    submissions = user.comments.new(limit=None)\n",
    "    #comment_ids = []\n",
    "    comment_srs = []\n",
    "    comment_srs.append(username)\n",
    "    try:\n",
    "        for link in submissions:\n",
    "            #comment_ids.append(link)\n",
    "            comment_srs.append(link.subreddit.display_name)\n",
    "        #user_comments.append(comment_ids)\n",
    "        user_comment_subreddits.append(comment_srs)\n",
    "        \n",
    "    except Exception:\n",
    "        print(\"no submissions\")\n",
    "    print(count)\n",
    "    count += 1\n",
    "\n",
    "#Writing dictionary to a csv\n",
    "with open('user_commment_subreddits.csv', 'w', newline = \"\") as f:  # You will need 'wb' mode in Python 2.x\n",
    "    w = csv.writer(f)\n",
    "    w.writerows(user_subreddits)\n",
    "print(\"done\")"
   ]
  },
  {
   "cell_type": "code",
   "execution_count": null,
   "id": "bb0be288",
   "metadata": {
    "scrolled": true
   },
   "outputs": [],
   "source": [
    "with open('user_commment_subreddits.csv', 'w', newline = \"\") as f:  # You will need 'wb' mode in Python 2.x\n",
    "    w = csv.writer(f)\n",
    "    w.writerows(user_comment_subreddits)\n",
    "print(\"done\")"
   ]
  }
 ],
 "metadata": {
  "kernelspec": {
   "display_name": "Python 3 (ipykernel)",
   "language": "python",
   "name": "python3"
  },
  "language_info": {
   "codemirror_mode": {
    "name": "ipython",
    "version": 3
   },
   "file_extension": ".py",
   "mimetype": "text/x-python",
   "name": "python",
   "nbconvert_exporter": "python",
   "pygments_lexer": "ipython3",
   "version": "3.9.7"
  }
 },
 "nbformat": 4,
 "nbformat_minor": 5
}
