{
 "cells": [
  {
   "cell_type": "code",
   "execution_count": 7,
   "id": "b0be3cd0",
   "metadata": {},
   "outputs": [],
   "source": [
    "import pandas as pd\n",
    "import numpy as np"
   ]
  },
  {
   "cell_type": "code",
   "execution_count": 8,
   "id": "d9860e18",
   "metadata": {},
   "outputs": [],
   "source": [
    "#Reading in required files\n",
    "df_comments = pd.read_csv ('user_commment_subreddits.csv', header = None)\n",
    "df_posts = pd.read_csv ('user_posts_subreddits.csv', header = None)\n",
    "df_stats = pd.read_csv ('user_stats.csv')"
   ]
  },
  {
   "cell_type": "code",
   "execution_count": 9,
   "id": "627ea0fe",
   "metadata": {},
   "outputs": [],
   "source": [
    "#flatten to list to get mode and remove NaN\n",
    "#post_users = list(df_posts.iloc[:,0])\n",
    "post_users = list(set(df_posts.iloc[:,0]) &set(df_stats[\"user_name\"]))\n",
    "df_posts = df_posts[df_posts.iloc[:,0].isin(post_users)].drop_duplicates(subset = 0)\n",
    "del df_posts[df_posts.columns[0]]\n",
    "posts_matrix = df_posts.to_numpy()\n",
    "flat_posts = posts_matrix.flatten()\n",
    "flat_posts = flat_posts[~pd.isnull(flat_posts)]\n",
    "#post_matrix = post_matrix[~pd.isnull(post_matrix)]\n",
    "\n",
    "\n",
    "comment_users = list(set(df_comments.iloc[:,0]) &set(df_stats[\"user_name\"]))\n",
    "df_comments = df_comments[df_comments.iloc[:,0].isin(comment_users)].drop_duplicates(subset = 0)\n",
    "comments_matrix = df_comments.to_numpy()\n",
    "del df_comments[df_comments.columns[0]]\n",
    "flat_comments = comments_matrix.flatten()\n",
    "flat_comments = flat_comments[~pd.isnull(flat_comments)]\n",
    "#comment_matrix = comment_matrix[~pd.isnull(comment_matrix)]"
   ]
  },
  {
   "cell_type": "code",
   "execution_count": 10,
   "id": "9cbc6648",
   "metadata": {},
   "outputs": [
    {
     "data": {
      "text/plain": [
       "(7166, 1003)"
      ]
     },
     "execution_count": 10,
     "metadata": {},
     "output_type": "execute_result"
    }
   ],
   "source": [
    "#len(comment_users)\n",
    "posts_matrix.shape\n",
    "#comment_matrix.shape"
   ]
  },
  {
   "cell_type": "code",
   "execution_count": 11,
   "id": "c381b689",
   "metadata": {},
   "outputs": [
    {
     "data": {
      "text/plain": [
       "array(['unpopularopinion', 'lostgeneration', 'PoliticalHumor', 'memes',\n",
       "       'politics', 'NoStupidQuestions', 'LateStageCapitalism',\n",
       "       'AskReddit', 'Showerthoughts', 'antiwork'], dtype=object)"
      ]
     },
     "execution_count": 11,
     "metadata": {},
     "output_type": "execute_result"
    }
   ],
   "source": [
    "vals,counts = np.unique(flat_posts, return_counts=True)\n",
    "index = np.argpartition(counts, -10)[-10:]\n",
    "vals[index]"
   ]
  },
  {
   "cell_type": "code",
   "execution_count": 12,
   "id": "d46af7b1",
   "metadata": {},
   "outputs": [
    {
     "data": {
      "text/plain": [
       "1       6820\n",
       "2       6569\n",
       "3       6387\n",
       "4       6191\n",
       "5       6020\n",
       "        ... \n",
       "999       39\n",
       "1000      26\n",
       "1001       5\n",
       "1002       2\n",
       "1003       1\n",
       "Length: 1003, dtype: int64"
      ]
     },
     "execution_count": 12,
     "metadata": {},
     "output_type": "execute_result"
    }
   ],
   "source": [
    "df_posts.count()"
   ]
  },
  {
   "cell_type": "code",
   "execution_count": 13,
   "id": "e1c06b13",
   "metadata": {},
   "outputs": [
    {
     "data": {
      "text/plain": [
       "array(['PublicFreakout', 'facepalm', 'politics', 'WorkReform',\n",
       "       'AmItheAsshole', 'AskReddit', 'news', 'antiwork',\n",
       "       'WhitePeopleTwitter', 'worldnews'], dtype=object)"
      ]
     },
     "execution_count": 13,
     "metadata": {},
     "output_type": "execute_result"
    }
   ],
   "source": [
    "vals,counts = np.unique(flat_comments, return_counts=True)\n",
    "index = np.argpartition(counts, -10)[-10:]\n",
    "vals[index]"
   ]
  },
  {
   "cell_type": "code",
   "execution_count": 14,
   "id": "f9676de2",
   "metadata": {},
   "outputs": [],
   "source": [
    "#Predictive model\n",
    "from sklearn.linear_model import LinearRegression\n",
    "from sklearn.preprocessing import StandardScaler\n",
    "from scipy import stats"
   ]
  },
  {
   "cell_type": "code",
   "execution_count": 15,
   "id": "97e51218",
   "metadata": {},
   "outputs": [],
   "source": [
    "#df_stats = df_stats.drop_duplicates(subset = \"user_name\")\n",
    "df_stats_posts = df_stats[df_stats['user_name'].isin(post_users)].drop_duplicates(subset = \"user_name\")\n",
    "df_stats_comments = df_stats[df_stats['user_name'].isin(comment_users)].drop_duplicates(subset = \"user_name\")\n",
    "ground_truth_post = df_stats_posts[\"post_karma\"].to_numpy()\n",
    "ground_truth_comment = df_stats_comments[\"post_karma\"].to_numpy()"
   ]
  },
  {
   "cell_type": "code",
   "execution_count": 16,
   "id": "12118763",
   "metadata": {},
   "outputs": [
    {
     "data": {
      "text/plain": [
       "(6403, 8)"
      ]
     },
     "execution_count": 16,
     "metadata": {},
     "output_type": "execute_result"
    }
   ],
   "source": [
    "df_stats_posts.shape\n",
    "df_stats_comments.shape"
   ]
  },
  {
   "cell_type": "code",
   "execution_count": 17,
   "id": "36a28282",
   "metadata": {},
   "outputs": [],
   "source": [
    "#\n",
    "pnum_aw = []\n",
    "pnum_ar = []\n",
    "pnum_st = []\n",
    "pnum_lsc = []\n",
    "pnum_nsq = []\n",
    "pnum_p = []\n",
    "pnum_m = []\n",
    "pnum_ph = []\n",
    "pnum_lg = []\n",
    "pnum_upo = []\n",
    "\n",
    "cnum_aw = []\n",
    "cnum_ar = []\n",
    "cnum_wn = []\n",
    "cnum_p = []\n",
    "cnum_aita = []\n",
    "cnum_wpt = []\n",
    "cnum_n = []\n",
    "cnum_fp = []\n",
    "cnum_lg = []\n",
    "cnum_upo = []\n",
    "\n",
    "\n",
    "for row in posts_matrix:\n",
    "    pnum_aw.append(np.count_nonzero(row == \"antiwork\"))\n",
    "    pnum_ar.append(np.count_nonzero(row == \"AskReddit\"))\n",
    "    pnum_st.append(np.count_nonzero(row == \"Showerthoughts\"))\n",
    "    pnum_lsc.append(np.count_nonzero(row == \"LateStageCapitalism\"))\n",
    "    pnum_nsq.append(np.count_nonzero(row == \"NoStupidQuestions\"))\n",
    "    pnum_p.append(np.count_nonzero(row == \"politics\"))\n",
    "    pnum_m.append(np.count_nonzero(row == \"memes\"))\n",
    "    pnum_ph.append(np.count_nonzero(row == \"PoliticalHumor\"))\n",
    "    pnum_lg.append(np.count_nonzero(row == \"lostgeneration\"))\n",
    "    pnum_upo.append(np.count_nonzero(row == \"unpopularopinion\"))\n",
    "\n",
    "for row in comments_matrix:\n",
    "    cnum_aw.append(np.count_nonzero(row == \"antiwork\"))\n",
    "    cnum_ar.append(np.count_nonzero(row == \"AskReddit\"))\n",
    "    cnum_wn.append(np.count_nonzero(row == \"worldnews\"))\n",
    "    cnum_p.append(np.count_nonzero(row == \"politics\"))\n",
    "    cnum_aita.append(np.count_nonzero(row == \"AmItheAsshole\"))\n",
    "    cnum_wpt.append(np.count_nonzero(row == \"WhitePeopleTwitter\"))\n",
    "    cnum_n.append(np.count_nonzero(row == \"news\"))\n",
    "    cnum_fp.append(np.count_nonzero(row == \"facepalm\"))\n",
    "    \n"
   ]
  },
  {
   "cell_type": "code",
   "execution_count": 18,
   "id": "493b5e7e",
   "metadata": {},
   "outputs": [],
   "source": [
    "pnum_aw = np.array(pnum_aw, ndmin=2)\n",
    "pnum_ar = np.array(pnum_ar,ndmin=2)\n",
    "pnum_st = np.array(pnum_st, ndmin=2)\n",
    "pnum_lsc = np.array(pnum_lsc, ndmin=2)\n",
    "pnum_nsq = np.array(pnum_nsq, ndmin=2)\n",
    "pnum_p = np.array(pnum_p, ndmin=2)\n",
    "pnum_m = np.array(pnum_m, ndmin=2)\n",
    "pnum_ph = np.array(pnum_ph, ndmin=2)\n",
    "pnum_lg = np.array(pnum_lg, ndmin=2)\n",
    "pnum_upo = np.array(pnum_upo, ndmin=2)\n",
    "\n",
    "cnum_aw = np.array(cnum_aw, ndmin=2)\n",
    "cnum_ar = np.array(cnum_ar, ndmin=2)\n",
    "cnum_wn = np.array(cnum_wn, ndmin=2)\n",
    "cnum_p = np.array(cnum_p, ndmin=2)\n",
    "cnum_aita = np.array(cnum_aita, ndmin=2)\n",
    "cnum_wpt = np.array(cnum_wpt, ndmin=2)\n",
    "cnum_n = np.array(cnum_n, ndmin=2)\n",
    "cnum_fp = np.array(cnum_fp, ndmin=2)"
   ]
  },
  {
   "cell_type": "code",
   "execution_count": 19,
   "id": "16d5399d",
   "metadata": {},
   "outputs": [],
   "source": [
    "#concatenate x_vals\n",
    "X_post = np.concatenate((pnum_aw, pnum_ar, pnum_st, pnum_lsc, pnum_nsq, pnum_p, pnum_m,\n",
    "                 pnum_ph, pnum_lg, pnum_upo), axis = 0).T\n",
    "X_comment = np.concatenate((cnum_aw, cnum_ar, cnum_wn, cnum_p, cnum_aita, cnum_wpt, cnum_n, cnum_fp), axis = 0).T"
   ]
  },
  {
   "cell_type": "code",
   "execution_count": 20,
   "id": "c64ff9d8",
   "metadata": {},
   "outputs": [],
   "source": [
    "#standardizing\n",
    "scaler = StandardScaler()\n",
    "Xs_post = scaler.fit_transform(X_post)\n",
    "Xs_comment = scaler.fit_transform(X_comment)"
   ]
  },
  {
   "cell_type": "code",
   "execution_count": 21,
   "id": "d90abf12",
   "metadata": {},
   "outputs": [
    {
     "name": "stdout",
     "output_type": "stream",
     "text": [
      "0.237346862266701\n"
     ]
    },
    {
     "data": {
      "text/plain": [
       "array([5937.29328581,   37.13756363,  373.92586002,  611.68332914,\n",
       "         94.05473076, -257.86299196,  194.70325117,  109.95520986,\n",
       "        787.83078362,  -16.40749527])"
      ]
     },
     "execution_count": 21,
     "metadata": {},
     "output_type": "execute_result"
    }
   ],
   "source": [
    "#Post Regression\n",
    "post_reg = LinearRegression().fit(Xs_post, ground_truth_post)\n",
    "\n",
    "print(post_reg.score(Xs_post, ground_truth_post))\n",
    "post_reg.coef_"
   ]
  },
  {
   "cell_type": "code",
   "execution_count": 22,
   "id": "50caffaf",
   "metadata": {},
   "outputs": [
    {
     "name": "stdout",
     "output_type": "stream",
     "text": [
      "0.0028627584593269306\n"
     ]
    },
    {
     "data": {
      "text/plain": [
       "array([ 477.3563337 ,   54.2479749 , -146.05067414, -212.45103127,\n",
       "       -219.07955377,  -29.28471388, -246.55633835, -209.51881827])"
      ]
     },
     "execution_count": 22,
     "metadata": {},
     "output_type": "execute_result"
    }
   ],
   "source": [
    "#Comment Regression\n",
    "comment_reg = LinearRegression().fit(Xs_comment, ground_truth_comment)\n",
    "print(comment_reg.score(Xs_comment, ground_truth_comment))\n",
    "comment_reg.coef_"
   ]
  },
  {
   "cell_type": "code",
   "execution_count": null,
   "id": "0030020c",
   "metadata": {},
   "outputs": [],
   "source": []
  }
 ],
 "metadata": {
  "kernelspec": {
   "display_name": "Python 3 (ipykernel)",
   "language": "python",
   "name": "python3"
  },
  "language_info": {
   "codemirror_mode": {
    "name": "ipython",
    "version": 3
   },
   "file_extension": ".py",
   "mimetype": "text/x-python",
   "name": "python",
   "nbconvert_exporter": "python",
   "pygments_lexer": "ipython3",
   "version": "3.9.7"
  }
 },
 "nbformat": 4,
 "nbformat_minor": 5
}
