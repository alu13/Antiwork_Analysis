{
 "cells": [
  {
   "cell_type": "code",
   "execution_count": 1,
   "metadata": {},
   "outputs": [],
   "source": [
    "import datetime\n",
    "import statsmodels.formula.api as smf\n",
    "import numpy as np\n",
    "import pandas as pd\n",
    "import polars as pl\n",
    "import sqlite3\n",
    "\n",
    "DATA_PATH = \"../../data/users/\"\n",
    "recent_posts = DATA_PATH + \"recent/recent-posts-batch-*.csv\"\n",
    "DB_PATH = DATA_PATH + \"users.sqlite.db\""
   ]
  },
  {
   "cell_type": "markdown",
   "metadata": {},
   "source": [
    "## Combining all information into a dataset for regression"
   ]
  },
  {
   "cell_type": "code",
   "execution_count": 3,
   "metadata": {},
   "outputs": [],
   "source": [
    "conn = sqlite3.connect(DB_PATH)"
   ]
  },
  {
   "cell_type": "code",
   "execution_count": null,
   "metadata": {},
   "outputs": [],
   "source": [
    "posts = pl.scan_csv(recent_posts).collect()\n",
    "posts.to_pandas().to_sql(\"posts\", conn, index=False)"
   ]
  },
  {
   "cell_type": "code",
   "execution_count": 16,
   "metadata": {},
   "outputs": [],
   "source": [
    "sql = \"\"\"\n",
    "SELECT \n",
    "    posts.post_id, posts.post_karma, posts.user_name,\n",
    "    users_cutoff.no_posts, users_cutoff.no_comments, users_cutoff.avg_post_karma,\n",
    "    users_cutoff.post_karma as total_post_karma, users_cutoff.longevity, \n",
    "    users.indirect_pg,\n",
    "    topics.topic\n",
    "    FROM posts\n",
    "    JOIN users_cutoff ON users_cutoff.user_name = posts.user_name\n",
    "    JOIN users ON users.user_name = users_cutoff.user_name\n",
    "    LEFT JOIN topics ON topics.id = posts.post_id\n",
    "    \"\"\"\n",
    "\n",
    "joined = pd.read_sql(sql, conn)"
   ]
  },
  {
   "cell_type": "markdown",
   "metadata": {},
   "source": [
    "## Regression analysis"
   ]
  },
  {
   "cell_type": "code",
   "execution_count": 17,
   "metadata": {},
   "outputs": [],
   "source": [
    "data = joined.drop([\"post_id\", \"user_name\"], axis=1)\n",
    "data['topic'] = data['topic'].astype(\"category\")\n",
    "data = pd.get_dummies(data)\n",
    "topic_cols = {\"topic_\" + str(float(i)) : \"topic_\" + str(i) for i in range(25)}\n",
    "data = data.rename(topic_cols, axis=1)"
   ]
  },
  {
   "cell_type": "markdown",
   "metadata": {},
   "source": [
    "## Log-based specification\n",
    "\n",
    "`'log(post_karma) ~ log(no_posts) + log(no_comments) + avg_post_karma + log(total_post_kmarma) + log(longevity) + topic'`"
   ]
  },
  {
   "cell_type": "code",
   "execution_count": 18,
   "metadata": {},
   "outputs": [
    {
     "name": "stdout",
     "output_type": "stream",
     "text": [
      "                                OLS Regression Results                                \n",
      "======================================================================================\n",
      "Dep. Variable:     np.log(post_karma + 0.001)   R-squared:                       0.186\n",
      "Model:                                    OLS   Adj. R-squared:                  0.161\n",
      "Method:                         Least Squares   F-statistic:                     7.418\n",
      "Date:                        Wed, 27 Apr 2022   Prob (F-statistic):           1.71e-28\n",
      "Time:                                02:18:48   Log-Likelihood:                -2519.8\n",
      "No. Observations:                        1041   AIC:                             5104.\n",
      "Df Residuals:                            1009   BIC:                             5262.\n",
      "Df Model:                                  31                                         \n",
      "Covariance Type:                    nonrobust                                         \n",
      "====================================================================================================\n",
      "                                       coef    std err          t      P>|t|      [0.025      0.975]\n",
      "----------------------------------------------------------------------------------------------------\n",
      "Intercept                           -2.5329      3.155     -0.803      0.422      -8.724       3.658\n",
      "np.log(no_posts + 0.001)            -0.5485      0.092     -5.983      0.000      -0.728      -0.369\n",
      "np.log(no_comments + 0.001)          0.0965      0.068      1.424      0.155      -0.036       0.229\n",
      "avg_post_karma                   -1.287e-05   8.81e-05     -0.146      0.884      -0.000       0.000\n",
      "np.log(total_post_karma + 0.001)     0.3664      0.061      6.040      0.000       0.247       0.485\n",
      "np.log(longevity + 0.000)            0.0038      0.097      0.039      0.969      -0.187       0.195\n",
      "np.log(indirect_pg)                 -0.4039      0.321     -1.258      0.209      -1.034       0.226\n",
      "topic_0                             -4.4197      0.887     -4.985      0.000      -6.160      -2.680\n",
      "topic_1                             -1.1662      0.630     -1.850      0.065      -2.403       0.070\n",
      "topic_2                              0.5752      0.545      1.056      0.291      -0.494       1.644\n",
      "topic_3                              1.3151      0.931      1.413      0.158      -0.512       3.142\n",
      "topic_4                             -0.0179      0.446     -0.040      0.968      -0.894       0.858\n",
      "topic_5                              0.5954      0.988      0.603      0.547      -1.343       2.533\n",
      "topic_6                             -1.2248      1.138     -1.076      0.282      -3.458       1.008\n",
      "topic_7                             -0.2973      0.808     -0.368      0.713      -1.882       1.288\n",
      "topic_8                             -0.3968      0.416     -0.954      0.341      -1.213       0.420\n",
      "topic_9                              1.3535      1.607      0.842      0.400      -1.799       4.506\n",
      "topic_10                             0.0958      2.770      0.035      0.972      -5.340       5.532\n",
      "topic_11                            -3.9957      2.773     -1.441      0.150      -9.436       1.445\n",
      "topic_12                             0.2168      1.246      0.174      0.862      -2.228       2.662\n",
      "topic_13                             0.5347      0.991      0.539      0.590      -1.411       2.480\n",
      "topic_14                            -2.5868      0.845     -3.060      0.002      -4.246      -0.928\n",
      "topic_15                             0.3248      1.136      0.286      0.775      -1.903       2.553\n",
      "topic_16                            -1.3558      0.776     -1.748      0.081      -2.878       0.167\n",
      "topic_17                            -1.9004      1.058     -1.796      0.073      -3.977       0.176\n",
      "topic_18                            -2.1628      0.931     -2.323      0.020      -3.990      -0.336\n",
      "topic_19                            -0.5104      1.603     -0.318      0.750      -3.657       2.636\n",
      "topic_20                             1.5245      1.135      1.343      0.180      -0.703       3.752\n",
      "topic_21                            -2.1010      0.846     -2.482      0.013      -3.762      -0.440\n",
      "topic_22                            -1.3872      1.053     -1.317      0.188      -3.454       0.680\n",
      "topic_23                             0.7427      1.605      0.463      0.644      -2.406       3.892\n",
      "topic_24                             1.2517      1.139      1.099      0.272      -0.983       3.486\n",
      "==============================================================================\n",
      "Omnibus:                      200.147   Durbin-Watson:                   2.007\n",
      "Prob(Omnibus):                  0.000   Jarque-Bera (JB):              804.305\n",
      "Skew:                          -0.861   Prob(JB):                    2.23e-175\n",
      "Kurtosis:                       6.947   Cond. No.                     5.09e+04\n",
      "==============================================================================\n",
      "\n",
      "Notes:\n",
      "[1] Standard Errors assume that the covariance matrix of the errors is correctly specified.\n",
      "[2] The condition number is large, 5.09e+04. This might indicate that there are\n",
      "strong multicollinearity or other numerical problems.\n"
     ]
    },
    {
     "name": "stderr",
     "output_type": "stream",
     "text": [
      "/home/aurimas/apps/anaconda3/envs/css/lib/python3.9/site-packages/pandas/core/arraylike.py:397: RuntimeWarning: invalid value encountered in log\n",
      "  result = getattr(ufunc, method)(*inputs, **kwargs)\n"
     ]
    }
   ],
   "source": [
    "formula = \"\"\"np.log(post_karma + 0.001) ~ np.log(no_posts + 0.001) + \n",
    "    np.log(no_comments + 0.001) + avg_post_karma + \n",
    "    np.log(total_post_karma + 0.001) + np.log(longevity + 0.000) + np.log(indirect_pg)\"\"\"\n",
    "\n",
    "formula = formula  + \" + \" +  \" + \".join(topic_cols.values())\n",
    "\n",
    "results = smf.ols(formula, data=data).fit()\n",
    "print(results.summary())"
   ]
  },
  {
   "cell_type": "markdown",
   "metadata": {},
   "source": [
    "## Different model specifications\n",
    "### Simple linear model as per Kilgo et al.\n",
    "`'post_karma ~ total_post_karma + longevity'`"
   ]
  },
  {
   "cell_type": "code",
   "execution_count": 8,
   "metadata": {},
   "outputs": [
    {
     "name": "stdout",
     "output_type": "stream",
     "text": [
      "                            OLS Regression Results                            \n",
      "==============================================================================\n",
      "Dep. Variable:             post_karma   R-squared:                       0.003\n",
      "Model:                            OLS   Adj. R-squared:                  0.002\n",
      "Method:                 Least Squares   F-statistic:                     7.551\n",
      "Date:                Wed, 27 Apr 2022   Prob (F-statistic):           0.000531\n",
      "Time:                        02:12:17   Log-Likelihood:                -53520.\n",
      "No. Observations:                5527   AIC:                         1.070e+05\n",
      "Df Residuals:                    5524   BIC:                         1.071e+05\n",
      "Df Model:                           2                                         \n",
      "Covariance Type:            nonrobust                                         \n",
      "====================================================================================\n",
      "                       coef    std err          t      P>|t|      [0.025      0.975]\n",
      "------------------------------------------------------------------------------------\n",
      "Intercept          525.5993     62.384      8.425      0.000     403.302     647.896\n",
      "total_post_karma     0.0094      0.002      3.882      0.000       0.005       0.014\n",
      "longevity           -0.2649      0.399     -0.663      0.507      -1.048       0.518\n",
      "==============================================================================\n",
      "Omnibus:                    10324.253   Durbin-Watson:                   1.651\n",
      "Prob(Omnibus):                  0.000   Jarque-Bera (JB):         15103502.356\n",
      "Skew:                          14.161   Prob(JB):                         0.00\n",
      "Kurtosis:                     257.523   Cond. No.                     2.68e+04\n",
      "==============================================================================\n",
      "\n",
      "Notes:\n",
      "[1] Standard Errors assume that the covariance matrix of the errors is correctly specified.\n",
      "[2] The condition number is large, 2.68e+04. This might indicate that there are\n",
      "strong multicollinearity or other numerical problems.\n"
     ]
    }
   ],
   "source": [
    "formula = 'post_karma ~ total_post_karma + longevity'\n",
    "\n",
    "results = smf.ols(formula, data=data).fit()\n",
    "print(results.summary())"
   ]
  }
 ],
 "metadata": {
  "interpreter": {
   "hash": "458e57744219fd35e36fe617bee87769eccb7cd58eff0111259e94f378fae128"
  },
  "kernelspec": {
   "display_name": "css",
   "language": "python",
   "name": "css"
  },
  "language_info": {
   "codemirror_mode": {
    "name": "ipython",
    "version": 3
   },
   "file_extension": ".py",
   "mimetype": "text/x-python",
   "name": "python",
   "nbconvert_exporter": "python",
   "pygments_lexer": "ipython3",
   "version": "3.9.7"
  }
 },
 "nbformat": 4,
 "nbformat_minor": 4
}
