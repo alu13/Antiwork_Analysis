{
 "cells": [
  {
   "cell_type": "markdown",
   "metadata": {},
   "source": [
    "# Constructing sparse user adjacency matrices\n",
    "\n",
    "This notebook constructs sparse interaction user matrices for downstream clustering / other analysis tasks."
   ]
  },
  {
   "cell_type": "code",
   "execution_count": 1,
   "metadata": {},
   "outputs": [],
   "source": [
    "from pathlib import Path\n",
    "import csv\n",
    "import json\n",
    "import ctypes as ct\n",
    "from tqdm import tqdm\n",
    "import sqlite3 as sq\n",
    "import numpy as np\n",
    "import scipy.sparse as sps\n",
    "\n",
    "csv.field_size_limit(int(ct.c_ulong(-1).value // 2))\n",
    "\n",
    "path = \"../../../data/users/\"\n",
    "DB_path = path + 'users.sqlite.db'"
   ]
  },
  {
   "cell_type": "markdown",
   "metadata": {},
   "source": [
    "## Adding an identifier to SQL database that can be mapped to the adjacency matrices"
   ]
  },
  {
   "cell_type": "code",
   "execution_count": 2,
   "metadata": {},
   "outputs": [
    {
     "name": "stdout",
     "output_type": "stream",
     "text": [
      "columns already exist\n"
     ]
    }
   ],
   "source": [
    "with sq.connect(DB_path) as conn:\n",
    "    cur = conn.cursor()    \n",
    "    try:\n",
    "        cur.execute(\"ALTER TABLE users ADD COLUMN matrix_id int\")        \n",
    "        cur.execute(\"drop table if exists tmp;\")\n",
    "        cur.execute(\"\"\"\n",
    "            CREATE TABLE tmp as \n",
    "                SELECT user_name, row_number() over (order by total_activity DESC) as no FROM users WHERE is_selected = True;\"\"\"\n",
    "        )\n",
    "\n",
    "        cur.execute(\"CREATE INDEX IF NOT EXISTS user_name_idx ON tmp(user_name)\")\n",
    "\n",
    "        cur.execute(\"UPDATE users SET matrix_id = (SELECT no FROM tmp WHERE tmp.user_name = users.user_name);\")\n",
    "        cur.execute(\"drop table if exists tmp;\")\n",
    "    except sq.OperationalError:\n",
    "        print(\"columns already exist\")"
   ]
  },
  {
   "cell_type": "code",
   "execution_count": 7,
   "metadata": {},
   "outputs": [
    {
     "name": "stdout",
     "output_type": "stream",
     "text": [
      "Total number of users: 7807\n"
     ]
    }
   ],
   "source": [
    "#retrieving a dictionary to map user names to IDs\n",
    "with sq.connect(DB_path) as conn:\n",
    "    cur = conn.cursor()    \n",
    "    cur.execute(\"SELECT user_name, matrix_id FROM users WHERE matrix_id IS NOT NULL\")\n",
    "    mapped = dict(cur.fetchall())\n",
    "\n",
    "print(\"Total number of users: {}\".format(len(mapped)))\n"
   ]
  },
  {
   "cell_type": "code",
   "execution_count": 8,
   "metadata": {},
   "outputs": [
    {
     "name": "stdout",
     "output_type": "stream",
     "text": [
      "Total files to be processed: 489\n"
     ]
    }
   ],
   "source": [
    "files = [f.absolute() for f in Path(path + 'raw/').glob(\"*.csv\")]\n",
    "print(\"Total files to be processed: {}\".format(len(files)))"
   ]
  },
  {
   "cell_type": "code",
   "execution_count": 13,
   "metadata": {},
   "outputs": [],
   "source": [
    "no_users = len(mapped)\n",
    "int_dict = {\n",
    "    \"indirects\": {\n",
    "        \"data_col\": 5,\n",
    "        \"matrix\": np.zeros((no_users, no_users))\n",
    "    },\n",
    "    \"directs\": {\n",
    "        \"data_col\": 4,\n",
    "        \"matrix\": np.zeros((no_users, no_users))\n",
    "    }\n",
    "}"
   ]
  },
  {
   "cell_type": "code",
   "execution_count": 14,
   "metadata": {},
   "outputs": [
    {
     "name": "stderr",
     "output_type": "stream",
     "text": [
      "100%|███████████████████████████████████████████████████████████████████████████████| 489/489 [1:14:50<00:00,  9.18s/it]\n"
     ]
    }
   ],
   "source": [
    "for f in tqdm(files):        \n",
    "    with open(f) as file:\n",
    "        reader = csv.reader(file, delimiter=',')\n",
    "        next(reader) #skip the header\n",
    "        for row in reader:\n",
    "            for d in int_dict.values():\n",
    "                interactions = json.loads(row[d['data_col']]) #get interaction dictionary\n",
    "                user_name = row[8]\n",
    "                for interlocutor, intensity in interactions.items():                \n",
    "                    #get IDs\n",
    "                    try:\n",
    "                        userid = mapped[user_name] - 1 # matrix_ids are 1-indexed in the DB!\n",
    "                        interid = mapped[interlocutor] - 1\n",
    "                        #update the adjacency matrix\n",
    "                        d['matrix'][userid, interid] += intensity\n",
    "                    except KeyError:\n",
    "                        # ignore cases where there is no user in the mapped list\n",
    "                        # this only happens because mapped list is pre-filtered\n",
    "                        pass"
   ]
  },
  {
   "cell_type": "code",
   "execution_count": 15,
   "metadata": {},
   "outputs": [],
   "source": [
    "for int_name, int_vals in int_dict.items():\n",
    "    #then, generate a scipy matrix with condensed info and save\n",
    "    sparse_matrix = sps.csr_matrix(int_vals['matrix'])\n",
    "    adj_matrix_path = f\"{path}adj_matrix-{int_name}-latest.npz\"\n",
    "    sps.save_npz(adj_matrix_path, sparse_matrix)"
   ]
  },
  {
   "cell_type": "code",
   "execution_count": null,
   "metadata": {},
   "outputs": [],
   "source": []
  }
 ],
 "metadata": {
  "interpreter": {
   "hash": "458e57744219fd35e36fe617bee87769eccb7cd58eff0111259e94f378fae128"
  },
  "kernelspec": {
   "display_name": "Python 3 (ipykernel)",
   "language": "python",
   "name": "python3"
  },
  "language_info": {
   "codemirror_mode": {
    "name": "ipython",
    "version": 3
   },
   "file_extension": ".py",
   "mimetype": "text/x-python",
   "name": "python",
   "nbconvert_exporter": "python",
   "pygments_lexer": "ipython3",
   "version": "3.8.10"
  }
 },
 "nbformat": 4,
 "nbformat_minor": 4
}
