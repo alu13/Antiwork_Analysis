{
 "cells": [
  {
   "cell_type": "markdown",
   "id": "7bade817",
   "metadata": {},
   "source": [
    "## Visualization of topic distributions across user groups"
   ]
  },
  {
   "cell_type": "code",
   "execution_count": 1,
   "id": "d9b83603-84db-4abf-b8de-4f14490de42a",
   "metadata": {},
   "outputs": [],
   "source": [
    "import polars as pl\n",
    "import pandas as pd\n",
    "import altair as alt\n",
    "import sqlite3\n",
    "from pathlib import Path\n",
    "import re\n",
    "\n",
    "path = \"../../data/\"\n",
    "DB_PATH = path + 'users/users.sqlite.db'"
   ]
  },
  {
   "cell_type": "code",
   "execution_count": 2,
   "id": "1ebcd8b6-5ac5-4878-9a7a-55c8f9a6e4fe",
   "metadata": {},
   "outputs": [
    {
     "data": {
      "text/plain": [
       "<sqlite3.Cursor at 0x7f21882def10>"
      ]
     },
     "execution_count": 2,
     "metadata": {},
     "output_type": "execute_result"
    }
   ],
   "source": [
    "conn = sqlite3.connect(Path(DB_PATH).absolute())\n",
    "\n",
    "#push submission_id authors into SQLite\n",
    "pattern = re.compile(\"\\d+-\\d.csv\")\n",
    "all_files = Path(path + \"submissions/raw\").glob(\"**/????-*.csv\")\n",
    "df = pd.concat([pd.read_csv(f) for f in all_files])    \n",
    "df[['id', 'author']].to_sql(\"authors\", conn, index=False, if_exists='replace')\n",
    "\n",
    "#push topic labels into SQLite\n",
    "df = pd.read_csv(path + \"submissions/raw/50th_labels.csv\")\n",
    "df[[\"topic\", \"id\"]].to_sql(\"topics\", conn, index=False, if_exists=\"replace\")\n",
    "\n",
    "cur = conn.cursor()\n",
    "cur.execute(\"CREATE INDEX IF NOT EXISTS sub_id ON topics(id)\")\n",
    "cur.execute(\"CREATE INDEX IF NOT EXISTS sub_id ON authors(id)\")\n",
    "cur.execute(\"CREATE INDEX IF NOT EXISTS user_name_index ON authors(author)\")\n",
    "cur.execute(\"CREATE INDEX IF NOT EXISTS topic_index ON topics(topic)\")"
   ]
  },
  {
   "cell_type": "code",
   "execution_count": 3,
   "id": "092f0bc9",
   "metadata": {},
   "outputs": [],
   "source": [
    "cur.execute(\"SELECT topic, COUNT(id) FROM topics GROUP BY topic ORDER BY topic ASC\")\n",
    "simple_counts = pd.DataFrame(cur.fetchall(), columns=['topic', \"count\"])\n",
    "simple_counts['type'] = 'All users'\n",
    "simple_counts['density'] = simple_counts['count'] / simple_counts['count'].sum()"
   ]
  },
  {
   "cell_type": "code",
   "execution_count": 4,
   "id": "252a1ee4",
   "metadata": {},
   "outputs": [],
   "source": [
    "sql = \"\"\"\n",
    "SELECT topic, COUNT(topics.id) FROM topics \n",
    "JOIN authors ON topics.id = authors.id \n",
    "JOIN users ON users.user_name = authors.author\n",
    "WHERE users.is_selected\n",
    "GROUP BY topic ORDER BY topic ASC\n",
    "\"\"\"\n",
    "\n",
    "cur.execute(sql)\n",
    "selected_user_counts = pd.DataFrame(cur.fetchall(), columns=['topic', \"count\"])\n",
    "selected_user_counts['type'] = 'Most active users'\n",
    "selected_user_counts['density'] = selected_user_counts['count'] / selected_user_counts['count'].sum()"
   ]
  },
  {
   "cell_type": "code",
   "execution_count": 15,
   "id": "ad980349",
   "metadata": {},
   "outputs": [],
   "source": [
    "sql = \"\"\"\n",
    "WITH user_level AS (\n",
    "    SELECT topic, user_name, COUNT(topics.id) * direct_pg as c FROM topics \n",
    "    JOIN authors ON topics.id = authors.id \n",
    "    JOIN users ON users.user_name = authors.author\n",
    "    WHERE users.is_selected\n",
    "    GROUP BY topic, user_name\n",
    ")\n",
    "\n",
    "SELECT topic, SUM(c) FROM user_level\n",
    "    GROUP BY topic \n",
    "    ORDER BY topic ASC\n",
    "\"\"\"\n",
    "\n",
    "cur.execute(sql)\n",
    "direct_pg_counts = pd.DataFrame(cur.fetchall(), columns=['topic', \"count\"])\n",
    "direct_pg_counts['type'] = 'Weighted by direct connectedness'\n",
    "direct_pg_counts['density'] = direct_pg_counts['count'] / direct_pg_counts['count'].sum()"
   ]
  },
  {
   "cell_type": "code",
   "execution_count": 16,
   "id": "32542c8b",
   "metadata": {},
   "outputs": [],
   "source": [
    "sql = \"\"\"\n",
    "WITH user_level AS (\n",
    "    SELECT topic, user_name, COUNT(topics.id) * indirect_pg as c FROM topics \n",
    "    JOIN authors ON topics.id = authors.id \n",
    "    JOIN users ON users.user_name = authors.author\n",
    "    WHERE users.is_selected\n",
    "    GROUP BY topic, user_name\n",
    ")\n",
    "\n",
    "SELECT topic, SUM(c) FROM user_level\n",
    "    GROUP BY topic \n",
    "    ORDER BY topic ASC\n",
    "\"\"\"\n",
    "\n",
    "cur.execute(sql)\n",
    "indirect_pg_counts = pd.DataFrame(cur.fetchall(), columns=['topic', \"count\"])\n",
    "indirect_pg_counts['type'] = 'Weighted by indirect connectedness'\n",
    "indirect_pg_counts['density'] = indirect_pg_counts['count'] / indirect_pg_counts['count'].sum()"
   ]
  },
  {
   "cell_type": "code",
   "execution_count": 18,
   "id": "992bb7d4",
   "metadata": {},
   "outputs": [],
   "source": [
    "sql = \"\"\"\n",
    "WITH user_level AS (\n",
    "    SELECT topic, user_name, COUNT(topics.id) as c FROM topics \n",
    "    JOIN authors ON topics.id = authors.id \n",
    "    JOIN users ON users.user_name = authors.author\n",
    "    WHERE users.is_selected AND indirect_cluster = 10\n",
    "    GROUP BY topic, user_name\n",
    ")\n",
    "\n",
    "SELECT topic, SUM(c) FROM user_level\n",
    "    GROUP BY topic \n",
    "    ORDER BY topic ASC\n",
    "\"\"\"\n",
    "\n",
    "cur.execute(sql)\n",
    "cluster10 = pd.DataFrame(cur.fetchall(), columns=['topic', \"count\"])\n",
    "cluster10['type'] = 'User cluster #10'\n",
    "cluster10['density'] = cluster10['count'] / cluster10['count'].sum()"
   ]
  },
  {
   "cell_type": "code",
   "execution_count": 19,
   "id": "4d78ca30",
   "metadata": {},
   "outputs": [
    {
     "data": {
      "text/html": [
       "\n",
       "<div id=\"altair-viz-d69f0ca64c33404193e1a5d7923626a0\"></div>\n",
       "<script type=\"text/javascript\">\n",
       "  var VEGA_DEBUG = (typeof VEGA_DEBUG == \"undefined\") ? {} : VEGA_DEBUG;\n",
       "  (function(spec, embedOpt){\n",
       "    let outputDiv = document.currentScript.previousElementSibling;\n",
       "    if (outputDiv.id !== \"altair-viz-d69f0ca64c33404193e1a5d7923626a0\") {\n",
       "      outputDiv = document.getElementById(\"altair-viz-d69f0ca64c33404193e1a5d7923626a0\");\n",
       "    }\n",
       "    const paths = {\n",
       "      \"vega\": \"https://cdn.jsdelivr.net/npm//vega@5?noext\",\n",
       "      \"vega-lib\": \"https://cdn.jsdelivr.net/npm//vega-lib?noext\",\n",
       "      \"vega-lite\": \"https://cdn.jsdelivr.net/npm//vega-lite@4.17.0?noext\",\n",
       "      \"vega-embed\": \"https://cdn.jsdelivr.net/npm//vega-embed@6?noext\",\n",
       "    };\n",
       "\n",
       "    function maybeLoadScript(lib, version) {\n",
       "      var key = `${lib.replace(\"-\", \"\")}_version`;\n",
       "      return (VEGA_DEBUG[key] == version) ?\n",
       "        Promise.resolve(paths[lib]) :\n",
       "        new Promise(function(resolve, reject) {\n",
       "          var s = document.createElement('script');\n",
       "          document.getElementsByTagName(\"head\")[0].appendChild(s);\n",
       "          s.async = true;\n",
       "          s.onload = () => {\n",
       "            VEGA_DEBUG[key] = version;\n",
       "            return resolve(paths[lib]);\n",
       "          };\n",
       "          s.onerror = () => reject(`Error loading script: ${paths[lib]}`);\n",
       "          s.src = paths[lib];\n",
       "        });\n",
       "    }\n",
       "\n",
       "    function showError(err) {\n",
       "      outputDiv.innerHTML = `<div class=\"error\" style=\"color:red;\">${err}</div>`;\n",
       "      throw err;\n",
       "    }\n",
       "\n",
       "    function displayChart(vegaEmbed) {\n",
       "      vegaEmbed(outputDiv, spec, embedOpt)\n",
       "        .catch(err => showError(`Javascript Error: ${err.message}<br>This usually means there's a typo in your chart specification. See the javascript console for the full traceback.`));\n",
       "    }\n",
       "\n",
       "    if(typeof define === \"function\" && define.amd) {\n",
       "      requirejs.config({paths});\n",
       "      require([\"vega-embed\"], displayChart, err => showError(`Error loading script: ${err.message}`));\n",
       "    } else {\n",
       "      maybeLoadScript(\"vega\", \"5\")\n",
       "        .then(() => maybeLoadScript(\"vega-lite\", \"4.17.0\"))\n",
       "        .then(() => maybeLoadScript(\"vega-embed\", \"6\"))\n",
       "        .catch(showError)\n",
       "        .then(() => displayChart(vegaEmbed));\n",
       "    }\n",
       "  })({\"config\": {\"view\": {\"continuousWidth\": 400, \"continuousHeight\": 300}}, \"data\": {\"name\": \"data-aad6f8e2c980edfb280955a664fc3da2\"}, \"mark\": \"bar\", \"encoding\": {\"color\": {\"field\": \"type\", \"legend\": {\"orient\": \"bottom\", \"title\": \"\"}, \"type\": \"nominal\"}, \"column\": {\"field\": \"topic\", \"spacing\": 4, \"type\": \"ordinal\"}, \"x\": {\"axis\": {\"labelExpr\": \"\"}, \"field\": \"type\", \"title\": \"\", \"type\": \"nominal\"}, \"y\": {\"axis\": {\"grid\": false}, \"field\": \"density\", \"type\": \"quantitative\"}}, \"height\": 300, \"width\": 30, \"$schema\": \"https://vega.github.io/schema/vega-lite/v4.17.0.json\", \"datasets\": {\"data-aad6f8e2c980edfb280955a664fc3da2\": [{\"topic\": 0, \"count\": 4506.0, \"type\": \"All users\", \"density\": 0.05631092226943264}, {\"topic\": 1, \"count\": 5691.0, \"type\": \"All users\", \"density\": 0.0711197200699825}, {\"topic\": 2, \"count\": 5711.0, \"type\": \"All users\", \"density\": 0.0713696575856036}, {\"topic\": 3, \"count\": 1352.0, \"type\": \"All users\", \"density\": 0.016895776055986002}, {\"topic\": 4, \"count\": 13656.0, \"type\": \"All users\", \"density\": 0.1706573356660835}, {\"topic\": 5, \"count\": 2745.0, \"type\": \"All users\", \"density\": 0.03430392401899525}, {\"topic\": 6, \"count\": 1402.0, \"type\": \"All users\", \"density\": 0.01752061984503874}, {\"topic\": 7, \"count\": 8438.0, \"type\": \"All users\", \"density\": 0.10544863784053987}, {\"topic\": 8, \"count\": 6081.0, \"type\": \"All users\", \"density\": 0.07599350162459385}, {\"topic\": 9, \"count\": 1587.0, \"type\": \"All users\", \"density\": 0.019832541864533867}, {\"topic\": 10, \"count\": 2023.0, \"type\": \"All users\", \"density\": 0.025281179705073733}, {\"topic\": 11, \"count\": 948.0, \"type\": \"All users\", \"density\": 0.01184703824043989}, {\"topic\": 12, \"count\": 961.0, \"type\": \"All users\", \"density\": 0.012009497625593602}, {\"topic\": 13, \"count\": 1056.0, \"type\": \"All users\", \"density\": 0.013196700824793801}, {\"topic\": 14, \"count\": 1836.0, \"type\": \"All users\", \"density\": 0.022944263934016496}, {\"topic\": 15, \"count\": 1511.0, \"type\": \"All users\", \"density\": 0.018882779305173708}, {\"topic\": 16, \"count\": 2321.0, \"type\": \"All users\", \"density\": 0.029005248687828042}, {\"topic\": 17, \"count\": 1017.0, \"type\": \"All users\", \"density\": 0.012709322669332666}, {\"topic\": 18, \"count\": 3196.0, \"type\": \"All users\", \"density\": 0.03994001499625094}, {\"topic\": 19, \"count\": 1716.0, \"type\": \"All users\", \"density\": 0.021444638840289926}, {\"topic\": 20, \"count\": 1108.0, \"type\": \"All users\", \"density\": 0.013846538365408648}, {\"topic\": 21, \"count\": 2321.0, \"type\": \"All users\", \"density\": 0.029005248687828042}, {\"topic\": 22, \"count\": 3202.0, \"type\": \"All users\", \"density\": 0.04001499625093727}, {\"topic\": 23, \"count\": 2653.0, \"type\": \"All users\", \"density\": 0.03315421144713822}, {\"topic\": 24, \"count\": 2982.0, \"type\": \"All users\", \"density\": 0.03726568357910522}, {\"topic\": 0, \"count\": 752.0, \"type\": \"Most active users\", \"density\": 0.06231872047733488}, {\"topic\": 1, \"count\": 538.0, \"type\": \"Most active users\", \"density\": 0.04458440374575288}, {\"topic\": 2, \"count\": 1071.0, \"type\": \"Most active users\", \"density\": 0.08875445429684263}, {\"topic\": 3, \"count\": 262.0, \"type\": \"Most active users\", \"density\": 0.021712107400348058}, {\"topic\": 4, \"count\": 1313.0, \"type\": \"Most active users\", \"density\": 0.10880914891853816}, {\"topic\": 5, \"count\": 446.0, \"type\": \"Most active users\", \"density\": 0.03696030496395127}, {\"topic\": 6, \"count\": 255.0, \"type\": \"Most active users\", \"density\": 0.021132012927819674}, {\"topic\": 7, \"count\": 1025.0, \"type\": \"Most active users\", \"density\": 0.08494240490594182}, {\"topic\": 8, \"count\": 1152.0, \"type\": \"Most active users\", \"density\": 0.09546697605038534}, {\"topic\": 9, \"count\": 300.0, \"type\": \"Most active users\", \"density\": 0.024861191679787852}, {\"topic\": 10, \"count\": 351.0, \"type\": \"Most active users\", \"density\": 0.029087594265351787}, {\"topic\": 11, \"count\": 153.0, \"type\": \"Most active users\", \"density\": 0.012679207756691804}, {\"topic\": 12, \"count\": 178.0, \"type\": \"Most active users\", \"density\": 0.014750973730007458}, {\"topic\": 13, \"count\": 198.0, \"type\": \"Most active users\", \"density\": 0.016408386508659983}, {\"topic\": 14, \"count\": 325.0, \"type\": \"Most active users\", \"density\": 0.026932957653103506}, {\"topic\": 15, \"count\": 329.0, \"type\": \"Most active users\", \"density\": 0.02726444020883401}, {\"topic\": 16, \"count\": 541.0, \"type\": \"Most active users\", \"density\": 0.04483301566255076}, {\"topic\": 17, \"count\": 178.0, \"type\": \"Most active users\", \"density\": 0.014750973730007458}, {\"topic\": 18, \"count\": 522.0, \"type\": \"Most active users\", \"density\": 0.04325847352283086}, {\"topic\": 19, \"count\": 256.0, \"type\": \"Most active users\", \"density\": 0.021214883566752298}, {\"topic\": 20, \"count\": 195.0, \"type\": \"Most active users\", \"density\": 0.016159774591862103}, {\"topic\": 21, \"count\": 512.0, \"type\": \"Most active users\", \"density\": 0.042429767133504596}, {\"topic\": 22, \"count\": 397.0, \"type\": \"Most active users\", \"density\": 0.032899643656252586}, {\"topic\": 23, \"count\": 383.0, \"type\": \"Most active users\", \"density\": 0.031739454711195825}, {\"topic\": 24, \"count\": 435.0, \"type\": \"Most active users\", \"density\": 0.03604872793569239}, {\"topic\": 0, \"count\": 0.12515768894998613, \"type\": \"Weighted by direct connectedness\", \"density\": 0.05965963964438698}, {\"topic\": 1, \"count\": 0.08711702076021516, \"type\": \"Weighted by direct connectedness\", \"density\": 0.04152657426843284}, {\"topic\": 2, \"count\": 0.17908444611609378, \"type\": \"Weighted by direct connectedness\", \"density\": 0.08536521895566669}, {\"topic\": 3, \"count\": 0.05471226949854494, \"type\": \"Weighted by direct connectedness\", \"density\": 0.026080014019067888}, {\"topic\": 4, \"count\": 0.20295436032272515, \"type\": \"Weighted by direct connectedness\", \"density\": 0.09674342905092605}, {\"topic\": 5, \"count\": 0.083628931788667, \"type\": \"Weighted by direct connectedness\", \"density\": 0.039863886719342025}, {\"topic\": 6, \"count\": 0.04890171813067367, \"type\": \"Weighted by direct connectedness\", \"density\": 0.02331026488379162}, {\"topic\": 7, \"count\": 0.16397096707154554, \"type\": \"Weighted by direct connectedness\", \"density\": 0.07816098946617002}, {\"topic\": 8, \"count\": 0.20122072959206627, \"type\": \"Weighted by direct connectedness\", \"density\": 0.09591704926127624}, {\"topic\": 9, \"count\": 0.05061529579865024, \"type\": \"Weighted by direct connectedness\", \"density\": 0.02412708586404321}, {\"topic\": 10, \"count\": 0.059576574605888104, \"type\": \"Weighted by direct connectedness\", \"density\": 0.028398710475187425}, {\"topic\": 11, \"count\": 0.028965836458691753, \"type\": \"Weighted by direct connectedness\", \"density\": 0.013807312835684857}, {\"topic\": 12, \"count\": 0.036753756697357226, \"type\": \"Weighted by direct connectedness\", \"density\": 0.017519625829924286}, {\"topic\": 13, \"count\": 0.038653786776969276, \"type\": \"Weighted by direct connectedness\", \"density\": 0.018425324159880255}, {\"topic\": 14, \"count\": 0.056364515760353825, \"type\": \"Weighted by direct connectedness\", \"density\": 0.02686759980313181}, {\"topic\": 15, \"count\": 0.061146674916209336, \"type\": \"Weighted by direct connectedness\", \"density\": 0.029147139273331315}, {\"topic\": 16, \"count\": 0.11425260222803796, \"type\": \"Weighted by direct connectedness\", \"density\": 0.05446144886937036}, {\"topic\": 17, \"count\": 0.029401378131009962, \"type\": \"Weighted by direct connectedness\", \"density\": 0.014014925004290826}, {\"topic\": 18, \"count\": 0.09139872102306956, \"type\": \"Weighted by direct connectedness\", \"density\": 0.04356755710288937}, {\"topic\": 19, \"count\": 0.050568533947048494, \"type\": \"Weighted by direct connectedness\", \"density\": 0.024104795621717155}, {\"topic\": 20, \"count\": 0.03513016214809568, \"type\": \"Weighted by direct connectedness\", \"density\": 0.01674569762343398}, {\"topic\": 21, \"count\": 0.09447625911828679, \"type\": \"Weighted by direct connectedness\", \"density\": 0.0450345449906723}, {\"topic\": 22, \"count\": 0.06421770866807518, \"type\": \"Weighted by direct connectedness\", \"density\": 0.030611026698140514}, {\"topic\": 23, \"count\": 0.06822523596453103, \"type\": \"Weighted by direct connectedness\", \"density\": 0.03252131791857957}, {\"topic\": 24, \"count\": 0.07136679210986188, \"type\": \"Weighted by direct connectedness\", \"density\": 0.03401882166066244}, {\"topic\": 0, \"count\": 0.09323628598161797, \"type\": \"Weighted by indirect connectedness\", \"density\": 0.06119203646834436}, {\"topic\": 1, \"count\": 0.06747357769906336, \"type\": \"Weighted by indirect connectedness\", \"density\": 0.04428367758047307}, {\"topic\": 2, \"count\": 0.1357114213582184, \"type\": \"Weighted by indirect connectedness\", \"density\": 0.08906895161568551}, {\"topic\": 3, \"count\": 0.03204421432701164, \"type\": \"Weighted by indirect connectedness\", \"density\": 0.021030982852368568}, {\"topic\": 4, \"count\": 0.16909071586299534, \"type\": \"Weighted by indirect connectedness\", \"density\": 0.11097616279553256}, {\"topic\": 5, \"count\": 0.05488035634972269, \"type\": \"Weighted by indirect connectedness\", \"density\": 0.03601860296977145}, {\"topic\": 6, \"count\": 0.03339879715849878, \"type\": \"Weighted by indirect connectedness\", \"density\": 0.02192001099362353}, {\"topic\": 7, \"count\": 0.12755906691068322, \"type\": \"Weighted by indirect connectedness\", \"density\": 0.08371846853493738}, {\"topic\": 8, \"count\": 0.14876007425752588, \"type\": \"Weighted by indirect connectedness\", \"density\": 0.09763293114008027}, {\"topic\": 9, \"count\": 0.038629972965025905, \"type\": \"Weighted by indirect connectedness\", \"density\": 0.025353291259510993}, {\"topic\": 10, \"count\": 0.044470930560357266, \"type\": \"Weighted by indirect connectedness\", \"density\": 0.029186778258918463}, {\"topic\": 11, \"count\": 0.018697808706320602, \"type\": \"Weighted by indirect connectedness\", \"density\": 0.012271584825470994}, {\"topic\": 12, \"count\": 0.022907500968160553, \"type\": \"Weighted by indirect connectedness\", \"density\": 0.015034453806093029}, {\"topic\": 13, \"count\": 0.02639950016961287, \"type\": \"Weighted by indirect connectedness\", \"density\": 0.01732629265652545}, {\"topic\": 14, \"count\": 0.042045861356279794, \"type\": \"Weighted by indirect connectedness\", \"density\": 0.027595177718293923}, {\"topic\": 15, \"count\": 0.04279471758638004, \"type\": \"Weighted by indirect connectedness\", \"density\": 0.028086660591720214}, {\"topic\": 16, \"count\": 0.06604739587279673, \"type\": \"Weighted by indirect connectedness\", \"density\": 0.04334765820341849}, {\"topic\": 17, \"count\": 0.022613809586287077, \"type\": \"Weighted by indirect connectedness\", \"density\": 0.014841700806970096}, {\"topic\": 18, \"count\": 0.06226323421372708, \"type\": \"Weighted by indirect connectedness\", \"density\": 0.04086406980426718}, {\"topic\": 19, \"count\": 0.03401465642835567, \"type\": \"Weighted by indirect connectedness\", \"density\": 0.022324206447182037}, {\"topic\": 20, \"count\": 0.024222093465329945, \"type\": \"Weighted by indirect connectedness\", \"density\": 0.015897235835437923}, {\"topic\": 21, \"count\": 0.06312759716739184, \"type\": \"Weighted by indirect connectedness\", \"density\": 0.04143136105601189}, {\"topic\": 22, \"count\": 0.0492957717137248, \"type\": \"Weighted by indirect connectedness\", \"density\": 0.032353376463710136}, {\"topic\": 23, \"count\": 0.04872522947189942, \"type\": \"Weighted by indirect connectedness\", \"density\": 0.03197892309181807}, {\"topic\": 24, \"count\": 0.055256399273483546, \"type\": \"Weighted by indirect connectedness\", \"density\": 0.03626540422383442}, {\"topic\": 0, \"count\": 55.0, \"type\": \"User cluster #10\", \"density\": 0.08716323296354993}, {\"topic\": 1, \"count\": 23.0, \"type\": \"User cluster #10\", \"density\": 0.03645007923930269}, {\"topic\": 2, \"count\": 32.0, \"type\": \"User cluster #10\", \"density\": 0.05071315372424723}, {\"topic\": 3, \"count\": 14.0, \"type\": \"User cluster #10\", \"density\": 0.022187004754358162}, {\"topic\": 4, \"count\": 33.0, \"type\": \"User cluster #10\", \"density\": 0.05229793977812995}, {\"topic\": 5, \"count\": 28.0, \"type\": \"User cluster #10\", \"density\": 0.044374009508716325}, {\"topic\": 6, \"count\": 10.0, \"type\": \"User cluster #10\", \"density\": 0.01584786053882726}, {\"topic\": 7, \"count\": 91.0, \"type\": \"User cluster #10\", \"density\": 0.14421553090332806}, {\"topic\": 8, \"count\": 42.0, \"type\": \"User cluster #10\", \"density\": 0.06656101426307448}, {\"topic\": 9, \"count\": 12.0, \"type\": \"User cluster #10\", \"density\": 0.01901743264659271}, {\"topic\": 10, \"count\": 31.0, \"type\": \"User cluster #10\", \"density\": 0.0491283676703645}, {\"topic\": 11, \"count\": 11.0, \"type\": \"User cluster #10\", \"density\": 0.017432646592709985}, {\"topic\": 12, \"count\": 8.0, \"type\": \"User cluster #10\", \"density\": 0.012678288431061807}, {\"topic\": 13, \"count\": 7.0, \"type\": \"User cluster #10\", \"density\": 0.011093502377179081}, {\"topic\": 14, \"count\": 17.0, \"type\": \"User cluster #10\", \"density\": 0.02694136291600634}, {\"topic\": 15, \"count\": 15.0, \"type\": \"User cluster #10\", \"density\": 0.02377179080824089}, {\"topic\": 16, \"count\": 25.0, \"type\": \"User cluster #10\", \"density\": 0.039619651347068144}, {\"topic\": 17, \"count\": 11.0, \"type\": \"User cluster #10\", \"density\": 0.017432646592709985}, {\"topic\": 18, \"count\": 61.0, \"type\": \"User cluster #10\", \"density\": 0.09667194928684628}, {\"topic\": 19, \"count\": 10.0, \"type\": \"User cluster #10\", \"density\": 0.01584786053882726}, {\"topic\": 20, \"count\": 13.0, \"type\": \"User cluster #10\", \"density\": 0.020602218700475437}, {\"topic\": 21, \"count\": 26.0, \"type\": \"User cluster #10\", \"density\": 0.04120443740095087}, {\"topic\": 22, \"count\": 24.0, \"type\": \"User cluster #10\", \"density\": 0.03803486529318542}, {\"topic\": 23, \"count\": 13.0, \"type\": \"User cluster #10\", \"density\": 0.020602218700475437}, {\"topic\": 24, \"count\": 19.0, \"type\": \"User cluster #10\", \"density\": 0.030110935023771792}]}}, {\"mode\": \"vega-lite\"});\n",
       "</script>"
      ],
      "text/plain": [
       "alt.Chart(...)"
      ]
     },
     "execution_count": 19,
     "metadata": {},
     "output_type": "execute_result"
    }
   ],
   "source": [
    "all_data = pd.concat([simple_counts, selected_user_counts, direct_pg_counts, indirect_pg_counts, cluster10])\n",
    "\n",
    "alt.Chart(all_data).mark_bar().encode(\n",
    "    x=alt.X('type', title=\"\",axis=alt.Axis(labelExpr=\"\")), \n",
    "    y= alt.Y('density', axis=alt.Axis(grid=False)),\n",
    "    color=alt.Color(\"type\", legend=alt.Legend(orient='bottom', title=\"\")),\n",
    "    column=alt.Column(\"topic:O\", spacing=4)\n",
    ").properties(height = 300, width = 30)"
   ]
  },
  {
   "cell_type": "code",
   "execution_count": 41,
   "id": "f46113bb",
   "metadata": {},
   "outputs": [
    {
     "data": {
      "text/html": [
       "\n",
       "<div id=\"altair-viz-7493176d560e404c96bebd7111032fcb\"></div>\n",
       "<script type=\"text/javascript\">\n",
       "  var VEGA_DEBUG = (typeof VEGA_DEBUG == \"undefined\") ? {} : VEGA_DEBUG;\n",
       "  (function(spec, embedOpt){\n",
       "    let outputDiv = document.currentScript.previousElementSibling;\n",
       "    if (outputDiv.id !== \"altair-viz-7493176d560e404c96bebd7111032fcb\") {\n",
       "      outputDiv = document.getElementById(\"altair-viz-7493176d560e404c96bebd7111032fcb\");\n",
       "    }\n",
       "    const paths = {\n",
       "      \"vega\": \"https://cdn.jsdelivr.net/npm//vega@5?noext\",\n",
       "      \"vega-lib\": \"https://cdn.jsdelivr.net/npm//vega-lib?noext\",\n",
       "      \"vega-lite\": \"https://cdn.jsdelivr.net/npm//vega-lite@4.17.0?noext\",\n",
       "      \"vega-embed\": \"https://cdn.jsdelivr.net/npm//vega-embed@6?noext\",\n",
       "    };\n",
       "\n",
       "    function maybeLoadScript(lib, version) {\n",
       "      var key = `${lib.replace(\"-\", \"\")}_version`;\n",
       "      return (VEGA_DEBUG[key] == version) ?\n",
       "        Promise.resolve(paths[lib]) :\n",
       "        new Promise(function(resolve, reject) {\n",
       "          var s = document.createElement('script');\n",
       "          document.getElementsByTagName(\"head\")[0].appendChild(s);\n",
       "          s.async = true;\n",
       "          s.onload = () => {\n",
       "            VEGA_DEBUG[key] = version;\n",
       "            return resolve(paths[lib]);\n",
       "          };\n",
       "          s.onerror = () => reject(`Error loading script: ${paths[lib]}`);\n",
       "          s.src = paths[lib];\n",
       "        });\n",
       "    }\n",
       "\n",
       "    function showError(err) {\n",
       "      outputDiv.innerHTML = `<div class=\"error\" style=\"color:red;\">${err}</div>`;\n",
       "      throw err;\n",
       "    }\n",
       "\n",
       "    function displayChart(vegaEmbed) {\n",
       "      vegaEmbed(outputDiv, spec, embedOpt)\n",
       "        .catch(err => showError(`Javascript Error: ${err.message}<br>This usually means there's a typo in your chart specification. See the javascript console for the full traceback.`));\n",
       "    }\n",
       "\n",
       "    if(typeof define === \"function\" && define.amd) {\n",
       "      requirejs.config({paths});\n",
       "      require([\"vega-embed\"], displayChart, err => showError(`Error loading script: ${err.message}`));\n",
       "    } else {\n",
       "      maybeLoadScript(\"vega\", \"5\")\n",
       "        .then(() => maybeLoadScript(\"vega-lite\", \"4.17.0\"))\n",
       "        .then(() => maybeLoadScript(\"vega-embed\", \"6\"))\n",
       "        .catch(showError)\n",
       "        .then(() => displayChart(vegaEmbed));\n",
       "    }\n",
       "  })({\"config\": {\"view\": {\"continuousWidth\": 400, \"continuousHeight\": 300}}, \"data\": {\"name\": \"data-f3c7196929b37519376fa795f8427abc\"}, \"mark\": \"bar\", \"encoding\": {\"color\": {\"field\": \"type\", \"legend\": {\"orient\": \"bottom\", \"title\": \"\"}, \"type\": \"nominal\"}, \"column\": {\"field\": \"Description\", \"spacing\": 10, \"title\": \"Topics\", \"type\": \"nominal\"}, \"x\": {\"axis\": {\"labelExpr\": \"\"}, \"field\": \"type\", \"title\": \"\", \"type\": \"nominal\"}, \"y\": {\"axis\": {\"grid\": false}, \"field\": \"density\", \"type\": \"quantitative\"}}, \"height\": 300, \"width\": 60, \"$schema\": \"https://vega.github.io/schema/vega-lite/v4.17.0.json\", \"datasets\": {\"data-f3c7196929b37519376fa795f8427abc\": [{\"topic\": 0, \"Description\": \"Complaints\", \"count\": 4506.0, \"type\": \"All users\", \"density\": 0.05631092226943264}, {\"topic\": 0, \"Description\": \"Complaints\", \"count\": 752.0, \"type\": \"Most active users\", \"density\": 0.06231872047733488}, {\"topic\": 0, \"Description\": \"Complaints\", \"count\": 0.12515768894998613, \"type\": \"Weighted by direct connectedness\", \"density\": 0.05965963964438698}, {\"topic\": 0, \"Description\": \"Complaints\", \"count\": 0.09323628598161797, \"type\": \"Weighted by indirect connectedness\", \"density\": 0.06119203646834436}, {\"topic\": 0, \"Description\": \"Complaints\", \"count\": 55.0, \"type\": \"User cluster #10\", \"density\": 0.08716323296354993}, {\"topic\": 1, \"Description\": \"Bosses and COVID\", \"count\": 5691.0, \"type\": \"All users\", \"density\": 0.0711197200699825}, {\"topic\": 1, \"Description\": \"Bosses and COVID\", \"count\": 538.0, \"type\": \"Most active users\", \"density\": 0.04458440374575288}, {\"topic\": 1, \"Description\": \"Bosses and COVID\", \"count\": 0.08711702076021516, \"type\": \"Weighted by direct connectedness\", \"density\": 0.04152657426843284}, {\"topic\": 1, \"Description\": \"Bosses and COVID\", \"count\": 0.06747357769906336, \"type\": \"Weighted by indirect connectedness\", \"density\": 0.04428367758047307}, {\"topic\": 1, \"Description\": \"Bosses and COVID\", \"count\": 23.0, \"type\": \"User cluster #10\", \"density\": 0.03645007923930269}, {\"topic\": 2, \"Description\": \"Minimum wages\", \"count\": 5711.0, \"type\": \"All users\", \"density\": 0.0713696575856036}, {\"topic\": 2, \"Description\": \"Minimum wages\", \"count\": 1071.0, \"type\": \"Most active users\", \"density\": 0.08875445429684263}, {\"topic\": 2, \"Description\": \"Minimum wages\", \"count\": 0.17908444611609378, \"type\": \"Weighted by direct connectedness\", \"density\": 0.08536521895566669}, {\"topic\": 2, \"Description\": \"Minimum wages\", \"count\": 0.1357114213582184, \"type\": \"Weighted by indirect connectedness\", \"density\": 0.08906895161568551}, {\"topic\": 2, \"Description\": \"Minimum wages\", \"count\": 32.0, \"type\": \"User cluster #10\", \"density\": 0.05071315372424723}, {\"topic\": 4, \"Description\": \"Bosses\", \"count\": 13656.0, \"type\": \"All users\", \"density\": 0.1706573356660835}, {\"topic\": 4, \"Description\": \"Bosses\", \"count\": 1313.0, \"type\": \"Most active users\", \"density\": 0.10880914891853816}, {\"topic\": 4, \"Description\": \"Bosses\", \"count\": 0.20295436032272515, \"type\": \"Weighted by direct connectedness\", \"density\": 0.09674342905092605}, {\"topic\": 4, \"Description\": \"Bosses\", \"count\": 0.16909071586299534, \"type\": \"Weighted by indirect connectedness\", \"density\": 0.11097616279553256}, {\"topic\": 4, \"Description\": \"Bosses\", \"count\": 33.0, \"type\": \"User cluster #10\", \"density\": 0.05229793977812995}, {\"topic\": 7, \"Description\": \"Schedules\", \"count\": 8438.0, \"type\": \"All users\", \"density\": 0.10544863784053987}, {\"topic\": 7, \"Description\": \"Schedules\", \"count\": 1025.0, \"type\": \"Most active users\", \"density\": 0.08494240490594182}, {\"topic\": 7, \"Description\": \"Schedules\", \"count\": 0.16397096707154554, \"type\": \"Weighted by direct connectedness\", \"density\": 0.07816098946617002}, {\"topic\": 7, \"Description\": \"Schedules\", \"count\": 0.12755906691068322, \"type\": \"Weighted by indirect connectedness\", \"density\": 0.08371846853493738}, {\"topic\": 7, \"Description\": \"Schedules\", \"count\": 91.0, \"type\": \"User cluster #10\", \"density\": 0.14421553090332806}, {\"topic\": 8, \"Description\": \"Retweets\", \"count\": 6081.0, \"type\": \"All users\", \"density\": 0.07599350162459385}, {\"topic\": 8, \"Description\": \"Retweets\", \"count\": 1152.0, \"type\": \"Most active users\", \"density\": 0.09546697605038534}, {\"topic\": 8, \"Description\": \"Retweets\", \"count\": 0.20122072959206627, \"type\": \"Weighted by direct connectedness\", \"density\": 0.09591704926127624}, {\"topic\": 8, \"Description\": \"Retweets\", \"count\": 0.14876007425752588, \"type\": \"Weighted by indirect connectedness\", \"density\": 0.09763293114008027}, {\"topic\": 8, \"Description\": \"Retweets\", \"count\": 42.0, \"type\": \"User cluster #10\", \"density\": 0.06656101426307448}, {\"topic\": 10, \"Description\": \"Hatred\", \"count\": 2023.0, \"type\": \"All users\", \"density\": 0.025281179705073733}, {\"topic\": 10, \"Description\": \"Hatred\", \"count\": 351.0, \"type\": \"Most active users\", \"density\": 0.029087594265351787}, {\"topic\": 10, \"Description\": \"Hatred\", \"count\": 0.059576574605888104, \"type\": \"Weighted by direct connectedness\", \"density\": 0.028398710475187425}, {\"topic\": 10, \"Description\": \"Hatred\", \"count\": 0.044470930560357266, \"type\": \"Weighted by indirect connectedness\", \"density\": 0.029186778258918463}, {\"topic\": 10, \"Description\": \"Hatred\", \"count\": 31.0, \"type\": \"User cluster #10\", \"density\": 0.0491283676703645}, {\"topic\": 16, \"Description\": \"Labour unions\", \"count\": 2321.0, \"type\": \"All users\", \"density\": 0.029005248687828042}, {\"topic\": 16, \"Description\": \"Labour unions\", \"count\": 541.0, \"type\": \"Most active users\", \"density\": 0.04483301566255076}, {\"topic\": 16, \"Description\": \"Labour unions\", \"count\": 0.11425260222803796, \"type\": \"Weighted by direct connectedness\", \"density\": 0.05446144886937036}, {\"topic\": 16, \"Description\": \"Labour unions\", \"count\": 0.06604739587279673, \"type\": \"Weighted by indirect connectedness\", \"density\": 0.04334765820341849}, {\"topic\": 16, \"Description\": \"Labour unions\", \"count\": 25.0, \"type\": \"User cluster #10\", \"density\": 0.039619651347068144}, {\"topic\": 18, \"Description\": \"Social movement\", \"count\": 3196.0, \"type\": \"All users\", \"density\": 0.03994001499625094}, {\"topic\": 18, \"Description\": \"Social movement\", \"count\": 522.0, \"type\": \"Most active users\", \"density\": 0.04325847352283086}, {\"topic\": 18, \"Description\": \"Social movement\", \"count\": 0.09139872102306956, \"type\": \"Weighted by direct connectedness\", \"density\": 0.04356755710288937}, {\"topic\": 18, \"Description\": \"Social movement\", \"count\": 0.06226323421372708, \"type\": \"Weighted by indirect connectedness\", \"density\": 0.04086406980426718}, {\"topic\": 18, \"Description\": \"Social movement\", \"count\": 61.0, \"type\": \"User cluster #10\", \"density\": 0.09667194928684628}]}}, {\"mode\": \"vega-lite\"});\n",
       "</script>"
      ],
      "text/plain": [
       "alt.Chart(...)"
      ]
     },
     "execution_count": 41,
     "metadata": {},
     "output_type": "execute_result"
    }
   ],
   "source": [
    "topic_descriptions = [\n",
    "    (0, \"Complaints\"), \n",
    "    (1, \"Bosses and COVID\"), \n",
    "    (2, \"Minimum wages\"), \n",
    "    (4, \"Bosses\"), \n",
    "    (7, \"Schedules\"), \n",
    "    (8, \"Retweets\"), \n",
    "    (10, \"Hatred\"), (16, \"Labour unions\"), (18, \"Social movement\")\n",
    "]\n",
    "\n",
    "selected_topics = pd.DataFrame(topic_descriptions, columns=['topic', 'Description'])\n",
    "\n",
    "for_chart = pd.merge(selected_topics, all_data, on=\"topic\")\n",
    "\n",
    "alt.Chart(for_chart).mark_bar().encode(\n",
    "    x=alt.X('type', title=\"\",axis=alt.Axis(labelExpr=\"\")), \n",
    "    y= alt.Y('density', axis=alt.Axis(grid=False)),\n",
    "    color=alt.Color(\"type\", legend=alt.Legend(orient='bottom', title=\"\")),\n",
    "    column=alt.Column(\"Description\", spacing=10, title=\"Topics\")\n",
    ").properties(height = 300, width = 60)"
   ]
  }
 ],
 "metadata": {
  "kernelspec": {
   "display_name": "css",
   "language": "python",
   "name": "css"
  },
  "language_info": {
   "codemirror_mode": {
    "name": "ipython",
    "version": 3
   },
   "file_extension": ".py",
   "mimetype": "text/x-python",
   "name": "python",
   "nbconvert_exporter": "python",
   "pygments_lexer": "ipython3",
   "version": "3.9.7"
  }
 },
 "nbformat": 4,
 "nbformat_minor": 5
}
