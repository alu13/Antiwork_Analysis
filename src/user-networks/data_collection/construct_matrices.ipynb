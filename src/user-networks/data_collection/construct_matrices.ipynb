{
 "cells": [
  {
   "cell_type": "markdown",
   "metadata": {},
   "source": [
    "# Constructing sparse user adjacency matrices\n",
    "\n",
    "This notebook constructs sparse interaction user matrices for downstream clustering / other analysis tasks."
   ]
  },
  {
   "cell_type": "code",
   "execution_count": 18,
   "metadata": {},
   "outputs": [
    {
     "data": {
      "text/plain": [
       "9223372036854775807"
      ]
     },
     "execution_count": 18,
     "metadata": {},
     "output_type": "execute_result"
    }
   ],
   "source": [
    "import polars as pl\n",
    "import itertools as itt\n",
    "from pathlib import Path\n",
    "import csv\n",
    "import json\n",
    "import ctypes as ct\n",
    "from tqdm import tqdm\n",
    "\n",
    "path = \"../../../data/users/\"\n",
    "machine = 'combined'\n",
    "min_activity = 100\n",
    "interaction_type = 'indirects' #can also be 'indirects'\n",
    "\n",
    "assert interaction_type in ['directs', 'indirects'], \"Invalid type of interaction data provided\"\n",
    "data_col = 4 if interaction_type == 'directs' else 5\n",
    "\n",
    "files = [f.absolute() for f in Path(path + 'raw/').glob(\"*.csv\")]\n",
    "user_stats = path + 'summaries/combined/user_stats.csv'\n",
    "user_interaction_map = f\"{path}summaries/{machine}/interaction_map-{interaction_type}-min-{min_activity}.csv\"\n",
    "adj_matrix_path = f\"{path}summaries/{machine}/adj_matrix-{interaction_type}-min-{min_activity}.npz\"\n",
    "csv.field_size_limit(int(ct.c_ulong(-1).value // 2))"
   ]
  },
  {
   "cell_type": "code",
   "execution_count": 4,
   "metadata": {},
   "outputs": [
    {
     "name": "stdout",
     "output_type": "stream",
     "text": [
      "Total number of users: 7810\n",
      "Total files to be processed: 489\n"
     ]
    }
   ],
   "source": [
    "#first, we construct a dictionary to map unique user names to indices\n",
    "iterator = itt.count()\n",
    "user_names = pl.read_csv(user_stats).filter(pl.col(\"total_activity\") >= min_activity).select(\"user_name\").to_dict(as_series=False)[\"user_name\"]\n",
    "mapped = {u: next(iterator) for u in user_names}\n",
    "del user_names\n",
    "print(\"Total number of users: {}\".format(len(mapped)))\n",
    "print(\"Total files to be processed: {}\".format(len(files)))"
   ]
  },
  {
   "cell_type": "code",
   "execution_count": 11,
   "metadata": {},
   "outputs": [
    {
     "name": "stderr",
     "output_type": "stream",
     "text": [
      "100%|██████████| 489/489 [1:11:20<00:00,  8.75s/it]\n"
     ]
    }
   ],
   "source": [
    "def process_batch_file(filename, writer = None, data_column_no = 4, user_column_no = 8):\n",
    "    with open(filename) as file:\n",
    "        reader = csv.reader(file, delimiter=',')\n",
    "        next(reader) #skip the header\n",
    "        for i, row in enumerate(reader):\n",
    "            interactions = json.loads(row[data_column_no])\n",
    "            user_name = row[user_column_no]\n",
    "            for interlocutor, intensity in interactions.items():                \n",
    "                #get IDs\n",
    "                try:\n",
    "                    userid = mapped[user_name]\n",
    "                    interid = mapped[interlocutor]                    \n",
    "                    writer.writerow([userid, interid, intensity])\n",
    "                except KeyError:\n",
    "                    # ignore cases where there is no user in the mapped list\n",
    "                    # this only happens because mapped list is pre-filtered\n",
    "                    pass\n",
    "\n",
    "\n",
    "with open(user_interaction_map, \"w\") as outfile:\n",
    "    csvwriter = csv.writer(outfile, delimiter=',', quoting=csv.QUOTE_NONE)\n",
    "    for i,f in enumerate(tqdm(files)):        \n",
    "        process_batch_file(f, csvwriter, data_column_no=data_col)"
   ]
  },
  {
   "cell_type": "code",
   "execution_count": 12,
   "metadata": {},
   "outputs": [
    {
     "name": "stderr",
     "output_type": "stream",
     "text": [
      "100%|██████████| 79547162/79547162 [03:14<00:00, 409739.31it/s]\n"
     ]
    }
   ],
   "source": [
    "#create a matrix\n",
    "import numpy as np\n",
    "adj_matrix = np.zeros((len(mapped), len(mapped)))\n",
    "\n",
    "with open(user_interaction_map, \"r\") as outfile:\n",
    "    reader = csv.reader(outfile, delimiter=',', quoting=csv.QUOTE_NONE)\n",
    "    for row in tqdm(reader, total=79547162):\n",
    "        i = int(row[0])\n",
    "        j = int(row[1])\n",
    "        adj_matrix[i,j] = adj_matrix[i,j] + 1\n",
    "        adj_matrix[j,i] = adj_matrix[j,i] + 1\n"
   ]
  },
  {
   "cell_type": "code",
   "execution_count": 19,
   "metadata": {},
   "outputs": [],
   "source": [
    "import scipy.sparse as sps\n",
    "sparse_matrix = sps.csr_matrix(adj_matrix)\n",
    "sps.save_npz(adj_matrix_path, sparse_matrix)"
   ]
  },
  {
   "cell_type": "markdown",
   "metadata": {},
   "source": [
    "## Combining interaction maps from the 4 sources into a single map\n",
    "Fastest to combine interaction map CSVs using command line."
   ]
  },
  {
   "cell_type": "code",
   "execution_count": null,
   "metadata": {},
   "outputs": [],
   "source": [
    "!f='interaction_map-directs-min-100.csv'\n",
    "!awk '(NR == 1) || (FNR > 1)' aurimas.eu/$f local/$f vm1/$f vm2/$f > combined/$f"
   ]
  },
  {
   "cell_type": "code",
   "execution_count": null,
   "metadata": {},
   "outputs": [],
   "source": [
    "path = \"../../../data/users/summaries/combined/\"\n",
    "int_map_path = path + 'interaction_map-directs-min-100.csv'\n",
    "adj_matrix_path = path + 'adjacency_matrix.npz'"
   ]
  },
  {
   "cell_type": "code",
   "execution_count": null,
   "metadata": {},
   "outputs": [],
   "source": [
    "data = np.loadtxt(int_map_path, np.int64, delimiter=',')\n",
    "adj_matrix = sps.coo_matrix((data[:,2], (data[:, 0], data[:, 1])))\n",
    "sps.save_npz(adj_matrix_path, adj_matrix)"
   ]
  }
 ],
 "metadata": {
  "interpreter": {
   "hash": "458e57744219fd35e36fe617bee87769eccb7cd58eff0111259e94f378fae128"
  },
  "kernelspec": {
   "display_name": "Python 3 (ipykernel)",
   "language": "python",
   "name": "python3"
  },
  "language_info": {
   "codemirror_mode": {
    "name": "ipython",
    "version": 3
   },
   "file_extension": ".py",
   "mimetype": "text/x-python",
   "name": "python",
   "nbconvert_exporter": "python",
   "pygments_lexer": "ipython3",
   "version": "3.8.10"
  }
 },
 "nbformat": 4,
 "nbformat_minor": 4
}
