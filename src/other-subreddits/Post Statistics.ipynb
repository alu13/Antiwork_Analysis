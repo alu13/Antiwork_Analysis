{
 "cells": [
  {
   "cell_type": "code",
   "execution_count": 2,
   "id": "09b0115c",
   "metadata": {},
   "outputs": [],
   "source": [
    "import pandas as pd\n",
    "from matplotlib import pyplot as plt\n",
    "import numpy as np"
   ]
  },
  {
   "cell_type": "code",
   "execution_count": 3,
   "id": "95b571b4",
   "metadata": {
    "scrolled": true
   },
   "outputs": [],
   "source": [
    "#Read in data\n",
    "df = pd.read_csv('user_posts.csv', header = None, dtype = 'string')"
   ]
  },
  {
   "cell_type": "code",
   "execution_count": 11,
   "id": "89fa33d2",
   "metadata": {},
   "outputs": [],
   "source": [
    "#transpose is easier to work with\n",
    "#df = df.transpose()"
   ]
  },
  {
   "cell_type": "code",
   "execution_count": 4,
   "id": "7b3ddb79",
   "metadata": {},
   "outputs": [],
   "source": [
    "num_posts = []\n",
    "for i in range(0,1002):\n",
    "    num_posts.append(df.iloc[i,:].count())"
   ]
  },
  {
   "cell_type": "code",
   "execution_count": 59,
   "id": "45e0d1a0",
   "metadata": {},
   "outputs": [
    {
     "name": "stdout",
     "output_type": "stream",
     "text": [
      "1002\n",
      "128.1447105788423\n",
      "217.86493466698852\n",
      "36.0\n"
     ]
    }
   ],
   "source": [
    "print(max(num_posts))\n",
    "print(np.mean(num_posts))\n",
    "print(np.std(num_posts))\n",
    "print(np.median(num_posts))"
   ]
  },
  {
   "cell_type": "code",
   "execution_count": 54,
   "id": "3562be1e",
   "metadata": {},
   "outputs": [
    {
     "data": {
      "text/plain": [
       "{'whiskers': [<matplotlib.lines.Line2D at 0x7f9a78b3c8e0>,\n",
       "  <matplotlib.lines.Line2D at 0x7f9a78b3cc70>],\n",
       " 'caps': [<matplotlib.lines.Line2D at 0x7f9a78b46040>,\n",
       "  <matplotlib.lines.Line2D at 0x7f9a78b463d0>],\n",
       " 'boxes': [<matplotlib.lines.Line2D at 0x7f9a78b3c550>],\n",
       " 'medians': [<matplotlib.lines.Line2D at 0x7f9a78b46760>],\n",
       " 'fliers': [<matplotlib.lines.Line2D at 0x7f9a78b46af0>],\n",
       " 'means': []}"
      ]
     },
     "execution_count": 54,
     "metadata": {},
     "output_type": "execute_result"
    },
    {
     "data": {
      "image/png": "[encoded data removed]",
      "text/plain": [
       "<Figure size 432x288 with 1 Axes>"
      ]
     },
     "metadata": {
      "needs_background": "light"
     },
     "output_type": "display_data"
    }
   ],
   "source": [
    "fig1, ax1 = plt.subplots()\n",
    "ax1.set_title('Box and Whisker Plot')\n",
    "ax1.boxplot(num_posts, vert = False)"
   ]
  },
  {
   "cell_type": "code",
   "execution_count": 53,
   "id": "b9e4a994",
   "metadata": {},
   "outputs": [
    {
     "data": {
      "text/plain": [
       "(array([392., 175.,  89.,  58.,  34.,  26.,  23.,  15.,  15.,  19.,  14.,\n",
       "         18.,  12.,  13.,   7.,   4.,   6.,   6.,   3.,   4.,   4.,   1.,\n",
       "          2.,   3.,   3.,   0.,   2.,   5.,   2.,   5.,   2.,   2.,   2.,\n",
       "          2.,   0.,   3.,   2.,   0.,   3.,  25.]),\n",
       " array([   0,   25,   50,   75,  100,  125,  150,  175,  200,  225,  250,\n",
       "         275,  300,  325,  350,  375,  400,  425,  450,  475,  500,  525,\n",
       "         550,  575,  600,  625,  650,  675,  700,  725,  750,  775,  800,\n",
       "         825,  850,  875,  900,  925,  950,  975, 1000]),\n",
       " <BarContainer object of 40 artists>)"
      ]
     },
     "execution_count": 53,
     "metadata": {},
     "output_type": "execute_result"
    },
    {
     "data": {
      "image/png": "[encoded data removed]",
      "text/plain": [
       "<Figure size 720x504 with 1 Axes>"
      ]
     },
     "metadata": {
      "needs_background": "light"
     },
     "output_type": "display_data"
    }
   ],
   "source": [
    "all_bins = []\n",
    "for i in range(0,41):\n",
    "    all_bins.append(i*25)\n",
    "fig, ax = plt.subplots(figsize =(10, 7))\n",
    "ax.hist(num_posts, bins = all_bins)"
   ]
  },
  {
   "cell_type": "code",
   "execution_count": 51,
   "id": "3f382cad",
   "metadata": {},
   "outputs": [],
   "source": [
    "plt.show()"
   ]
  },
  {
   "cell_type": "code",
   "execution_count": null,
   "id": "443d1581",
   "metadata": {},
   "outputs": [],
   "source": []
  }
 ],
 "metadata": {
  "kernelspec": {
   "display_name": "Python 3 (ipykernel)",
   "language": "python",
   "name": "python3"
  },
  "language_info": {
   "codemirror_mode": {
    "name": "ipython",
    "version": 3
   },
   "file_extension": ".py",
   "mimetype": "text/x-python",
   "name": "python",
   "nbconvert_exporter": "python",
   "pygments_lexer": "ipython3",
   "version": "3.9.7"
  }
 },
 "nbformat": 4,
 "nbformat_minor": 5
}
