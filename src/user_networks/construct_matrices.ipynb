{
 "cells": [
  {
   "cell_type": "markdown",
   "metadata": {},
   "source": [
    "# Constructing sparse user adjacency matrices\n",
    "\n",
    "This notebook constructs sparse user matrices for downstream clustering / other analysis tasks."
   ]
  },
  {
   "cell_type": "code",
   "execution_count": 15,
   "metadata": {},
   "outputs": [
    {
     "data": {
      "text/plain": [
       "9223372036854775807"
      ]
     },
     "execution_count": 15,
     "metadata": {},
     "output_type": "execute_result"
    }
   ],
   "source": [
    "import polars as pl\n",
    "import itertools as itt\n",
    "from pathlib import Path\n",
    "import csv\n",
    "import json\n",
    "import ctypes as ct\n",
    "\n",
    "path = \"../../data/users/\"\n",
    "machine = 'local'\n",
    "min_activity = 100\n",
    "interaction_type = 'directs' #can also be 'indirects'\n",
    "\n",
    "assert interaction_type in ['directs', 'indirects'], \"Invalid type of interaction data provided\"\n",
    "data_col = 4 if interaction_type == 'directs' else 5\n",
    "\n",
    "files = [f.absolute() for f in Path(path).glob(\"*.csv\")]\n",
    "user_stats = path + 'summaries/combined/user_stats.csv'\n",
    "user_interaction_map = f\"{path}summaries/{machine}/interaction_map-{interaction_type}-min-{min_activity}.csv\"\n",
    "adj_matrix_path = path + f\"{path}summaries/{machine}/adj_matrix-{interaction_type}-min-{min_activity}.npz\"\n",
    "csv.field_size_limit(int(ct.c_ulong(-1).value // 2))"
   ]
  },
  {
   "cell_type": "code",
   "execution_count": 16,
   "metadata": {},
   "outputs": [
    {
     "name": "stdout",
     "output_type": "stream",
     "text": [
      "Total number of users: 7810\n"
     ]
    }
   ],
   "source": [
    "#first, we construct a dictionary to map unique user names to indices\n",
    "iterator = itt.count()\n",
    "user_names = pl.read_csv(user_stats).filter(pl.col(\"total_activity\") >= min_activity).select(\"user_name\").to_dict(as_series=False)[\"user_name\"]\n",
    "mapped = {u: next(iterator) for u in user_names}\n",
    "del user_names\n",
    "print(\"Total number of users: {}\".format(len(mapped)))"
   ]
  },
  {
   "cell_type": "code",
   "execution_count": 17,
   "metadata": {},
   "outputs": [
    {
     "name": "stdout",
     "output_type": "stream",
     "text": [
      "Processing file 1 out of 13\n",
      "Processing file 2 out of 13\n",
      "Processing file 3 out of 13\n",
      "Processing file 4 out of 13\n",
      "Processing file 5 out of 13\n",
      "Processing file 6 out of 13\n",
      "Processing file 7 out of 13\n",
      "Processing file 8 out of 13\n",
      "Processing file 9 out of 13\n",
      "Processing file 10 out of 13\n",
      "Processing file 11 out of 13\n",
      "Processing file 12 out of 13\n",
      "Processing file 13 out of 13\n"
     ]
    }
   ],
   "source": [
    "def process_batch_file(filename, writer = None, data_column_no = 4, user_column_no = 8):\n",
    "    with open(filename) as file:\n",
    "        reader = csv.reader(file, delimiter=',')\n",
    "        next(reader) #skip the header\n",
    "        for i, row in enumerate(reader):\n",
    "            interactions = json.loads(row[data_column_no])\n",
    "            user_name = row[user_column_no]\n",
    "            for interlocutor, intensity in interactions.items():                \n",
    "                #get IDs\n",
    "                try:\n",
    "                    userid = mapped[user_name]\n",
    "                    interid = mapped[interlocutor]                    \n",
    "                    writer.writerow([userid, interid, intensity])\n",
    "                except KeyError:\n",
    "                    # ignore cases where there is no user in the mapped list\n",
    "                    # this only happens because mapped list is pre-filtered\n",
    "                    pass\n",
    "\n",
    "\n",
    "with open(user_interaction_map, \"w\") as outfile:\n",
    "    csvwriter = csv.writer(outfile, delimiter=',', quoting=csv.QUOTE_NONE)\n",
    "    for i,f in enumerate(files):\n",
    "        print(\"Processing file {} out of {}\".format(i + 1, len(files)))        \n",
    "        process_batch_file(f, csvwriter, data_column_no=data_col)"
   ]
  },
  {
   "cell_type": "code",
   "execution_count": 18,
   "metadata": {},
   "outputs": [],
   "source": [
    "#create a sparse matrix\n",
    "import numpy as np\n",
    "import scipy.sparse as sps\n",
    "data = np.loadtxt(user_interaction_map, np.int64, delimiter=',')\n",
    "adj_matrix = sps.coo_matrix((data[:,2], (data[:, 0], data[:, 1])))\n",
    "sps.save_npz(adj_matrix_path, adj_matrix)"
   ]
  }
 ],
 "metadata": {
  "interpreter": {
   "hash": "458e57744219fd35e36fe617bee87769eccb7cd58eff0111259e94f378fae128"
  },
  "kernelspec": {
   "display_name": "Python 3.9.7 ('css')",
   "language": "python",
   "name": "python3"
  },
  "language_info": {
   "codemirror_mode": {
    "name": "ipython",
    "version": 3
   },
   "file_extension": ".py",
   "mimetype": "text/x-python",
   "name": "python",
   "nbconvert_exporter": "python",
   "pygments_lexer": "ipython3",
   "version": "3.9.7"
  },
  "orig_nbformat": 4
 },
 "nbformat": 4,
 "nbformat_minor": 2
}
