{
 "cells": [
  {
   "cell_type": "code",
   "execution_count": 1,
   "metadata": {},
   "outputs": [],
   "source": [
    "#test clustering\n",
    "from sklearn.cluster import MiniBatchKMeans\n",
    "from sklearn import metrics\n",
    "import scipy.sparse.linalg as sps_linalg\n",
    "from scipy.sparse import load_npz, csgraph\n",
    "import seaborn as sns\n",
    "\n",
    "path = \"../../data/users/\"\n",
    "user_stats = path + 'summaries/user_stats.csv'\n",
    "adj_matrix_path = path + 'summaries/adjacency_matrix.npz'"
   ]
  },
  {
   "cell_type": "code",
   "execution_count": 2,
   "metadata": {},
   "outputs": [
    {
     "name": "stdout",
     "output_type": "stream",
     "text": [
      "(54059, 54059)\n"
     ]
    }
   ],
   "source": [
    "#load the adjacency matrix\n",
    "adj_matrix = load_npz(adj_matrix_path)\n",
    "#compute laplacian\n",
    "laplacian = csgraph.laplacian(adj_matrix).asfptype()\n",
    "print(laplacian.shape)"
   ]
  },
  {
   "cell_type": "code",
   "execution_count": 3,
   "metadata": {},
   "outputs": [],
   "source": [
    "max_clusters = 100\n",
    "\n",
    "#get N smallest eigenvectors\n",
    "#Using shift-invert mode as per @ https://docs.scipy.org/doc/scipy-0.14.0/reference/tutorial/arpack.html\n",
    "eigvals, eigvecs = sps_linalg.eigsh(laplacian, k=10, which=\"LM\", sigma=0, mode='buckling')"
   ]
  },
  {
   "cell_type": "code",
   "execution_count": null,
   "metadata": {},
   "outputs": [],
   "source": [
    "#Try Kmeans and report scores\n",
    "results = []\n",
    "for k in range(5, max_clusters):\n",
    "    clusters = MiniBatchKMeans(n_clusters=k).fit(eigvecs[:,:k])\n",
    "    s = metrics.calinski_harabasz_score(eigvecs, clusters.labels_)\n",
    "    results.append((k, s))\n",
    "\n",
    "no_clusters, score = zip(*results)\n",
    "sns.scatterplot(x=no_clusters, y=score)"
   ]
  },
  {
   "cell_type": "code",
   "execution_count": null,
   "metadata": {},
   "outputs": [],
   "source": [
    "from collections import Counter\n",
    "Counter(clusters.labels_)"
   ]
  }
 ],
 "metadata": {
  "interpreter": {
   "hash": "458e57744219fd35e36fe617bee87769eccb7cd58eff0111259e94f378fae128"
  },
  "kernelspec": {
   "display_name": "Python 3.9.7 ('css')",
   "language": "python",
   "name": "python3"
  },
  "language_info": {
   "codemirror_mode": {
    "name": "ipython",
    "version": 3
   },
   "file_extension": ".py",
   "mimetype": "text/x-python",
   "name": "python",
   "nbconvert_exporter": "python",
   "pygments_lexer": "ipython3",
   "version": "3.9.7"
  },
  "orig_nbformat": 4
 },
 "nbformat": 4,
 "nbformat_minor": 2
}
