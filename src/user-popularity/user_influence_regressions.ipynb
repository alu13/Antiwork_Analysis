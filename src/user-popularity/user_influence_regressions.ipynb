{
 "cells": [
  {
   "cell_type": "code",
   "execution_count": 49,
   "metadata": {},
   "outputs": [],
   "source": [
    "import datetime\n",
    "import statsmodels.formula.api as smf\n",
    "import numpy as np\n",
    "import pandas as pd\n",
    "import polars as pl\n",
    "import sqlite3\n",
    "\n",
    "DATA_PATH = \"../../data/users/\"\n",
    "recent_posts = DATA_PATH + \"recent/recent-posts-batch-*.csv\"\n",
    "DB_PATH = DATA_PATH + \"users.sqlite.db\""
   ]
  },
  {
   "cell_type": "markdown",
   "metadata": {},
   "source": [
    "## Combining all information into a dataset for regression"
   ]
  },
  {
   "cell_type": "code",
   "execution_count": null,
   "metadata": {},
   "outputs": [],
   "source": [
    "posts = pl.scan_csv(recent_posts).collect()\n",
    "conn = sqlite3.connect(DB_PATH)\n",
    "posts.to_pandas().to_sql(\"posts\", conn, index=False)"
   ]
  },
  {
   "cell_type": "code",
   "execution_count": 51,
   "metadata": {},
   "outputs": [],
   "source": [
    "sql = \"\"\"\n",
    "SELECT \n",
    "    posts.post_id, posts.post_karma, posts.user_name,\n",
    "    users_cutoff.no_posts, users_cutoff.no_comments, users_cutoff.avg_post_karma,\n",
    "    users_cutoff.post_karma as total_post_karma, users_cutoff.longevity, \n",
    "    topics.topic\n",
    "    FROM posts\n",
    "    JOIN users_cutoff ON users_cutoff.user_name = posts.user_name\n",
    "    LEFT JOIN topics ON topics.id = posts.post_id\n",
    "    \"\"\"\n",
    "\n",
    "joined = pd.read_sql(sql, conn)"
   ]
  },
  {
   "cell_type": "markdown",
   "metadata": {},
   "source": [
    "## Regression analysis"
   ]
  },
  {
   "cell_type": "code",
   "execution_count": 52,
   "metadata": {},
   "outputs": [],
   "source": [
    "data = joined.drop([\"post_id\", \"user_name\"], axis=1)\n",
    "data['topic'] = data['topic'].astype(\"category\")\n",
    "data = pd.get_dummies(data)\n",
    "topic_cols = {\"topic_\" + str(float(i)) : \"topic_\" + str(i) for i in range(25)}\n",
    "data = data.rename(topic_cols, axis=1)"
   ]
  },
  {
   "cell_type": "markdown",
   "metadata": {},
   "source": [
    "## Log-based specification\n",
    "\n",
    "`'log(post_karma) ~ log(no_posts) + log(no_comments) + avg_post_karma + log(total_post_kmarma) + log(longevity) + topic'`"
   ]
  },
  {
   "cell_type": "code",
   "execution_count": null,
   "metadata": {},
   "outputs": [],
   "source": [
    "formula = \"\"\"np.log(post_karma + 0.001) ~ np.log(no_posts + 0.001) + \n",
    "    np.log(no_comments + 0.001) + avg_post_karma + \n",
    "    np.log(total_post_karma + 0.001) + np.log(longevity + 0.000)\"\"\"\n",
    "\n",
    "formula = formula  + \" + \" +  \" + \".join(topic_cols.values())\n",
    "\n",
    "results = smf.ols(formula, data=log_joined).fit()\n",
    "print(results.summary())"
   ]
  },
  {
   "cell_type": "markdown",
   "metadata": {},
   "source": [
    "## Different model specifications\n",
    "### Simple linear model as per Kilgo et al.\n",
    "`'post_karma ~ total_post_karma + longevity'`"
   ]
  },
  {
   "cell_type": "code",
   "execution_count": null,
   "metadata": {},
   "outputs": [],
   "source": [
    "formula = 'post_karma ~ total_post_karma + longevity'\n",
    "\n",
    "results = smf.ols(formula, data=data).fit()\n",
    "print(results.summary())"
   ]
  }
 ],
 "metadata": {
  "interpreter": {
   "hash": "458e57744219fd35e36fe617bee87769eccb7cd58eff0111259e94f378fae128"
  },
  "kernelspec": {
   "display_name": "css",
   "language": "python",
   "name": "css"
  },
  "language_info": {
   "codemirror_mode": {
    "name": "ipython",
    "version": 3
   },
   "file_extension": ".py",
   "mimetype": "text/x-python",
   "name": "python",
   "nbconvert_exporter": "python",
   "pygments_lexer": "ipython3",
   "version": "3.9.7"
  }
 },
 "nbformat": 4,
 "nbformat_minor": 4
}
