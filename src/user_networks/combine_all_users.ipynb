{
 "cells": [
  {
   "cell_type": "markdown",
   "metadata": {},
   "source": [
    "# Combining all individual user statistics collected on multiple machines\n",
    "\n",
    "This notebook simply combines `user_stats.csv` files collected on all machines into a single file."
   ]
  },
  {
   "cell_type": "code",
   "execution_count": 13,
   "metadata": {},
   "outputs": [],
   "source": [
    "import polars as pl\n",
    "from pathlib import Path\n",
    "\n",
    "path = '../../data/users/summaries/'\n",
    "folders = ['local', 'aurimas.eu', 'vm1', 'vm2']\n",
    "files = [Path(path + f + '/user_stats.csv').absolute() for f in folders]\n",
    "all_stats = path + 'combined/user_stats.csv'"
   ]
  },
  {
   "cell_type": "code",
   "execution_count": 12,
   "metadata": {},
   "outputs": [
    {
     "name": "stdout",
     "output_type": "stream",
     "text": [
      "Processing file 0 out of 3\n",
      "Processing file 1 out of 3\n",
      "Processing file 2 out of 3\n"
     ]
    }
   ],
   "source": [
    "df = pl.read_csv(files[0])\n",
    "\n",
    "for i,f in enumerate(files[1:]):\n",
    "    print(\"Processing file {} out of {}\".format(i, len(files) - 1))\n",
    "    new_df = pl.read_csv(f)\n",
    "    df.vstack(new_df, in_place=True)\n",
    "    df = df.lazy().groupby(\"user_name\").agg([\n",
    "        pl.col(\"no_posts\").sum(),\n",
    "        pl.col(\"no_comments\").sum(),\n",
    "        pl.col(\"post_karma\").sum(),\n",
    "        pl.col(\"comment_karma\").sum(),        \n",
    "        pl.col(\"first_date\").min(),\n",
    "        pl.col(\"last_date\").max(),\n",
    "        pl.col(\"total_activity\").sum()\n",
    "    ]).collect()    "
   ]
  },
  {
   "cell_type": "code",
   "execution_count": 14,
   "metadata": {},
   "outputs": [],
   "source": [
    "df.lazy().sort(\"total_activity\", reverse=True).collect().to_csv(all_stats)"
   ]
  },
  {
   "cell_type": "code",
   "execution_count": 15,
   "metadata": {},
   "outputs": [
    {
     "name": "stdout",
     "output_type": "stream",
     "text": [
      "446523 users (54.8%) with at least 2 activities in the dataset\n",
      "321805 users (39.5%) with at least 3 activities in the dataset\n",
      "211508 users (26.0%) with at least 5 activities in the dataset\n",
      "114475 users (14.1%) with at least 10 activities in the dataset\n",
      "57813 users (7.1%) with at least 20 activities in the dataset\n",
      "19926 users (2.4%) with at least 50 activities in the dataset\n",
      "7810 users (1.0%) with at least 100 activities in the dataset\n"
     ]
    }
   ],
   "source": [
    "#Check basic statistics on user activity levels\n",
    "activity_levels = [2, 3, 5, 10, 20, 50, 100]\n",
    "total_users = df.shape[0]\n",
    "\n",
    "for level in activity_levels:\n",
    "    no_users = df.filter((pl.col(\"total_activity\") >= level)).shape[0]\n",
    "    print(\"{} users ({:.1f}%) with at least {} activities in the dataset\".format(no_users, no_users / total_users * 100, level))"
   ]
  }
 ],
 "metadata": {
  "interpreter": {
   "hash": "458e57744219fd35e36fe617bee87769eccb7cd58eff0111259e94f378fae128"
  },
  "kernelspec": {
   "display_name": "Python 3.9.7 ('css')",
   "language": "python",
   "name": "python3"
  },
  "language_info": {
   "codemirror_mode": {
    "name": "ipython",
    "version": 3
   },
   "file_extension": ".py",
   "mimetype": "text/x-python",
   "name": "python",
   "nbconvert_exporter": "python",
   "pygments_lexer": "ipython3",
   "version": "3.9.7"
  },
  "orig_nbformat": 4
 },
 "nbformat": 4,
 "nbformat_minor": 2
}
