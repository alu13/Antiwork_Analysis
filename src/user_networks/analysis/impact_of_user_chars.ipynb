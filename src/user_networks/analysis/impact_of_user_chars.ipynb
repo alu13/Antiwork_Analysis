{
 "cells": [
  {
   "cell_type": "code",
   "execution_count": 36,
   "metadata": {},
   "outputs": [],
   "source": [
    "import polars as pl\n",
    "import datetime\n",
    "import time\n",
    "\n",
    "sub_ids = \"../../../data/all_ids.csv\"\n",
    "recent_posts = '../../../data/users/leaders/post_ids.csv'"
   ]
  },
  {
   "cell_type": "markdown",
   "metadata": {},
   "source": [
    "## Finding the ids of the most recent posts to be used for analysis"
   ]
  },
  {
   "cell_type": "code",
   "execution_count": 32,
   "metadata": {},
   "outputs": [],
   "source": [
    "start_timestamp = datetime.date(2022,1,10).strftime(\"%s\")\n",
    "end_timestamp = datetime.date(2022,1,17).strftime(\"%s\")"
   ]
  },
  {
   "cell_type": "code",
   "execution_count": 34,
   "metadata": {},
   "outputs": [
    {
     "data": {
      "text/plain": [
       "(11228, 3)"
      ]
     },
     "execution_count": 34,
     "metadata": {},
     "output_type": "execute_result"
    }
   ],
   "source": [
    "cut_offs = pl.read_csv(sub_ids).filter(\n",
    "    (pl.col(\"created_utc\") >= start_timestamp) & \n",
    "    (pl.col(\"created_utc\") <= end_timestamp)\n",
    ")\n",
    "\n",
    "cut_offs.to_csv(recent_posts)\n",
    "cut_offs.shape"
   ]
  }
 ],
 "metadata": {
  "interpreter": {
   "hash": "458e57744219fd35e36fe617bee87769eccb7cd58eff0111259e94f378fae128"
  },
  "kernelspec": {
   "display_name": "Python 3.9.7 ('css')",
   "language": "python",
   "name": "python3"
  },
  "language_info": {
   "codemirror_mode": {
    "name": "ipython",
    "version": 3
   },
   "file_extension": ".py",
   "mimetype": "text/x-python",
   "name": "python",
   "nbconvert_exporter": "python",
   "pygments_lexer": "ipython3",
   "version": "3.9.7"
  },
  "orig_nbformat": 4
 },
 "nbformat": 4,
 "nbformat_minor": 2
}
