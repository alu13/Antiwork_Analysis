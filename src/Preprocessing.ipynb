{
 "cells": [
  {
   "cell_type": "code",
   "execution_count": 25,
   "id": "643653f2",
   "metadata": {},
   "outputs": [],
   "source": [
    "import pandas as pd\n",
    "import os\n",
    "import re\n",
    "\n",
    "path = '../data/submissions/raw/2019/2019-1.csv'\n",
    "\n"
   ]
  },
  {
   "cell_type": "code",
   "execution_count": 42,
   "id": "43fc8ab8",
   "metadata": {},
   "outputs": [],
   "source": [
    "def clean_data(path, year, month):\n",
    "    # Read CSV\n",
    "    submissions = pd.read_csv(path, index_col = 0)\n",
    "    print(len(submissions))\n",
    "    # Drop unnecessary columns\n",
    "    submissions = submissions.drop(columns = [\"is_image\", \"author\", \"url\", \"num_comments\", \"num_upvotes\"], axis = 1)\n",
    "\n",
    "    # Remove rows with null bodies\n",
    "    submissions = submissions.dropna()\n",
    "    print(len(submissions))\n",
    "    # Remove rows with [deleted] posts\n",
    "    submissions = submissions[submissions.body != \"[deleted]\"]\n",
    "    print(len(submissions))\n",
    "    # Remove rows with [\\n] bodies\n",
    "    submissions = submissions[submissions.body != \" \\n\"]\n",
    "    print(len(submissions))\n",
    "    # Replace the \\n special character with a space\n",
    "    submissions = submissions.replace(r'\\n', ' ', regex=True)\n",
    "    \n",
    "    # Replace backslashes with spaces (to separate links)\n",
    "    \n",
    "    # Remove all non alphanumeric characters\n",
    "    submissions['body'] = submissions['body'].map(lambda x: re.sub('[^0-9a-zA-Z \\-\\']+', ' ', x))\n",
    "    \n",
    "    # Lowercase all words\n",
    "    submissions['body'] = submissions['body'].map(lambda x: x.lower())\n",
    "    \n",
    "    # Reset dataframe index\n",
    "    submissions = submissions.reset_index(drop = True)\n",
    "    \n",
    "    # Save as CSV\n",
    "    path = \"../data/submissions/filtered/\" + str(year) + \"/\" + str(year) + \"-\" + str(month) + \".csv\"\n",
    "    submissions.to_csv(path)"
   ]
  },
  {
   "cell_type": "code",
   "execution_count": 44,
   "id": "1c306dc8",
   "metadata": {},
   "outputs": [
    {
     "name": "stderr",
     "output_type": "stream",
     "text": [
      "/var/folders/fx/3y2gshcx7fx5yyrrdm76t3lm0000gn/T/ipykernel_26102/1634538437.py:13: DtypeWarning: Columns (3) have mixed types.Specify dtype option on import or set low_memory=False.\n",
      "  clean_data(main_file, 2022, \"submission\")\n"
     ]
    },
    {
     "name": "stdout",
     "output_type": "stream",
     "text": [
      "209673\n",
      "157450\n",
      "156350\n",
      "152466\n"
     ]
    }
   ],
   "source": [
    "def clean_loop():\n",
    "    for year in range(2015, 2023):\n",
    "        if year == 2022:\n",
    "            for month in range(1, 2):\n",
    "                path = \"../data/submissions/raw/\" + str(year) + \"/\" + str(year) + \"-\" + str(month) + \".csv\"\n",
    "                clean_data(path, year, month)\n",
    "        else:\n",
    "            for month in range(1, 13):\n",
    "                path = \"../data/submissions/raw/\" + str(year) + \"/\" + str(year) + \"-\" + str(month) + \".csv\"\n",
    "                clean_data(path, year, month)\n",
    "def clean_merged_csv():\n",
    "    main_file = \"../data/submissions/raw/all_submissions.csv\"\n",
    "    clean_data(main_file, 2022, \"submission\")\n",
    "clean_merged_csv()"
   ]
  },
  {
   "cell_type": "code",
   "execution_count": 45,
   "id": "4bd2d968",
   "metadata": {},
   "outputs": [],
   "source": [
    "def merge_csv(csv1, csv2, name):\n",
    "    a = pd.read_csv(csv1, index_col = 0)\n",
    "    b = pd.read_csv(csv2, index_col = 0)\n",
    "    merged = pd.concat([a, b], axis = 0, ignore_index = True)\n",
    "    merged.to_csv(name)\n",
    "    \n",
    "def merge_all_filtered():\n",
    "    main_file = \"../data/submissions/filtered/all_submissions.csv\"\n",
    "    for year in range(2015, 2023):\n",
    "        if year == 2022:\n",
    "            for month in range(1, 2):\n",
    "                path = \"../data/submissions/filtered/\" + str(year) + \"/\" + str(year) + \"-\" + str(month) + \".csv\"\n",
    "                merge_csv(main_file, path, main_file)\n",
    "        else:\n",
    "            for month in range(1, 13):\n",
    "                path = \"../data/submissions/filtered/\" + str(year) + \"/\" + str(year) + \"-\" + str(month) + \".csv\"\n",
    "                merge_csv(main_file, path, main_file)\n",
    "def merge_all_unfiltered():\n",
    "    main_file = \"../data/submissions/raw/all_submissions.csv\"\n",
    "    for year in range(2015, 2023):\n",
    "        if year == 2022:\n",
    "            for month in range(1, 2):\n",
    "                path = \"../data/submissions/raw/\" + str(year) + \"/\" + str(year) + \"-\" + str(month) + \".csv\"\n",
    "                merge_csv(main_file, path, main_file)\n",
    "        else:\n",
    "            for month in range(1, 13):\n",
    "                path = \"../data/submissions/raw/\" + str(year) + \"/\" + str(year) + \"-\" + str(month) + \".csv\"\n",
    "                merge_csv(main_file, path, main_file)\n",
    "merge_all_filtered()"
   ]
  },
  {
   "cell_type": "code",
   "execution_count": null,
   "id": "1b9da10f",
   "metadata": {},
   "outputs": [],
   "source": []
  }
 ],
 "metadata": {
  "kernelspec": {
   "display_name": "Python 3 (ipykernel)",
   "language": "python",
   "name": "python3"
  },
  "language_info": {
   "codemirror_mode": {
    "name": "ipython",
    "version": 3
   },
   "file_extension": ".py",
   "mimetype": "text/x-python",
   "name": "python",
   "nbconvert_exporter": "python",
   "pygments_lexer": "ipython3",
   "version": "3.10.0"
  }
 },
 "nbformat": 4,
 "nbformat_minor": 5
}
