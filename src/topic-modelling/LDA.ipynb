{
 "cells": [
  {
   "cell_type": "code",
   "execution_count": 12,
   "metadata": {
    "colab": {
     "base_uri": "https://localhost:8080/"
    },
    "executionInfo": {
     "elapsed": 19108,
     "status": "ok",
     "timestamp": 1646204390867,
     "user": {
      "displayName": "Albert Lu",
      "photoUrl": "https://lh3.googleusercontent.com/a/default-user=s64",
      "userId": "10328123601387429987"
     },
     "user_tz": 300
    },
    "id": "CIHBF_FjbSNg",
    "outputId": "a4e41c36-d15b-4f12-85d6-7a146507336a"
   },
   "outputs": [
    {
     "name": "stdout",
     "output_type": "stream",
     "text": [
      "Collecting pyLDAvis\n",
      "  Downloading pyLDAvis-3.3.1.tar.gz (1.7 MB)\n",
      "\u001b[?25l\r",
      "\u001b[K     |▏                               | 10 kB 20.4 MB/s eta 0:00:01\r",
      "\u001b[K     |▍                               | 20 kB 12.4 MB/s eta 0:00:01\r",
      "\u001b[K     |▋                               | 30 kB 9.3 MB/s eta 0:00:01\r",
      "\u001b[K     |▉                               | 40 kB 8.4 MB/s eta 0:00:01\r",
      "\u001b[K     |█                               | 51 kB 4.3 MB/s eta 0:00:01\r",
      "\u001b[K     |█▏                              | 61 kB 5.1 MB/s eta 0:00:01\r",
      "\u001b[K     |█▍                              | 71 kB 5.4 MB/s eta 0:00:01\r",
      "\u001b[K     |█▋                              | 81 kB 5.6 MB/s eta 0:00:01\r",
      "\u001b[K     |█▉                              | 92 kB 6.2 MB/s eta 0:00:01\r",
      "\u001b[K     |██                              | 102 kB 5.0 MB/s eta 0:00:01\r",
      "\u001b[K     |██▏                             | 112 kB 5.0 MB/s eta 0:00:01\r",
      "\u001b[K     |██▍                             | 122 kB 5.0 MB/s eta 0:00:01\r",
      "\u001b[K     |██▋                             | 133 kB 5.0 MB/s eta 0:00:01\r",
      "\u001b[K     |██▊                             | 143 kB 5.0 MB/s eta 0:00:01\r",
      "\u001b[K     |███                             | 153 kB 5.0 MB/s eta 0:00:01\r",
      "\u001b[K     |███▏                            | 163 kB 5.0 MB/s eta 0:00:01\r",
      "\u001b[K     |███▍                            | 174 kB 5.0 MB/s eta 0:00:01\r",
      "\u001b[K     |███▋                            | 184 kB 5.0 MB/s eta 0:00:01\r",
      "\u001b[K     |███▊                            | 194 kB 5.0 MB/s eta 0:00:01\r",
      "\u001b[K     |████                            | 204 kB 5.0 MB/s eta 0:00:01\r",
      "\u001b[K     |████▏                           | 215 kB 5.0 MB/s eta 0:00:01\r",
      "\u001b[K     |████▍                           | 225 kB 5.0 MB/s eta 0:00:01\r",
      "\u001b[K     |████▋                           | 235 kB 5.0 MB/s eta 0:00:01\r",
      "\u001b[K     |████▊                           | 245 kB 5.0 MB/s eta 0:00:01\r",
      "\u001b[K     |█████                           | 256 kB 5.0 MB/s eta 0:00:01\r",
      "\u001b[K     |█████▏                          | 266 kB 5.0 MB/s eta 0:00:01\r",
      "\u001b[K     |█████▍                          | 276 kB 5.0 MB/s eta 0:00:01\r",
      "\u001b[K     |█████▌                          | 286 kB 5.0 MB/s eta 0:00:01\r",
      "\u001b[K     |█████▊                          | 296 kB 5.0 MB/s eta 0:00:01\r",
      "\u001b[K     |██████                          | 307 kB 5.0 MB/s eta 0:00:01\r",
      "\u001b[K     |██████▏                         | 317 kB 5.0 MB/s eta 0:00:01\r",
      "\u001b[K     |██████▍                         | 327 kB 5.0 MB/s eta 0:00:01\r",
      "\u001b[K     |██████▌                         | 337 kB 5.0 MB/s eta 0:00:01\r",
      "\u001b[K     |██████▊                         | 348 kB 5.0 MB/s eta 0:00:01\r",
      "\u001b[K     |███████                         | 358 kB 5.0 MB/s eta 0:00:01\r",
      "\u001b[K     |███████▏                        | 368 kB 5.0 MB/s eta 0:00:01\r",
      "\u001b[K     |███████▎                        | 378 kB 5.0 MB/s eta 0:00:01\r",
      "\u001b[K     |███████▌                        | 389 kB 5.0 MB/s eta 0:00:01\r",
      "\u001b[K     |███████▊                        | 399 kB 5.0 MB/s eta 0:00:01\r",
      "\u001b[K     |████████                        | 409 kB 5.0 MB/s eta 0:00:01\r",
      "\u001b[K     |████████▏                       | 419 kB 5.0 MB/s eta 0:00:01\r",
      "\u001b[K     |████████▎                       | 430 kB 5.0 MB/s eta 0:00:01\r",
      "\u001b[K     |████████▌                       | 440 kB 5.0 MB/s eta 0:00:01\r",
      "\u001b[K     |████████▊                       | 450 kB 5.0 MB/s eta 0:00:01\r",
      "\u001b[K     |█████████                       | 460 kB 5.0 MB/s eta 0:00:01\r",
      "\u001b[K     |█████████▏                      | 471 kB 5.0 MB/s eta 0:00:01\r",
      "\u001b[K     |█████████▎                      | 481 kB 5.0 MB/s eta 0:00:01\r",
      "\u001b[K     |█████████▌                      | 491 kB 5.0 MB/s eta 0:00:01\r",
      "\u001b[K     |█████████▊                      | 501 kB 5.0 MB/s eta 0:00:01\r",
      "\u001b[K     |██████████                      | 512 kB 5.0 MB/s eta 0:00:01\r",
      "\u001b[K     |██████████                      | 522 kB 5.0 MB/s eta 0:00:01\r",
      "\u001b[K     |██████████▎                     | 532 kB 5.0 MB/s eta 0:00:01\r",
      "\u001b[K     |██████████▌                     | 542 kB 5.0 MB/s eta 0:00:01\r",
      "\u001b[K     |██████████▊                     | 552 kB 5.0 MB/s eta 0:00:01\r",
      "\u001b[K     |███████████                     | 563 kB 5.0 MB/s eta 0:00:01\r",
      "\u001b[K     |███████████                     | 573 kB 5.0 MB/s eta 0:00:01\r",
      "\u001b[K     |███████████▎                    | 583 kB 5.0 MB/s eta 0:00:01\r",
      "\u001b[K     |███████████▌                    | 593 kB 5.0 MB/s eta 0:00:01\r",
      "\u001b[K     |███████████▊                    | 604 kB 5.0 MB/s eta 0:00:01\r",
      "\u001b[K     |███████████▉                    | 614 kB 5.0 MB/s eta 0:00:01\r",
      "\u001b[K     |████████████                    | 624 kB 5.0 MB/s eta 0:00:01\r",
      "\u001b[K     |████████████▎                   | 634 kB 5.0 MB/s eta 0:00:01\r",
      "\u001b[K     |████████████▌                   | 645 kB 5.0 MB/s eta 0:00:01\r",
      "\u001b[K     |████████████▊                   | 655 kB 5.0 MB/s eta 0:00:01\r",
      "\u001b[K     |████████████▉                   | 665 kB 5.0 MB/s eta 0:00:01\r",
      "\u001b[K     |█████████████                   | 675 kB 5.0 MB/s eta 0:00:01\r",
      "\u001b[K     |█████████████▎                  | 686 kB 5.0 MB/s eta 0:00:01\r",
      "\u001b[K     |█████████████▌                  | 696 kB 5.0 MB/s eta 0:00:01\r",
      "\u001b[K     |█████████████▊                  | 706 kB 5.0 MB/s eta 0:00:01\r",
      "\u001b[K     |█████████████▉                  | 716 kB 5.0 MB/s eta 0:00:01\r",
      "\u001b[K     |██████████████                  | 727 kB 5.0 MB/s eta 0:00:01\r",
      "\u001b[K     |██████████████▎                 | 737 kB 5.0 MB/s eta 0:00:01\r",
      "\u001b[K     |██████████████▌                 | 747 kB 5.0 MB/s eta 0:00:01\r",
      "\u001b[K     |██████████████▋                 | 757 kB 5.0 MB/s eta 0:00:01\r",
      "\u001b[K     |██████████████▉                 | 768 kB 5.0 MB/s eta 0:00:01\r",
      "\u001b[K     |███████████████                 | 778 kB 5.0 MB/s eta 0:00:01\r",
      "\u001b[K     |███████████████▎                | 788 kB 5.0 MB/s eta 0:00:01\r",
      "\u001b[K     |███████████████▌                | 798 kB 5.0 MB/s eta 0:00:01\r",
      "\u001b[K     |███████████████▋                | 808 kB 5.0 MB/s eta 0:00:01\r",
      "\u001b[K     |███████████████▉                | 819 kB 5.0 MB/s eta 0:00:01\r",
      "\u001b[K     |████████████████                | 829 kB 5.0 MB/s eta 0:00:01\r",
      "\u001b[K     |████████████████▎               | 839 kB 5.0 MB/s eta 0:00:01\r",
      "\u001b[K     |████████████████▍               | 849 kB 5.0 MB/s eta 0:00:01\r",
      "\u001b[K     |████████████████▋               | 860 kB 5.0 MB/s eta 0:00:01\r",
      "\u001b[K     |████████████████▉               | 870 kB 5.0 MB/s eta 0:00:01\r",
      "\u001b[K     |█████████████████               | 880 kB 5.0 MB/s eta 0:00:01\r",
      "\u001b[K     |█████████████████▎              | 890 kB 5.0 MB/s eta 0:00:01\r",
      "\u001b[K     |█████████████████▍              | 901 kB 5.0 MB/s eta 0:00:01\r",
      "\u001b[K     |█████████████████▋              | 911 kB 5.0 MB/s eta 0:00:01\r",
      "\u001b[K     |█████████████████▉              | 921 kB 5.0 MB/s eta 0:00:01\r",
      "\u001b[K     |██████████████████              | 931 kB 5.0 MB/s eta 0:00:01\r",
      "\u001b[K     |██████████████████▎             | 942 kB 5.0 MB/s eta 0:00:01\r",
      "\u001b[K     |██████████████████▍             | 952 kB 5.0 MB/s eta 0:00:01\r",
      "\u001b[K     |██████████████████▋             | 962 kB 5.0 MB/s eta 0:00:01\r",
      "\u001b[K     |██████████████████▉             | 972 kB 5.0 MB/s eta 0:00:01\r",
      "\u001b[K     |███████████████████             | 983 kB 5.0 MB/s eta 0:00:01\r",
      "\u001b[K     |███████████████████▏            | 993 kB 5.0 MB/s eta 0:00:01\r",
      "\u001b[K     |███████████████████▍            | 1.0 MB 5.0 MB/s eta 0:00:01\r",
      "\u001b[K     |███████████████████▋            | 1.0 MB 5.0 MB/s eta 0:00:01\r",
      "\u001b[K     |███████████████████▉            | 1.0 MB 5.0 MB/s eta 0:00:01\r",
      "\u001b[K     |████████████████████            | 1.0 MB 5.0 MB/s eta 0:00:01\r",
      "\u001b[K     |████████████████████▏           | 1.0 MB 5.0 MB/s eta 0:00:01\r",
      "\u001b[K     |████████████████████▍           | 1.1 MB 5.0 MB/s eta 0:00:01\r",
      "\u001b[K     |████████████████████▋           | 1.1 MB 5.0 MB/s eta 0:00:01\r",
      "\u001b[K     |████████████████████▉           | 1.1 MB 5.0 MB/s eta 0:00:01\r",
      "\u001b[K     |█████████████████████           | 1.1 MB 5.0 MB/s eta 0:00:01\r",
      "\u001b[K     |█████████████████████▏          | 1.1 MB 5.0 MB/s eta 0:00:01\r",
      "\u001b[K     |█████████████████████▍          | 1.1 MB 5.0 MB/s eta 0:00:01\r",
      "\u001b[K     |█████████████████████▋          | 1.1 MB 5.0 MB/s eta 0:00:01\r",
      "\u001b[K     |█████████████████████▉          | 1.1 MB 5.0 MB/s eta 0:00:01\r",
      "\u001b[K     |██████████████████████          | 1.1 MB 5.0 MB/s eta 0:00:01\r",
      "\u001b[K     |██████████████████████▏         | 1.1 MB 5.0 MB/s eta 0:00:01\r",
      "\u001b[K     |██████████████████████▍         | 1.2 MB 5.0 MB/s eta 0:00:01\r",
      "\u001b[K     |██████████████████████▋         | 1.2 MB 5.0 MB/s eta 0:00:01\r",
      "\u001b[K     |██████████████████████▉         | 1.2 MB 5.0 MB/s eta 0:00:01\r",
      "\u001b[K     |███████████████████████         | 1.2 MB 5.0 MB/s eta 0:00:01\r",
      "\u001b[K     |███████████████████████▏        | 1.2 MB 5.0 MB/s eta 0:00:01\r",
      "\u001b[K     |███████████████████████▍        | 1.2 MB 5.0 MB/s eta 0:00:01\r",
      "\u001b[K     |███████████████████████▋        | 1.2 MB 5.0 MB/s eta 0:00:01\r",
      "\u001b[K     |███████████████████████▊        | 1.2 MB 5.0 MB/s eta 0:00:01\r",
      "\u001b[K     |████████████████████████        | 1.2 MB 5.0 MB/s eta 0:00:01\r",
      "\u001b[K     |████████████████████████▏       | 1.2 MB 5.0 MB/s eta 0:00:01\r",
      "\u001b[K     |████████████████████████▍       | 1.3 MB 5.0 MB/s eta 0:00:01\r",
      "\u001b[K     |████████████████████████▋       | 1.3 MB 5.0 MB/s eta 0:00:01\r",
      "\u001b[K     |████████████████████████▊       | 1.3 MB 5.0 MB/s eta 0:00:01\r",
      "\u001b[K     |█████████████████████████       | 1.3 MB 5.0 MB/s eta 0:00:01\r",
      "\u001b[K     |█████████████████████████▏      | 1.3 MB 5.0 MB/s eta 0:00:01\r",
      "\u001b[K     |█████████████████████████▍      | 1.3 MB 5.0 MB/s eta 0:00:01\r",
      "\u001b[K     |█████████████████████████▌      | 1.3 MB 5.0 MB/s eta 0:00:01\r",
      "\u001b[K     |█████████████████████████▊      | 1.3 MB 5.0 MB/s eta 0:00:01\r",
      "\u001b[K     |██████████████████████████      | 1.3 MB 5.0 MB/s eta 0:00:01\r",
      "\u001b[K     |██████████████████████████▏     | 1.4 MB 5.0 MB/s eta 0:00:01\r",
      "\u001b[K     |██████████████████████████▍     | 1.4 MB 5.0 MB/s eta 0:00:01\r",
      "\u001b[K     |██████████████████████████▌     | 1.4 MB 5.0 MB/s eta 0:00:01\r",
      "\u001b[K     |██████████████████████████▊     | 1.4 MB 5.0 MB/s eta 0:00:01\r",
      "\u001b[K     |███████████████████████████     | 1.4 MB 5.0 MB/s eta 0:00:01\r",
      "\u001b[K     |███████████████████████████▏    | 1.4 MB 5.0 MB/s eta 0:00:01\r",
      "\u001b[K     |███████████████████████████▍    | 1.4 MB 5.0 MB/s eta 0:00:01\r",
      "\u001b[K     |███████████████████████████▌    | 1.4 MB 5.0 MB/s eta 0:00:01\r",
      "\u001b[K     |███████████████████████████▊    | 1.4 MB 5.0 MB/s eta 0:00:01\r",
      "\u001b[K     |████████████████████████████    | 1.4 MB 5.0 MB/s eta 0:00:01\r",
      "\u001b[K     |████████████████████████████▏   | 1.5 MB 5.0 MB/s eta 0:00:01\r",
      "\u001b[K     |████████████████████████████▎   | 1.5 MB 5.0 MB/s eta 0:00:01\r",
      "\u001b[K     |████████████████████████████▌   | 1.5 MB 5.0 MB/s eta 0:00:01\r",
      "\u001b[K     |████████████████████████████▊   | 1.5 MB 5.0 MB/s eta 0:00:01\r",
      "\u001b[K     |█████████████████████████████   | 1.5 MB 5.0 MB/s eta 0:00:01\r",
      "\u001b[K     |█████████████████████████████▏  | 1.5 MB 5.0 MB/s eta 0:00:01\r",
      "\u001b[K     |█████████████████████████████▎  | 1.5 MB 5.0 MB/s eta 0:00:01\r",
      "\u001b[K     |█████████████████████████████▌  | 1.5 MB 5.0 MB/s eta 0:00:01\r",
      "\u001b[K     |█████████████████████████████▊  | 1.5 MB 5.0 MB/s eta 0:00:01\r",
      "\u001b[K     |██████████████████████████████  | 1.5 MB 5.0 MB/s eta 0:00:01\r",
      "\u001b[K     |██████████████████████████████▏ | 1.6 MB 5.0 MB/s eta 0:00:01\r",
      "\u001b[K     |██████████████████████████████▎ | 1.6 MB 5.0 MB/s eta 0:00:01\r",
      "\u001b[K     |██████████████████████████████▌ | 1.6 MB 5.0 MB/s eta 0:00:01\r",
      "\u001b[K     |██████████████████████████████▊ | 1.6 MB 5.0 MB/s eta 0:00:01\r",
      "\u001b[K     |███████████████████████████████ | 1.6 MB 5.0 MB/s eta 0:00:01\r",
      "\u001b[K     |███████████████████████████████ | 1.6 MB 5.0 MB/s eta 0:00:01\r",
      "\u001b[K     |███████████████████████████████▎| 1.6 MB 5.0 MB/s eta 0:00:01\r",
      "\u001b[K     |███████████████████████████████▌| 1.6 MB 5.0 MB/s eta 0:00:01\r",
      "\u001b[K     |███████████████████████████████▊| 1.6 MB 5.0 MB/s eta 0:00:01\r",
      "\u001b[K     |████████████████████████████████| 1.6 MB 5.0 MB/s eta 0:00:01\r",
      "\u001b[K     |████████████████████████████████| 1.7 MB 5.0 MB/s \n",
      "\u001b[?25h  Installing build dependencies ... \u001b[?25l\u001b[?25hdone\n",
      "  Getting requirements to build wheel ... \u001b[?25l\u001b[?25hdone\n",
      "  Installing backend dependencies ... \u001b[?25l\u001b[?25hdone\n",
      "    Preparing wheel metadata ... \u001b[?25l\u001b[?25hdone\n",
      "Requirement already satisfied: future in /usr/local/lib/python3.7/dist-packages (from pyLDAvis) (0.16.0)\n",
      "Requirement already satisfied: numpy>=1.20.0 in /usr/local/lib/python3.7/dist-packages (from pyLDAvis) (1.21.5)\n",
      "Collecting funcy\n",
      "  Downloading funcy-1.17-py2.py3-none-any.whl (33 kB)\n",
      "Requirement already satisfied: pandas>=1.2.0 in /usr/local/lib/python3.7/dist-packages (from pyLDAvis) (1.3.5)\n",
      "Requirement already satisfied: jinja2 in /usr/local/lib/python3.7/dist-packages (from pyLDAvis) (2.11.3)\n",
      "Requirement already satisfied: setuptools in /usr/local/lib/python3.7/dist-packages (from pyLDAvis) (57.4.0)\n",
      "Requirement already satisfied: scikit-learn in /usr/local/lib/python3.7/dist-packages (from pyLDAvis) (1.0.2)\n",
      "Requirement already satisfied: numexpr in /usr/local/lib/python3.7/dist-packages (from pyLDAvis) (2.8.1)\n",
      "Requirement already satisfied: sklearn in /usr/local/lib/python3.7/dist-packages (from pyLDAvis) (0.0)\n",
      "Requirement already satisfied: gensim in /usr/local/lib/python3.7/dist-packages (from pyLDAvis) (3.6.0)\n",
      "Requirement already satisfied: scipy in /usr/local/lib/python3.7/dist-packages (from pyLDAvis) (1.4.1)\n",
      "Requirement already satisfied: joblib in /usr/local/lib/python3.7/dist-packages (from pyLDAvis) (1.1.0)\n",
      "Requirement already satisfied: python-dateutil>=2.7.3 in /usr/local/lib/python3.7/dist-packages (from pandas>=1.2.0->pyLDAvis) (2.8.2)\n",
      "Requirement already satisfied: pytz>=2017.3 in /usr/local/lib/python3.7/dist-packages (from pandas>=1.2.0->pyLDAvis) (2018.9)\n",
      "Requirement already satisfied: six>=1.5 in /usr/local/lib/python3.7/dist-packages (from python-dateutil>=2.7.3->pandas>=1.2.0->pyLDAvis) (1.15.0)\n",
      "Requirement already satisfied: smart-open>=1.2.1 in /usr/local/lib/python3.7/dist-packages (from gensim->pyLDAvis) (5.2.1)\n",
      "Requirement already satisfied: MarkupSafe>=0.23 in /usr/local/lib/python3.7/dist-packages (from jinja2->pyLDAvis) (2.0.1)\n",
      "Requirement already satisfied: packaging in /usr/local/lib/python3.7/dist-packages (from numexpr->pyLDAvis) (21.3)\n",
      "Requirement already satisfied: pyparsing!=3.0.5,>=2.0.2 in /usr/local/lib/python3.7/dist-packages (from packaging->numexpr->pyLDAvis) (3.0.7)\n",
      "Requirement already satisfied: threadpoolctl>=2.0.0 in /usr/local/lib/python3.7/dist-packages (from scikit-learn->pyLDAvis) (3.1.0)\n",
      "Building wheels for collected packages: pyLDAvis\n",
      "  Building wheel for pyLDAvis (PEP 517) ... \u001b[?25l\u001b[?25hdone\n",
      "  Created wheel for pyLDAvis: filename=pyLDAvis-3.3.1-py2.py3-none-any.whl size=136898 sha256=27c4fde4ab4be2739a849233425b1a201c128dc602521748ab0fdc8312ea02e8\n",
      "  Stored in directory: /root/.cache/pip/wheels/c9/21/f6/17bcf2667e8a68532ba2fbf6d5c72fdf4c7f7d9abfa4852d2f\n",
      "Successfully built pyLDAvis\n",
      "Installing collected packages: funcy, pyLDAvis\n",
      "Successfully installed funcy-1.17 pyLDAvis-3.3.1\n"
     ]
    }
   ],
   "source": [
    "!pip3 install pyLDAvis"
   ]
  },
  {
   "cell_type": "code",
   "execution_count": 1,
   "metadata": {
    "colab": {
     "base_uri": "https://localhost:8080/"
    },
    "executionInfo": {
     "elapsed": 13835,
     "status": "ok",
     "timestamp": 1646203027503,
     "user": {
      "displayName": "Albert Lu",
      "photoUrl": "https://lh3.googleusercontent.com/a/default-user=s64",
      "userId": "10328123601387429987"
     },
     "user_tz": 300
    },
    "id": "2KP1EfIgWGlu",
    "outputId": "33a96351-9780-44ff-a724-e39230c785c9"
   },
   "outputs": [
    {
     "name": "stdout",
     "output_type": "stream",
     "text": [
      "Mounted at /content/drive\n"
     ]
    }
   ],
   "source": [
    "from google.colab import drive\n",
    "drive.mount('/content/drive')"
   ]
  },
  {
   "cell_type": "code",
   "execution_count": 2,
   "metadata": {
    "colab": {
     "base_uri": "https://localhost:8080/"
    },
    "executionInfo": {
     "elapsed": 120,
     "status": "ok",
     "timestamp": 1646203038684,
     "user": {
      "displayName": "Albert Lu",
      "photoUrl": "https://lh3.googleusercontent.com/a/default-user=s64",
      "userId": "10328123601387429987"
     },
     "user_tz": 300
    },
    "id": "QxqSQX5xWL7H",
    "outputId": "77378924-53eb-4b8e-8dfa-f791cb388b12"
   },
   "outputs": [
    {
     "name": "stdout",
     "output_type": "stream",
     "text": [
      "/content/drive/MyDrive/Colab Notebooks/CSS Project\n"
     ]
    }
   ],
   "source": [
    "path = 'drive/MyDrive/Colab Notebooks/CSS Project' \n",
    "%cd $path"
   ]
  },
  {
   "cell_type": "code",
   "execution_count": 3,
   "metadata": {
    "colab": {
     "base_uri": "https://localhost:8080/",
     "height": 354
    },
    "executionInfo": {
     "elapsed": 4189,
     "status": "ok",
     "timestamp": 1646203043926,
     "user": {
      "displayName": "Albert Lu",
      "photoUrl": "https://lh3.googleusercontent.com/a/default-user=s64",
      "userId": "10328123601387429987"
     },
     "user_tz": 300
    },
    "id": "gbNXvgatnhg9",
    "outputId": "64f92454-14b1-4f5d-820f-21f7455398de"
   },
   "outputs": [
    {
     "name": "stdout",
     "output_type": "stream",
     "text": [
      "/content/drive/MyDrive/Colab Notebooks/CSS Project\n"
     ]
    },
    {
     "data": {
      "text/html": [
       "\n",
       "  <div id=\"df-9e38777a-6298-4cda-b37d-43e8933e4c03\">\n",
       "    <div class=\"colab-df-container\">\n",
       "      <div>\n",
       "<style scoped>\n",
       "    .dataframe tbody tr th:only-of-type {\n",
       "        vertical-align: middle;\n",
       "    }\n",
       "\n",
       "    .dataframe tbody tr th {\n",
       "        vertical-align: top;\n",
       "    }\n",
       "\n",
       "    .dataframe thead th {\n",
       "        text-align: right;\n",
       "    }\n",
       "</style>\n",
       "<table border=\"1\" class=\"dataframe\">\n",
       "  <thead>\n",
       "    <tr style=\"text-align: right;\">\n",
       "      <th></th>\n",
       "      <th>id</th>\n",
       "      <th>year</th>\n",
       "      <th>title</th>\n",
       "      <th>event_type</th>\n",
       "      <th>pdf_name</th>\n",
       "      <th>abstract</th>\n",
       "      <th>paper_text</th>\n",
       "    </tr>\n",
       "  </thead>\n",
       "  <tbody>\n",
       "    <tr>\n",
       "      <th>0</th>\n",
       "      <td>1</td>\n",
       "      <td>1987</td>\n",
       "      <td>Self-Organization of Associative Database and ...</td>\n",
       "      <td>NaN</td>\n",
       "      <td>1-self-organization-of-associative-database-an...</td>\n",
       "      <td>Abstract Missing</td>\n",
       "      <td>767\\n\\nSELF-ORGANIZATION OF ASSOCIATIVE DATABA...</td>\n",
       "    </tr>\n",
       "    <tr>\n",
       "      <th>1</th>\n",
       "      <td>10</td>\n",
       "      <td>1987</td>\n",
       "      <td>A Mean Field Theory of Layer IV of Visual Cort...</td>\n",
       "      <td>NaN</td>\n",
       "      <td>10-a-mean-field-theory-of-layer-iv-of-visual-c...</td>\n",
       "      <td>Abstract Missing</td>\n",
       "      <td>683\\n\\nA MEAN FIELD THEORY OF LAYER IV OF VISU...</td>\n",
       "    </tr>\n",
       "    <tr>\n",
       "      <th>2</th>\n",
       "      <td>100</td>\n",
       "      <td>1988</td>\n",
       "      <td>Storing Covariance by the Associative Long-Ter...</td>\n",
       "      <td>NaN</td>\n",
       "      <td>100-storing-covariance-by-the-associative-long...</td>\n",
       "      <td>Abstract Missing</td>\n",
       "      <td>394\\n\\nSTORING COVARIANCE BY THE ASSOCIATIVE\\n...</td>\n",
       "    </tr>\n",
       "    <tr>\n",
       "      <th>3</th>\n",
       "      <td>1000</td>\n",
       "      <td>1994</td>\n",
       "      <td>Bayesian Query Construction for Neural Network...</td>\n",
       "      <td>NaN</td>\n",
       "      <td>1000-bayesian-query-construction-for-neural-ne...</td>\n",
       "      <td>Abstract Missing</td>\n",
       "      <td>Bayesian Query Construction for Neural\\nNetwor...</td>\n",
       "    </tr>\n",
       "    <tr>\n",
       "      <th>4</th>\n",
       "      <td>1001</td>\n",
       "      <td>1994</td>\n",
       "      <td>Neural Network Ensembles, Cross Validation, an...</td>\n",
       "      <td>NaN</td>\n",
       "      <td>1001-neural-network-ensembles-cross-validation...</td>\n",
       "      <td>Abstract Missing</td>\n",
       "      <td>Neural Network Ensembles, Cross\\nValidation, a...</td>\n",
       "    </tr>\n",
       "  </tbody>\n",
       "</table>\n",
       "</div>\n",
       "      <button class=\"colab-df-convert\" onclick=\"convertToInteractive('df-9e38777a-6298-4cda-b37d-43e8933e4c03')\"\n",
       "              title=\"Convert this dataframe to an interactive table.\"\n",
       "              style=\"display:none;\">\n",
       "        \n",
       "  <svg xmlns=\"http://www.w3.org/2000/svg\" height=\"24px\"viewBox=\"0 0 24 24\"\n",
       "       width=\"24px\">\n",
       "    <path d=\"M0 0h24v24H0V0z\" fill=\"none\"/>\n",
       "    <path d=\"M18.56 5.44l.94 2.06.94-2.06 2.06-.94-2.06-.94-.94-2.06-.94 2.06-2.06.94zm-11 1L8.5 8.5l.94-2.06 2.06-.94-2.06-.94L8.5 2.5l-.94 2.06-2.06.94zm10 10l.94 2.06.94-2.06 2.06-.94-2.06-.94-.94-2.06-.94 2.06-2.06.94z\"/><path d=\"M17.41 7.96l-1.37-1.37c-.4-.4-.92-.59-1.43-.59-.52 0-1.04.2-1.43.59L10.3 9.45l-7.72 7.72c-.78.78-.78 2.05 0 2.83L4 21.41c.39.39.9.59 1.41.59.51 0 1.02-.2 1.41-.59l7.78-7.78 2.81-2.81c.8-.78.8-2.07 0-2.86zM5.41 20L4 18.59l7.72-7.72 1.47 1.35L5.41 20z\"/>\n",
       "  </svg>\n",
       "      </button>\n",
       "      \n",
       "  <style>\n",
       "    .colab-df-container {\n",
       "      display:flex;\n",
       "      flex-wrap:wrap;\n",
       "      gap: 12px;\n",
       "    }\n",
       "\n",
       "    .colab-df-convert {\n",
       "      background-color: #E8F0FE;\n",
       "      border: none;\n",
       "      border-radius: 50%;\n",
       "      cursor: pointer;\n",
       "      display: none;\n",
       "      fill: #1967D2;\n",
       "      height: 32px;\n",
       "      padding: 0 0 0 0;\n",
       "      width: 32px;\n",
       "    }\n",
       "\n",
       "    .colab-df-convert:hover {\n",
       "      background-color: #E2EBFA;\n",
       "      box-shadow: 0px 1px 2px rgba(60, 64, 67, 0.3), 0px 1px 3px 1px rgba(60, 64, 67, 0.15);\n",
       "      fill: #174EA6;\n",
       "    }\n",
       "\n",
       "    [theme=dark] .colab-df-convert {\n",
       "      background-color: #3B4455;\n",
       "      fill: #D2E3FC;\n",
       "    }\n",
       "\n",
       "    [theme=dark] .colab-df-convert:hover {\n",
       "      background-color: #434B5C;\n",
       "      box-shadow: 0px 1px 3px 1px rgba(0, 0, 0, 0.15);\n",
       "      filter: drop-shadow(0px 1px 2px rgba(0, 0, 0, 0.3));\n",
       "      fill: #FFFFFF;\n",
       "    }\n",
       "  </style>\n",
       "\n",
       "      <script>\n",
       "        const buttonEl =\n",
       "          document.querySelector('#df-9e38777a-6298-4cda-b37d-43e8933e4c03 button.colab-df-convert');\n",
       "        buttonEl.style.display =\n",
       "          google.colab.kernel.accessAllowed ? 'block' : 'none';\n",
       "\n",
       "        async function convertToInteractive(key) {\n",
       "          const element = document.querySelector('#df-9e38777a-6298-4cda-b37d-43e8933e4c03');\n",
       "          const dataTable =\n",
       "            await google.colab.kernel.invokeFunction('convertToInteractive',\n",
       "                                                     [key], {});\n",
       "          if (!dataTable) return;\n",
       "\n",
       "          const docLinkHtml = 'Like what you see? Visit the ' +\n",
       "            '<a target=\"_blank\" href=https://colab.research.google.com/notebooks/data_table.ipynb>data table notebook</a>'\n",
       "            + ' to learn more about interactive tables.';\n",
       "          element.innerHTML = '';\n",
       "          dataTable['output_type'] = 'display_data';\n",
       "          await google.colab.output.renderOutput(dataTable, element);\n",
       "          const docLink = document.createElement('div');\n",
       "          docLink.innerHTML = docLinkHtml;\n",
       "          element.appendChild(docLink);\n",
       "        }\n",
       "      </script>\n",
       "    </div>\n",
       "  </div>\n",
       "  "
      ],
      "text/plain": [
       "     id  ...                                         paper_text\n",
       "0     1  ...  767\\n\\nSELF-ORGANIZATION OF ASSOCIATIVE DATABA...\n",
       "1    10  ...  683\\n\\nA MEAN FIELD THEORY OF LAYER IV OF VISU...\n",
       "2   100  ...  394\\n\\nSTORING COVARIANCE BY THE ASSOCIATIVE\\n...\n",
       "3  1000  ...  Bayesian Query Construction for Neural\\nNetwor...\n",
       "4  1001  ...  Neural Network Ensembles, Cross\\nValidation, a...\n",
       "\n",
       "[5 rows x 7 columns]"
      ]
     },
     "execution_count": 3,
     "metadata": {},
     "output_type": "execute_result"
    }
   ],
   "source": [
    "# Importing modules\n",
    "import pandas as pd\n",
    "import os\n",
    "\n",
    "print(os.getcwd())\n",
    "# Read data into papers\n",
    "papers = pd.read_csv('NIPS Papers/papers.csv')\n",
    "\n",
    "# Print head\n",
    "papers.head()"
   ]
  },
  {
   "cell_type": "code",
   "execution_count": 4,
   "metadata": {
    "colab": {
     "base_uri": "https://localhost:8080/",
     "height": 250
    },
    "executionInfo": {
     "elapsed": 199,
     "status": "ok",
     "timestamp": 1646203061726,
     "user": {
      "displayName": "Albert Lu",
      "photoUrl": "https://lh3.googleusercontent.com/a/default-user=s64",
      "userId": "10328123601387429987"
     },
     "user_tz": 300
    },
    "id": "hvd_9xsAWT77",
    "outputId": "6b191dd6-8eb8-4155-b917-17a88ef5f3e0"
   },
   "outputs": [
    {
     "data": {
      "text/html": [
       "\n",
       "  <div id=\"df-354f6a47-2b6f-4f7c-a580-3d8a477a173d\">\n",
       "    <div class=\"colab-df-container\">\n",
       "      <div>\n",
       "<style scoped>\n",
       "    .dataframe tbody tr th:only-of-type {\n",
       "        vertical-align: middle;\n",
       "    }\n",
       "\n",
       "    .dataframe tbody tr th {\n",
       "        vertical-align: top;\n",
       "    }\n",
       "\n",
       "    .dataframe thead th {\n",
       "        text-align: right;\n",
       "    }\n",
       "</style>\n",
       "<table border=\"1\" class=\"dataframe\">\n",
       "  <thead>\n",
       "    <tr style=\"text-align: right;\">\n",
       "      <th></th>\n",
       "      <th>year</th>\n",
       "      <th>title</th>\n",
       "      <th>abstract</th>\n",
       "      <th>paper_text</th>\n",
       "    </tr>\n",
       "  </thead>\n",
       "  <tbody>\n",
       "    <tr>\n",
       "      <th>2763</th>\n",
       "      <td>2008</td>\n",
       "      <td>Understanding Brain Connectivity Patterns duri...</td>\n",
       "      <td>EEG connectivity measures could provide a new ...</td>\n",
       "      <td>Understanding Brain Connectivity Patterns duri...</td>\n",
       "    </tr>\n",
       "    <tr>\n",
       "      <th>5695</th>\n",
       "      <td>2016</td>\n",
       "      <td>Estimating Nonlinear Neural Response Functions...</td>\n",
       "      <td>Jointly characterizing neural responses in ter...</td>\n",
       "      <td>Estimating Nonlinear Neural Response Functions...</td>\n",
       "    </tr>\n",
       "    <tr>\n",
       "      <th>5464</th>\n",
       "      <td>2015</td>\n",
       "      <td>Saliency, Scale and Information: Towards a Uni...</td>\n",
       "      <td>In this paper we present a definition for visu...</td>\n",
       "      <td>Saliency, Scale and Information:\\nTowards a Un...</td>\n",
       "    </tr>\n",
       "    <tr>\n",
       "      <th>963</th>\n",
       "      <td>2000</td>\n",
       "      <td>Generalizable Singular Value Decomposition for...</td>\n",
       "      <td>Abstract Missing</td>\n",
       "      <td>Generalizable Singular Value\\nDecomposition fo...</td>\n",
       "    </tr>\n",
       "    <tr>\n",
       "      <th>1388</th>\n",
       "      <td>2002</td>\n",
       "      <td>Nash Propagation for Loopy Graphical Games</td>\n",
       "      <td>Abstract Missing</td>\n",
       "      <td>Nash Propagation for Loopy Graphical Games\\n\\n...</td>\n",
       "    </tr>\n",
       "  </tbody>\n",
       "</table>\n",
       "</div>\n",
       "      <button class=\"colab-df-convert\" onclick=\"convertToInteractive('df-354f6a47-2b6f-4f7c-a580-3d8a477a173d')\"\n",
       "              title=\"Convert this dataframe to an interactive table.\"\n",
       "              style=\"display:none;\">\n",
       "        \n",
       "  <svg xmlns=\"http://www.w3.org/2000/svg\" height=\"24px\"viewBox=\"0 0 24 24\"\n",
       "       width=\"24px\">\n",
       "    <path d=\"M0 0h24v24H0V0z\" fill=\"none\"/>\n",
       "    <path d=\"M18.56 5.44l.94 2.06.94-2.06 2.06-.94-2.06-.94-.94-2.06-.94 2.06-2.06.94zm-11 1L8.5 8.5l.94-2.06 2.06-.94-2.06-.94L8.5 2.5l-.94 2.06-2.06.94zm10 10l.94 2.06.94-2.06 2.06-.94-2.06-.94-.94-2.06-.94 2.06-2.06.94z\"/><path d=\"M17.41 7.96l-1.37-1.37c-.4-.4-.92-.59-1.43-.59-.52 0-1.04.2-1.43.59L10.3 9.45l-7.72 7.72c-.78.78-.78 2.05 0 2.83L4 21.41c.39.39.9.59 1.41.59.51 0 1.02-.2 1.41-.59l7.78-7.78 2.81-2.81c.8-.78.8-2.07 0-2.86zM5.41 20L4 18.59l7.72-7.72 1.47 1.35L5.41 20z\"/>\n",
       "  </svg>\n",
       "      </button>\n",
       "      \n",
       "  <style>\n",
       "    .colab-df-container {\n",
       "      display:flex;\n",
       "      flex-wrap:wrap;\n",
       "      gap: 12px;\n",
       "    }\n",
       "\n",
       "    .colab-df-convert {\n",
       "      background-color: #E8F0FE;\n",
       "      border: none;\n",
       "      border-radius: 50%;\n",
       "      cursor: pointer;\n",
       "      display: none;\n",
       "      fill: #1967D2;\n",
       "      height: 32px;\n",
       "      padding: 0 0 0 0;\n",
       "      width: 32px;\n",
       "    }\n",
       "\n",
       "    .colab-df-convert:hover {\n",
       "      background-color: #E2EBFA;\n",
       "      box-shadow: 0px 1px 2px rgba(60, 64, 67, 0.3), 0px 1px 3px 1px rgba(60, 64, 67, 0.15);\n",
       "      fill: #174EA6;\n",
       "    }\n",
       "\n",
       "    [theme=dark] .colab-df-convert {\n",
       "      background-color: #3B4455;\n",
       "      fill: #D2E3FC;\n",
       "    }\n",
       "\n",
       "    [theme=dark] .colab-df-convert:hover {\n",
       "      background-color: #434B5C;\n",
       "      box-shadow: 0px 1px 3px 1px rgba(0, 0, 0, 0.15);\n",
       "      filter: drop-shadow(0px 1px 2px rgba(0, 0, 0, 0.3));\n",
       "      fill: #FFFFFF;\n",
       "    }\n",
       "  </style>\n",
       "\n",
       "      <script>\n",
       "        const buttonEl =\n",
       "          document.querySelector('#df-354f6a47-2b6f-4f7c-a580-3d8a477a173d button.colab-df-convert');\n",
       "        buttonEl.style.display =\n",
       "          google.colab.kernel.accessAllowed ? 'block' : 'none';\n",
       "\n",
       "        async function convertToInteractive(key) {\n",
       "          const element = document.querySelector('#df-354f6a47-2b6f-4f7c-a580-3d8a477a173d');\n",
       "          const dataTable =\n",
       "            await google.colab.kernel.invokeFunction('convertToInteractive',\n",
       "                                                     [key], {});\n",
       "          if (!dataTable) return;\n",
       "\n",
       "          const docLinkHtml = 'Like what you see? Visit the ' +\n",
       "            '<a target=\"_blank\" href=https://colab.research.google.com/notebooks/data_table.ipynb>data table notebook</a>'\n",
       "            + ' to learn more about interactive tables.';\n",
       "          element.innerHTML = '';\n",
       "          dataTable['output_type'] = 'display_data';\n",
       "          await google.colab.output.renderOutput(dataTable, element);\n",
       "          const docLink = document.createElement('div');\n",
       "          docLink.innerHTML = docLinkHtml;\n",
       "          element.appendChild(docLink);\n",
       "        }\n",
       "      </script>\n",
       "    </div>\n",
       "  </div>\n",
       "  "
      ],
      "text/plain": [
       "      year  ...                                         paper_text\n",
       "2763  2008  ...  Understanding Brain Connectivity Patterns duri...\n",
       "5695  2016  ...  Estimating Nonlinear Neural Response Functions...\n",
       "5464  2015  ...  Saliency, Scale and Information:\\nTowards a Un...\n",
       "963   2000  ...  Generalizable Singular Value\\nDecomposition fo...\n",
       "1388  2002  ...  Nash Propagation for Loopy Graphical Games\\n\\n...\n",
       "\n",
       "[5 rows x 4 columns]"
      ]
     },
     "execution_count": 4,
     "metadata": {},
     "output_type": "execute_result"
    }
   ],
   "source": [
    "# Remove the columns\n",
    "papers = papers.drop(columns=['id', 'event_type', 'pdf_name'], axis=1).sample(100)\n",
    "\n",
    "# Print out the first rows of papers\n",
    "papers.head()"
   ]
  },
  {
   "cell_type": "code",
   "execution_count": 5,
   "metadata": {
    "colab": {
     "base_uri": "https://localhost:8080/"
    },
    "executionInfo": {
     "elapsed": 115,
     "status": "ok",
     "timestamp": 1646203090408,
     "user": {
      "displayName": "Albert Lu",
      "photoUrl": "https://lh3.googleusercontent.com/a/default-user=s64",
      "userId": "10328123601387429987"
     },
     "user_tz": 300
    },
    "id": "GZX9SQ-hWXFy",
    "outputId": "f2e259e5-a45b-4187-cee6-dbcceb92e0d8"
   },
   "outputs": [
    {
     "data": {
      "text/plain": [
       "2763    understanding brain connectivity patterns duri...\n",
       "5695    estimating nonlinear neural response functions...\n",
       "5464    saliency scale and information:\\ntowards a uni...\n",
       "963     generalizable singular value\\ndecomposition fo...\n",
       "1388    nash propagation for loopy graphical games\\n\\n...\n",
       "Name: paper_text_processed, dtype: object"
      ]
     },
     "execution_count": 5,
     "metadata": {},
     "output_type": "execute_result"
    }
   ],
   "source": [
    "# Load the regular expression library\n",
    "import re\n",
    "\n",
    "# Remove punctuation\n",
    "papers['paper_text_processed'] = \\\n",
    "papers['paper_text'].map(lambda x: re.sub('[,\\.!?]', '', x))\n",
    "\n",
    "# Convert the titles to lowercase\n",
    "papers['paper_text_processed'] = \\\n",
    "papers['paper_text_processed'].map(lambda x: x.lower())\n",
    "\n",
    "# Print out the first rows of papers\n",
    "papers['paper_text_processed'].head()"
   ]
  },
  {
   "cell_type": "code",
   "execution_count": 6,
   "metadata": {
    "colab": {
     "base_uri": "https://localhost:8080/",
     "height": 217
    },
    "executionInfo": {
     "elapsed": 5000,
     "status": "ok",
     "timestamp": 1646203956969,
     "user": {
      "displayName": "Albert Lu",
      "photoUrl": "https://lh3.googleusercontent.com/a/default-user=s64",
      "userId": "10328123601387429987"
     },
     "user_tz": 300
    },
    "id": "J2AkvmM1Zp0Q",
    "outputId": "b2a44bcf-5e11-4f52-997a-3746d951d60b"
   },
   "outputs": [
    {
     "data": {
      "image/png": "[encoded data removed]",
      "text/plain": [
       "<PIL.Image.Image image mode=RGB size=400x200 at 0x7F40BC77B150>"
      ]
     },
     "execution_count": 6,
     "metadata": {},
     "output_type": "execute_result"
    }
   ],
   "source": [
    "# Import the wordcloud library\n",
    "from wordcloud import WordCloud\n",
    "\n",
    "# Join the different processed titles together.\n",
    "long_string = ','.join(list(papers['paper_text_processed'].values))\n",
    "\n",
    "# Create a WordCloud object\n",
    "wordcloud = WordCloud(background_color=\"white\", max_words=1000, contour_width=3, contour_color='steelblue')\n",
    "\n",
    "# Generate a word cloud\n",
    "wordcloud.generate(long_string)\n",
    "\n",
    "# Visualize the word cloud\n",
    "wordcloud.to_image()"
   ]
  },
  {
   "cell_type": "code",
   "execution_count": 7,
   "metadata": {
    "colab": {
     "base_uri": "https://localhost:8080/"
    },
    "executionInfo": {
     "elapsed": 9608,
     "status": "ok",
     "timestamp": 1646204000203,
     "user": {
      "displayName": "Albert Lu",
      "photoUrl": "https://lh3.googleusercontent.com/a/default-user=s64",
      "userId": "10328123601387429987"
     },
     "user_tz": 300
    },
    "id": "b_gqZ55cZ2N0",
    "outputId": "2dbb9679-1769-407b-e714-88aa7a29c1a3"
   },
   "outputs": [
    {
     "name": "stdout",
     "output_type": "stream",
     "text": [
      "[nltk_data] Downloading package stopwords to /root/nltk_data...\n",
      "[nltk_data]   Unzipping corpora/stopwords.zip.\n",
      "['understanding', 'brain', 'connectivity', 'patterns', 'motor', 'imagery', 'brain', 'computer', 'interfacing', 'moritz', 'grosse', 'wentrup', 'max', 'planck', 'institute', 'biological', 'cybernetics', 'spemannstr', 'tubingen', 'germany', 'moritzgw', 'ieeeorg', 'abstract', 'eeg', 'connectivity', 'measures', 'could', 'provide', 'new', 'type']\n"
     ]
    }
   ],
   "source": [
    "import gensim\n",
    "from gensim.utils import simple_preprocess\n",
    "import nltk\n",
    "nltk.download('stopwords')\n",
    "from nltk.corpus import stopwords\n",
    "\n",
    "stop_words = stopwords.words('english')\n",
    "stop_words.extend(['from', 'subject', 're', 'edu', 'use'])\n",
    "\n",
    "def sent_to_words(sentences):\n",
    "    for sentence in sentences:\n",
    "        # deacc=True removes punctuations\n",
    "        yield(gensim.utils.simple_preprocess(str(sentence), deacc=True))\n",
    "\n",
    "def remove_stopwords(texts):\n",
    "    return [[word for word in simple_preprocess(str(doc)) \n",
    "             if word not in stop_words] for doc in texts]\n",
    "\n",
    "\n",
    "data = papers.paper_text_processed.values.tolist()\n",
    "data_words = list(sent_to_words(data))\n",
    "\n",
    "# remove stop words\n",
    "data_words = remove_stopwords(data_words)\n",
    "\n",
    "print(data_words[:1][0][:30])"
   ]
  },
  {
   "cell_type": "code",
   "execution_count": 8,
   "metadata": {
    "colab": {
     "base_uri": "https://localhost:8080/"
    },
    "executionInfo": {
     "elapsed": 747,
     "status": "ok",
     "timestamp": 1646204042756,
     "user": {
      "displayName": "Albert Lu",
      "photoUrl": "https://lh3.googleusercontent.com/a/default-user=s64",
      "userId": "10328123601387429987"
     },
     "user_tz": 300
    },
    "id": "hdcj1sC2aBtg",
    "outputId": "23c88bb9-e644-4067-ffbd-804e5b015fc6"
   },
   "outputs": [
    {
     "name": "stdout",
     "output_type": "stream",
     "text": [
      "[(0, 1), (1, 1), (2, 1), (3, 2), (4, 1), (5, 1), (6, 3), (7, 3), (8, 1), (9, 1), (10, 1), (11, 4), (12, 1), (13, 1), (14, 3), (15, 1), (16, 1), (17, 1), (18, 1), (19, 1), (20, 1), (21, 1), (22, 1), (23, 1), (24, 1), (25, 1), (26, 1), (27, 1), (28, 3), (29, 6)]\n"
     ]
    }
   ],
   "source": [
    "import gensim.corpora as corpora\n",
    "\n",
    "# Create Dictionary\n",
    "id2word = corpora.Dictionary(data_words)\n",
    "\n",
    "# Create Corpus\n",
    "texts = data_words\n",
    "\n",
    "# Term Document Frequency\n",
    "corpus = [id2word.doc2bow(text) for text in texts]\n",
    "\n",
    "# View\n",
    "print(corpus[:1][0][:30])"
   ]
  },
  {
   "cell_type": "code",
   "execution_count": 9,
   "metadata": {
    "colab": {
     "base_uri": "https://localhost:8080/"
    },
    "executionInfo": {
     "elapsed": 2815,
     "status": "ok",
     "timestamp": 1646204054531,
     "user": {
      "displayName": "Albert Lu",
      "photoUrl": "https://lh3.googleusercontent.com/a/default-user=s64",
      "userId": "10328123601387429987"
     },
     "user_tz": 300
    },
    "id": "MwLJItNtaFjd",
    "outputId": "418305fc-02dc-47c7-8cb2-2adce7520022"
   },
   "outputs": [
    {
     "name": "stdout",
     "output_type": "stream",
     "text": [
      "[(0,\n",
      "  '0.008*\"model\" + 0.005*\"data\" + 0.005*\"learning\" + 0.005*\"using\" + '\n",
      "  '0.004*\"algorithm\" + 0.004*\"given\" + 0.004*\"set\" + 0.004*\"time\" + '\n",
      "  '0.003*\"two\" + 0.003*\"used\"'),\n",
      " (1,\n",
      "  '0.006*\"matrix\" + 0.006*\"data\" + 0.006*\"model\" + 0.005*\"learning\" + '\n",
      "  '0.005*\"set\" + 0.005*\"algorithm\" + 0.004*\"figure\" + 0.004*\"results\" + '\n",
      "  '0.004*\"using\" + 0.003*\"one\"'),\n",
      " (2,\n",
      "  '0.007*\"data\" + 0.006*\"model\" + 0.005*\"xi\" + 0.005*\"algorithm\" + 0.005*\"set\" '\n",
      "  '+ 0.004*\"learning\" + 0.004*\"using\" + 0.004*\"function\" + 0.004*\"one\" + '\n",
      "  '0.003*\"also\"'),\n",
      " (3,\n",
      "  '0.007*\"model\" + 0.006*\"data\" + 0.005*\"set\" + 0.004*\"one\" + 0.004*\"time\" + '\n",
      "  '0.004*\"function\" + 0.004*\"learning\" + 0.004*\"number\" + 0.003*\"two\" + '\n",
      "  '0.003*\"matrix\"'),\n",
      " (4,\n",
      "  '0.007*\"data\" + 0.007*\"algorithm\" + 0.005*\"set\" + 0.005*\"model\" + '\n",
      "  '0.005*\"learning\" + 0.005*\"using\" + 0.004*\"function\" + 0.004*\"matrix\" + '\n",
      "  '0.004*\"time\" + 0.003*\"figure\"'),\n",
      " (5,\n",
      "  '0.006*\"model\" + 0.006*\"algorithm\" + 0.005*\"set\" + 0.004*\"data\" + '\n",
      "  '0.004*\"time\" + 0.003*\"using\" + 0.003*\"one\" + 0.003*\"number\" + '\n",
      "  '0.003*\"learning\" + 0.003*\"problem\"'),\n",
      " (6,\n",
      "  '0.007*\"model\" + 0.005*\"data\" + 0.005*\"algorithm\" + 0.005*\"using\" + '\n",
      "  '0.004*\"xi\" + 0.004*\"learning\" + 0.004*\"number\" + 0.004*\"two\" + 0.004*\"set\" '\n",
      "  '+ 0.004*\"one\"'),\n",
      " (7,\n",
      "  '0.006*\"model\" + 0.005*\"data\" + 0.004*\"also\" + 0.004*\"one\" + 0.004*\"time\" + '\n",
      "  '0.004*\"neural\" + 0.004*\"algorithm\" + 0.004*\"set\" + 0.004*\"input\" + '\n",
      "  '0.003*\"figure\"'),\n",
      " (8,\n",
      "  '0.006*\"set\" + 0.005*\"data\" + 0.005*\"learning\" + 0.005*\"model\" + '\n",
      "  '0.005*\"using\" + 0.004*\"algorithm\" + 0.004*\"number\" + 0.003*\"time\" + '\n",
      "  '0.003*\"results\" + 0.003*\"figure\"'),\n",
      " (9,\n",
      "  '0.010*\"algorithm\" + 0.007*\"data\" + 0.005*\"learning\" + 0.004*\"given\" + '\n",
      "  '0.004*\"model\" + 0.004*\"set\" + 0.004*\"number\" + 0.003*\"problem\" + '\n",
      "  '0.003*\"time\" + 0.003*\"using\"')]\n"
     ]
    }
   ],
   "source": [
    "from pprint import pprint\n",
    "\n",
    "# number of topics\n",
    "num_topics = 10\n",
    "\n",
    "# Build LDA model\n",
    "lda_model = gensim.models.LdaMulticore(corpus=corpus,\n",
    "                                       id2word=id2word,\n",
    "                                       num_topics=num_topics)\n",
    "\n",
    "# Print the Keyword in the 10 topics\n",
    "pprint(lda_model.print_topics())\n",
    "doc_lda = lda_model[corpus]"
   ]
  },
  {
   "cell_type": "code",
   "execution_count": 14,
   "metadata": {
    "colab": {
     "base_uri": "https://localhost:8080/",
     "height": 432
    },
    "executionInfo": {
     "elapsed": 275,
     "status": "error",
     "timestamp": 1646204477460,
     "user": {
      "displayName": "Albert Lu",
      "photoUrl": "https://lh3.googleusercontent.com/a/default-user=s64",
      "userId": "10328123601387429987"
     },
     "user_tz": 300
    },
    "id": "g8WJn54AaJOG",
    "outputId": "a5f8e613-0568-4e67-c9af-114e3911ad01"
   },
   "outputs": [
    {
     "ename": "FileNotFoundError",
     "evalue": "ignored",
     "output_type": "error",
     "traceback": [
      "\u001b[0;31m---------------------------------------------------------------------------\u001b[0m",
      "\u001b[0;31mNameError\u001b[0m                                 Traceback (most recent call last)",
      "\u001b[0;32m/usr/local/lib/python3.7/dist-packages/pyLDAvis/_display.py\u001b[0m in \u001b[0;36msave_html\u001b[0;34m(data, fileobj, **kwargs)\u001b[0m\n\u001b[1;32m    349\u001b[0m     \u001b[0;32mtry\u001b[0m\u001b[0;34m:\u001b[0m\u001b[0;34m\u001b[0m\u001b[0;34m\u001b[0m\u001b[0m\n\u001b[0;32m--> 350\u001b[0;31m         \u001b[0;32mif\u001b[0m \u001b[0misinstance\u001b[0m\u001b[0;34m(\u001b[0m\u001b[0mfileobj\u001b[0m\u001b[0;34m,\u001b[0m \u001b[0mbasestring\u001b[0m\u001b[0;34m)\u001b[0m\u001b[0;34m:\u001b[0m\u001b[0;34m\u001b[0m\u001b[0;34m\u001b[0m\u001b[0m\n\u001b[0m\u001b[1;32m    351\u001b[0m             \u001b[0mfileobj\u001b[0m \u001b[0;34m=\u001b[0m \u001b[0mopen\u001b[0m\u001b[0;34m(\u001b[0m\u001b[0mfileobj\u001b[0m\u001b[0;34m,\u001b[0m \u001b[0;34m'w'\u001b[0m\u001b[0;34m)\u001b[0m\u001b[0;34m\u001b[0m\u001b[0;34m\u001b[0m\u001b[0m\n",
      "\u001b[0;31mNameError\u001b[0m: name 'basestring' is not defined",
      "\nDuring handling of the above exception, another exception occurred:\n",
      "\u001b[0;31mFileNotFoundError\u001b[0m                         Traceback (most recent call last)",
      "\u001b[0;32m<ipython-input-14-18ade582f742>\u001b[0m in \u001b[0;36m<module>\u001b[0;34m()\u001b[0m\n\u001b[1;32m     18\u001b[0m   \u001b[0mLDAvis_prepared\u001b[0m \u001b[0;34m=\u001b[0m \u001b[0mpickle\u001b[0m\u001b[0;34m.\u001b[0m\u001b[0mload\u001b[0m\u001b[0;34m(\u001b[0m\u001b[0mf\u001b[0m\u001b[0;34m)\u001b[0m\u001b[0;34m\u001b[0m\u001b[0;34m\u001b[0m\u001b[0m\n\u001b[1;32m     19\u001b[0m \u001b[0;34m\u001b[0m\u001b[0m\n\u001b[0;32m---> 20\u001b[0;31m \u001b[0mpyLDAvis\u001b[0m\u001b[0;34m.\u001b[0m\u001b[0msave_html\u001b[0m\u001b[0;34m(\u001b[0m\u001b[0mLDAvis_prepared\u001b[0m\u001b[0;34m,\u001b[0m \u001b[0;34m'./results/ldavis_prepared_'\u001b[0m\u001b[0;34m+\u001b[0m \u001b[0mstr\u001b[0m\u001b[0;34m(\u001b[0m\u001b[0mnum_topics\u001b[0m\u001b[0;34m)\u001b[0m \u001b[0;34m+\u001b[0m\u001b[0;34m'.html'\u001b[0m\u001b[0;34m)\u001b[0m\u001b[0;34m\u001b[0m\u001b[0;34m\u001b[0m\u001b[0m\n\u001b[0m\u001b[1;32m     21\u001b[0m \u001b[0;34m\u001b[0m\u001b[0m\n\u001b[1;32m     22\u001b[0m \u001b[0mLDAvis_prepared\u001b[0m\u001b[0;34m\u001b[0m\u001b[0;34m\u001b[0m\u001b[0m\n",
      "\u001b[0;32m/usr/local/lib/python3.7/dist-packages/pyLDAvis/_display.py\u001b[0m in \u001b[0;36msave_html\u001b[0;34m(data, fileobj, **kwargs)\u001b[0m\n\u001b[1;32m    352\u001b[0m     \u001b[0;32mexcept\u001b[0m \u001b[0mNameError\u001b[0m\u001b[0;34m:\u001b[0m\u001b[0;34m\u001b[0m\u001b[0;34m\u001b[0m\u001b[0m\n\u001b[1;32m    353\u001b[0m         \u001b[0;32mif\u001b[0m \u001b[0misinstance\u001b[0m\u001b[0;34m(\u001b[0m\u001b[0mfileobj\u001b[0m\u001b[0;34m,\u001b[0m \u001b[0mstr\u001b[0m\u001b[0;34m)\u001b[0m\u001b[0;34m:\u001b[0m\u001b[0;34m\u001b[0m\u001b[0;34m\u001b[0m\u001b[0m\n\u001b[0;32m--> 354\u001b[0;31m             \u001b[0mfileobj\u001b[0m \u001b[0;34m=\u001b[0m \u001b[0mopen\u001b[0m\u001b[0;34m(\u001b[0m\u001b[0mfileobj\u001b[0m\u001b[0;34m,\u001b[0m \u001b[0;34m'w'\u001b[0m\u001b[0;34m)\u001b[0m\u001b[0;34m\u001b[0m\u001b[0;34m\u001b[0m\u001b[0m\n\u001b[0m\u001b[1;32m    355\u001b[0m     \u001b[0;32mif\u001b[0m \u001b[0;32mnot\u001b[0m \u001b[0mhasattr\u001b[0m\u001b[0;34m(\u001b[0m\u001b[0mfileobj\u001b[0m\u001b[0;34m,\u001b[0m \u001b[0;34m'write'\u001b[0m\u001b[0;34m)\u001b[0m\u001b[0;34m:\u001b[0m\u001b[0;34m\u001b[0m\u001b[0;34m\u001b[0m\u001b[0m\n\u001b[1;32m    356\u001b[0m         \u001b[0;32mraise\u001b[0m \u001b[0mValueError\u001b[0m\u001b[0;34m(\u001b[0m\u001b[0;34m\"fileobj should be a filename or a writable file\"\u001b[0m\u001b[0;34m)\u001b[0m\u001b[0;34m\u001b[0m\u001b[0;34m\u001b[0m\u001b[0m\n",
      "\u001b[0;31mFileNotFoundError\u001b[0m: [Errno 2] No such file or directory: './results/ldavis_prepared_10.html'"
     ]
    }
   ],
   "source": [
    "import pyLDAvis.gensim_models\n",
    "import pickle \n",
    "import pyLDAvis\n",
    "\n",
    "# Visualize the topics\n",
    "pyLDAvis.enable_notebook()\n",
    "\n",
    "LDAvis_data_filepath = os.path.join('ldavis_prepared_'+str(num_topics))\n",
    "\n",
    "# # this is a bit time consuming - make the if statement True\n",
    "# # if you want to execute visualization prep yourself\n",
    "if 1 == 2:\n",
    "  LDAvis_prepared = pyLDAvis.gensim.prepare(lda_model, corpus, id2word)\n",
    "  with open(LDAvis_data_filepath, 'wb') as f:\n",
    "    pickle.dump(LDAvis_prepared, f)\n",
    "# load the pre-prepared pyLDAvis data from disk\n",
    "with open(LDAvis_data_filepath, 'rb') as f:\n",
    "  LDAvis_prepared = pickle.load(f)\n",
    "\n",
    "pyLDAvis.save_html(LDAvis_prepared, './results/ldavis_prepared_'+ str(num_topics) +'.html')\n",
    "\n",
    "LDAvis_prepared"
   ]
  }
 ],
 "metadata": {
  "colab": {
   "authorship_tag": "ABX9TyMz0o+050iNqtJmN8eS5qkY",
   "name": "Untitled0.ipynb",
   "provenance": []
  },
  "kernelspec": {
   "display_name": "Python 3 (ipykernel)",
   "language": "python",
   "name": "python3"
  },
  "language_info": {
   "codemirror_mode": {
    "name": "ipython",
    "version": 3
   },
   "file_extension": ".py",
   "mimetype": "text/x-python",
   "name": "python",
   "nbconvert_exporter": "python",
   "pygments_lexer": "ipython3",
   "version": "3.10.0"
  }
 },
 "nbformat": 4,
 "nbformat_minor": 1
}
