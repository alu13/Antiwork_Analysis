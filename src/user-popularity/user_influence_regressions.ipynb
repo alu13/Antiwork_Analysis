{
 "cells": [
  {
   "cell_type": "code",
   "execution_count": 1,
   "metadata": {},
   "outputs": [],
   "source": [
    "import datetime\n",
    "import statsmodels.formula.api as smf\n",
    "import numpy as np\n",
    "import pandas as pd\n",
    "import polars as pl\n",
    "import sqlite3\n",
    "\n",
    "DATA_PATH = \"../../data/users/\"\n",
    "recent_posts = DATA_PATH + \"recent/recent-posts-batch-*.csv\"\n",
    "DB_PATH = DATA_PATH + \"users.sqlite.db\""
   ]
  },
  {
   "cell_type": "markdown",
   "metadata": {},
   "source": [
    "## Combining all information into a dataset for regression"
   ]
  },
  {
   "cell_type": "code",
   "execution_count": 3,
   "metadata": {},
   "outputs": [],
   "source": [
    "conn = sqlite3.connect(DB_PATH)"
   ]
  },
  {
   "cell_type": "code",
   "execution_count": null,
   "metadata": {},
   "outputs": [],
   "source": [
    "posts = pl.scan_csv(recent_posts).collect()\n",
    "posts.to_pandas().to_sql(\"posts\", conn, index=False)"
   ]
  },
  {
   "cell_type": "code",
   "execution_count": 4,
   "metadata": {},
   "outputs": [],
   "source": [
    "sql = \"\"\"\n",
    "SELECT \n",
    "    posts.post_id, posts.post_karma, posts.user_name,\n",
    "    users_cutoff.no_posts, users_cutoff.no_comments, users_cutoff.avg_post_karma,\n",
    "    users_cutoff.post_karma as total_post_karma, users_cutoff.longevity, \n",
    "    topics.topic\n",
    "    FROM posts\n",
    "    JOIN users_cutoff ON users_cutoff.user_name = posts.user_name\n",
    "    LEFT JOIN topics ON topics.id = posts.post_id\n",
    "    \"\"\"\n",
    "\n",
    "joined = pd.read_sql(sql, conn)"
   ]
  },
  {
   "cell_type": "markdown",
   "metadata": {},
   "source": [
    "## Regression analysis"
   ]
  },
  {
   "cell_type": "code",
   "execution_count": 5,
   "metadata": {},
   "outputs": [],
   "source": [
    "data = joined.drop([\"post_id\", \"user_name\"], axis=1)\n",
    "data['topic'] = data['topic'].astype(\"category\")\n",
    "data = pd.get_dummies(data)\n",
    "topic_cols = {\"topic_\" + str(float(i)) : \"topic_\" + str(i) for i in range(25)}\n",
    "data = data.rename(topic_cols, axis=1)"
   ]
  },
  {
   "cell_type": "markdown",
   "metadata": {},
   "source": [
    "## Log-based specification\n",
    "\n",
    "`'log(post_karma) ~ log(no_posts) + log(no_comments) + avg_post_karma + log(total_post_kmarma) + log(longevity) + topic'`"
   ]
  },
  {
   "cell_type": "code",
   "execution_count": 7,
   "metadata": {},
   "outputs": [
    {
     "name": "stdout",
     "output_type": "stream",
     "text": [
      "                                OLS Regression Results                                \n",
      "======================================================================================\n",
      "Dep. Variable:     np.log(post_karma + 0.001)   R-squared:                       0.073\n",
      "Model:                                    OLS   Adj. R-squared:                  0.067\n",
      "Method:                         Least Squares   F-statistic:                     12.41\n",
      "Date:                        Wed, 27 Apr 2022   Prob (F-statistic):           3.94e-58\n",
      "Time:                                02:12:09   Log-Likelihood:                -11791.\n",
      "No. Observations:                        4776   AIC:                         2.364e+04\n",
      "Df Residuals:                            4745   BIC:                         2.385e+04\n",
      "Df Model:                                  30                                         \n",
      "Covariance Type:                    nonrobust                                         \n",
      "====================================================================================================\n",
      "                                       coef    std err          t      P>|t|      [0.025      0.975]\n",
      "----------------------------------------------------------------------------------------------------\n",
      "Intercept                            1.0904      0.201      5.436      0.000       0.697       1.484\n",
      "np.log(no_posts + 0.001)            -0.4068      0.035    -11.540      0.000      -0.476      -0.338\n",
      "np.log(no_comments + 0.001)          0.0362      0.017      2.102      0.036       0.002       0.070\n",
      "avg_post_karma                   -4.146e-06    2.4e-05     -0.173      0.863   -5.12e-05    4.29e-05\n",
      "np.log(total_post_karma + 0.001)     0.3141      0.025     12.720      0.000       0.266       0.363\n",
      "np.log(longevity + 0.000)            0.0814      0.049      1.673      0.094      -0.014       0.177\n",
      "topic_0                             -0.5743      0.338     -1.701      0.089      -1.236       0.088\n",
      "topic_1                             -0.1293      0.229     -0.565      0.572      -0.578       0.319\n",
      "topic_2                             -0.3403      0.265     -1.284      0.199      -0.860       0.179\n",
      "topic_3                              1.3688      0.535      2.557      0.011       0.319       2.418\n",
      "topic_4                              0.2979      0.158      1.882      0.060      -0.012       0.608\n",
      "topic_5                              0.3548      0.417      0.851      0.395      -0.463       1.173\n",
      "topic_6                             -0.5564      0.588     -0.947      0.344      -1.709       0.596\n",
      "topic_7                             -0.1207      0.282     -0.427      0.669      -0.674       0.433\n",
      "topic_8                             -0.2502      0.232     -1.078      0.281      -0.705       0.205\n",
      "topic_9                             -0.8325      0.588     -1.416      0.157      -1.985       0.320\n",
      "topic_10                            -0.2618      0.600     -0.436      0.663      -1.438       0.915\n",
      "topic_11                            -1.2072      0.768     -1.572      0.116      -2.713       0.299\n",
      "topic_12                             0.8530      0.660      1.292      0.196      -0.442       2.148\n",
      "topic_13                             0.2671      0.502      0.532      0.595      -0.717       1.251\n",
      "topic_14                            -0.9054      0.441     -2.055      0.040      -1.769      -0.042\n",
      "topic_15                             0.2333      0.502      0.465      0.642      -0.751       1.218\n",
      "topic_16                            -0.7775      0.384     -2.024      0.043      -1.531      -0.024\n",
      "topic_17                            -0.8358      0.576     -1.450      0.147      -1.966       0.294\n",
      "topic_18                            -1.5054      0.488     -3.087      0.002      -2.461      -0.549\n",
      "topic_19                             1.0985      0.475      2.314      0.021       0.168       2.029\n",
      "topic_20                             0.9194      0.600      1.532      0.126      -0.257       2.096\n",
      "topic_21                            -0.3183      0.426     -0.747      0.455      -1.154       0.517\n",
      "topic_22                            -0.3181      0.374     -0.850      0.395      -1.052       0.416\n",
      "topic_23                             1.6187      0.384      4.219      0.000       0.866       2.371\n",
      "topic_24                            -0.0125      0.365     -0.034      0.973      -0.728       0.703\n",
      "==============================================================================\n",
      "Omnibus:                     1054.322   Durbin-Watson:                   1.700\n",
      "Prob(Omnibus):                  0.000   Jarque-Bera (JB):             3756.105\n",
      "Skew:                          -1.077   Prob(JB):                         0.00\n",
      "Kurtosis:                       6.773   Cond. No.                     3.56e+04\n",
      "==============================================================================\n",
      "\n",
      "Notes:\n",
      "[1] Standard Errors assume that the covariance matrix of the errors is correctly specified.\n",
      "[2] The condition number is large, 3.56e+04. This might indicate that there are\n",
      "strong multicollinearity or other numerical problems.\n"
     ]
    },
    {
     "name": "stderr",
     "output_type": "stream",
     "text": [
      "/home/aurimas/apps/anaconda3/envs/css/lib/python3.9/site-packages/pandas/core/arraylike.py:397: RuntimeWarning: invalid value encountered in log\n",
      "  result = getattr(ufunc, method)(*inputs, **kwargs)\n"
     ]
    }
   ],
   "source": [
    "formula = \"\"\"np.log(post_karma + 0.001) ~ np.log(no_posts + 0.001) + \n",
    "    np.log(no_comments + 0.001) + avg_post_karma + \n",
    "    np.log(total_post_karma + 0.001) + np.log(longevity + 0.000)\"\"\"\n",
    "\n",
    "formula = formula  + \" + \" +  \" + \".join(topic_cols.values())\n",
    "\n",
    "results = smf.ols(formula, data=data).fit()\n",
    "print(results.summary())"
   ]
  },
  {
   "cell_type": "markdown",
   "metadata": {},
   "source": [
    "## Different model specifications\n",
    "### Simple linear model as per Kilgo et al.\n",
    "`'post_karma ~ total_post_karma + longevity'`"
   ]
  },
  {
   "cell_type": "code",
   "execution_count": 8,
   "metadata": {},
   "outputs": [
    {
     "name": "stdout",
     "output_type": "stream",
     "text": [
      "                            OLS Regression Results                            \n",
      "==============================================================================\n",
      "Dep. Variable:             post_karma   R-squared:                       0.003\n",
      "Model:                            OLS   Adj. R-squared:                  0.002\n",
      "Method:                 Least Squares   F-statistic:                     7.551\n",
      "Date:                Wed, 27 Apr 2022   Prob (F-statistic):           0.000531\n",
      "Time:                        02:12:17   Log-Likelihood:                -53520.\n",
      "No. Observations:                5527   AIC:                         1.070e+05\n",
      "Df Residuals:                    5524   BIC:                         1.071e+05\n",
      "Df Model:                           2                                         \n",
      "Covariance Type:            nonrobust                                         \n",
      "====================================================================================\n",
      "                       coef    std err          t      P>|t|      [0.025      0.975]\n",
      "------------------------------------------------------------------------------------\n",
      "Intercept          525.5993     62.384      8.425      0.000     403.302     647.896\n",
      "total_post_karma     0.0094      0.002      3.882      0.000       0.005       0.014\n",
      "longevity           -0.2649      0.399     -0.663      0.507      -1.048       0.518\n",
      "==============================================================================\n",
      "Omnibus:                    10324.253   Durbin-Watson:                   1.651\n",
      "Prob(Omnibus):                  0.000   Jarque-Bera (JB):         15103502.356\n",
      "Skew:                          14.161   Prob(JB):                         0.00\n",
      "Kurtosis:                     257.523   Cond. No.                     2.68e+04\n",
      "==============================================================================\n",
      "\n",
      "Notes:\n",
      "[1] Standard Errors assume that the covariance matrix of the errors is correctly specified.\n",
      "[2] The condition number is large, 2.68e+04. This might indicate that there are\n",
      "strong multicollinearity or other numerical problems.\n"
     ]
    }
   ],
   "source": [
    "formula = 'post_karma ~ total_post_karma + longevity'\n",
    "\n",
    "results = smf.ols(formula, data=data).fit()\n",
    "print(results.summary())"
   ]
  }
 ],
 "metadata": {
  "interpreter": {
   "hash": "458e57744219fd35e36fe617bee87769eccb7cd58eff0111259e94f378fae128"
  },
  "kernelspec": {
   "display_name": "css",
   "language": "python",
   "name": "css"
  },
  "language_info": {
   "codemirror_mode": {
    "name": "ipython",
    "version": 3
   },
   "file_extension": ".py",
   "mimetype": "text/x-python",
   "name": "python",
   "nbconvert_exporter": "python",
   "pygments_lexer": "ipython3",
   "version": "3.9.7"
  }
 },
 "nbformat": 4,
 "nbformat_minor": 4
}
