{
 "cells": [
  {
   "cell_type": "markdown",
   "metadata": {},
   "source": [
    "## Influencers as based on page-rank analysis\n",
    "In this notebook, we explore if the user interaction network reveals any important players as indicated by page rank algorithm. We also test if connectedness is related to other user attributes via regression analysis."
   ]
  },
  {
   "cell_type": "code",
   "execution_count": 27,
   "metadata": {},
   "outputs": [],
   "source": [
    "from scipy.sparse import load_npz\n",
    "import numpy as np\n",
    "import polars as pl\n",
    "import networkx as nx\n",
    "import statsmodels.api as sm\n",
    "import statsmodels.formula.api as smf\n",
    "from pathlib import Path\n",
    "import sqlite3 as sq\n",
    "\n",
    "path = \"../../data/users/\"\n",
    "adj_matrix_path = path + 'adj_matrix-indirects-latest.npz'\n",
    "DB_PATH = path + 'users.sqlite.db'"
   ]
  },
  {
   "cell_type": "code",
   "execution_count": 11,
   "metadata": {},
   "outputs": [
    {
     "name": "stderr",
     "output_type": "stream",
     "text": [
      "/tmp/ipykernel_8828/300416239.py:5: RuntimeWarning: invalid value encountered in true_divide\n",
      "  norm_A = np.nan_to_num(A / np.sum(A, axis=1), 0) * 100 #normalize as connectedness doesn't make sense otherwise\n"
     ]
    }
   ],
   "source": [
    "#load the adjacency matrix\n",
    "adj_matrix = load_npz(adj_matrix_path).tolil()\n",
    "adj_matrix.setdiag(0) #set diagonals to zero to remove any \"self-interactions\"\n",
    "A = adj_matrix.toarray()\n",
    "norm_A = np.nan_to_num(A / np.sum(A, axis=1), 0) * 100 #normalize as connectedness doesn't make sense otherwise"
   ]
  },
  {
   "cell_type": "code",
   "execution_count": 12,
   "metadata": {},
   "outputs": [],
   "source": [
    "G = nx.from_numpy_matrix(norm_A)\n",
    "pageranks = nx.pagerank(G, max_iter=100)"
   ]
  },
  {
   "cell_type": "code",
   "execution_count": 19,
   "metadata": {},
   "outputs": [],
   "source": [
    "#load users\n",
    "conn_string = \"sqlite://\" + str(Path(DB_PATH).absolute())\n",
    "sql = \"SELECT user_name, no_posts, no_comments, avg_post_karma, avg_comment_karma, activity_window, longevity FROM users WHERE is_selected ORDER BY matrix_id ASC\"\n",
    "selected_users = pl.read_sql(sql, conn_string)"
   ]
  },
  {
   "cell_type": "code",
   "execution_count": 22,
   "metadata": {},
   "outputs": [],
   "source": [
    "selected_users['indirect_pg_rank'] = np.array(list(pageranks.values()))"
   ]
  },
  {
   "cell_type": "code",
   "execution_count": 31,
   "metadata": {},
   "outputs": [],
   "source": [
    "#save to the database\n",
    "with sq.connect(DB_PATH) as conn:\n",
    "    cur = conn.cursor()        \n",
    "    try:\n",
    "        cur.execute(\"ALTER TABLE users ADD COLUMN indirect_pg real\")        \n",
    "    except sq.OperationalError:\n",
    "        print(\"columns already exist\")\n",
    "    \n",
    "    cur.executemany(\"UPDATE users SET indirect_pg = ? WHERE user_name = ?\", selected_users[['indirect_pg_rank', 'user_name']].rows())"
   ]
  },
  {
   "cell_type": "markdown",
   "metadata": {},
   "source": [
    "## Factors associated with connectedness"
   ]
  },
  {
   "cell_type": "markdown",
   "metadata": {},
   "source": [
    "We find that connectedness is indeed related to content quality. Higher average post and comment karma leads to higher connectedness, even when controlling for total posts and comments made. Also, interestingly enough, longevity on the subreddit does not matter, while users that only have participated during a shorter time window seem to have higher page rank, on average. This may indicate that users with higher connectedness are largely \"one-off\" wonders who contribute a few items of popular content over a shorter period of time and remain inactive afterwards."
   ]
  },
  {
   "cell_type": "code",
   "execution_count": 32,
   "metadata": {},
   "outputs": [
    {
     "name": "stdout",
     "output_type": "stream",
     "text": [
      "                            OLS Regression Results                            \n",
      "==============================================================================\n",
      "Dep. Variable:        np.log(pg_rank)   R-squared:                       0.355\n",
      "Model:                            OLS   Adj. R-squared:                  0.354\n",
      "Method:                 Least Squares   F-statistic:                     695.8\n",
      "Date:                Tue, 26 Apr 2022   Prob (F-statistic):               0.00\n",
      "Time:                        21:56:25   Log-Likelihood:                -720.94\n",
      "No. Observations:                7603   AIC:                             1456.\n",
      "Df Residuals:                    7596   BIC:                             1504.\n",
      "Df Model:                           6                                         \n",
      "Covariance Type:            nonrobust                                         \n",
      "=====================================================================================================\n",
      "                                        coef    std err          t      P>|t|      [0.025      0.975]\n",
      "-----------------------------------------------------------------------------------------------------\n",
      "Intercept                           -10.4270      0.030   -343.050      0.000     -10.487     -10.367\n",
      "np.log(no_posts + 0.001)             -0.0151      0.002     -6.715      0.000      -0.020      -0.011\n",
      "np.log(no_comments + 0.001)           0.2672      0.005     52.492      0.000       0.257       0.277\n",
      "np.log(avg_post_karma + 0.001)        0.0237      0.002     14.515      0.000       0.020       0.027\n",
      "np.log(avg_comment_karma + 0.001)     0.0394      0.003     13.175      0.000       0.033       0.045\n",
      "np.log(longevity + 0.0001)            0.0136      0.007      2.009      0.045       0.000       0.027\n",
      "np.log(activity_window + 0.001)      -0.0308      0.007     -4.310      0.000      -0.045      -0.017\n",
      "==============================================================================\n",
      "Omnibus:                     2373.124   Durbin-Watson:                   1.830\n",
      "Prob(Omnibus):                  0.000   Jarque-Bera (JB):            59658.535\n",
      "Skew:                           0.930   Prob(JB):                         0.00\n",
      "Kurtosis:                      16.596   Cond. No.                         99.2\n",
      "==============================================================================\n",
      "\n",
      "Notes:\n",
      "[1] Standard Errors assume that the covariance matrix of the errors is correctly specified.\n"
     ]
    },
    {
     "name": "stderr",
     "output_type": "stream",
     "text": [
      "/home/aurimas/apps/anaconda3/envs/css/lib/python3.9/site-packages/pandas/core/arraylike.py:397: RuntimeWarning: invalid value encountered in log\n",
      "  result = getattr(ufunc, method)(*inputs, **kwargs)\n"
     ]
    }
   ],
   "source": [
    "formula = \"\"\"\n",
    "np.log(indirect_pg_rank) ~ \n",
    "np.log(no_posts + 0.001) + np.log(no_comments + 0.001) + \n",
    "np.log(avg_post_karma + 0.001) +  np.log(avg_comment_karma + 0.001) + \n",
    "np.log(longevity + 0.0001) + np.log(activity_window + 0.001)\"\"\"\n",
    "\n",
    "results = smf.ols(formula, data=selected_users.to_pandas()).fit()\n",
    "print(results.summary())"
   ]
  }
 ],
 "metadata": {
  "interpreter": {
   "hash": "458e57744219fd35e36fe617bee87769eccb7cd58eff0111259e94f378fae128"
  },
  "kernelspec": {
   "display_name": "css",
   "language": "python",
   "name": "css"
  },
  "language_info": {
   "codemirror_mode": {
    "name": "ipython",
    "version": 3
   },
   "file_extension": ".py",
   "mimetype": "text/x-python",
   "name": "python",
   "nbconvert_exporter": "python",
   "pygments_lexer": "ipython3",
   "version": "3.9.7"
  }
 },
 "nbformat": 4,
 "nbformat_minor": 4
}
