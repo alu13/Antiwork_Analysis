{
 "cells": [
  {
   "cell_type": "markdown",
   "metadata": {},
   "source": [
    "# Constructing sparse user adjacency matrices\n",
    "\n",
    "This notebook constructs sparse user matrices for downstream clustering / other analysis tasks."
   ]
  },
  {
   "cell_type": "code",
   "execution_count": 73,
   "metadata": {},
   "outputs": [],
   "source": [
    "import polars as pl\n",
    "import itertools as itt\n",
    "from pathlib import Path\n",
    "import csv\n",
    "import json\n",
    "\n",
    "path = \"../../data/users/\"\n",
    "files = [f.absolute() for f in Path(path).glob(\"*.csv\")]\n",
    "user_stats = path + 'summaries/user_stats.csv'\n",
    "user_interaction_map = path + 'summaries/interaction_map.csv'\n",
    "adj_matrix_path = path + 'summaries/adjacency_matrix.npz'\n"
   ]
  },
  {
   "cell_type": "code",
   "execution_count": 9,
   "metadata": {},
   "outputs": [
    {
     "name": "stdout",
     "output_type": "stream",
     "text": [
      "Total number of users: 54059\n"
     ]
    }
   ],
   "source": [
    "#first, we construct a dictionary to map unique user names to indices\n",
    "iterator = itt.count()\n",
    "user_names = pl.read_csv(user_stats).select(\"user_name\").to_dict(as_series=False)[\"user_name\"]\n",
    "mapped = {u: next(iterator) for u in user_names}\n",
    "del user_names\n",
    "print(\"Total number of users: {}\".format(len(mapped)))"
   ]
  },
  {
   "cell_type": "code",
   "execution_count": 23,
   "metadata": {},
   "outputs": [],
   "source": [
    "def process_batch_file(filename, writer = None, data_column_no = 4, user_column_no = 8):\n",
    "    with open(filename) as file:\n",
    "        reader = csv.reader(file, delimiter=',')\n",
    "        next(reader) #skip the header\n",
    "        for i, row in enumerate(reader):\n",
    "            interactions = json.loads(row[data_column_no])\n",
    "            user_name = row[user_column_no]\n",
    "            for interlocutor, intensity in interactions.items():                \n",
    "                #get IDs\n",
    "                userid = mapped[user_name]\n",
    "                interid = mapped[interlocutor]                    \n",
    "                writer.writerow([userid, interid, intensity])\n",
    "\n",
    "\n",
    "with open(user_interaction_map, \"w\") as outfile:\n",
    "    csvwriter = csv.writer(outfile, delimiter=',', quoting=csv.QUOTE_NONE)\n",
    "    for f in files:\n",
    "        process_batch_file(f, csvwriter, data_column_no=4)"
   ]
  },
  {
   "cell_type": "code",
   "execution_count": 74,
   "metadata": {},
   "outputs": [],
   "source": [
    "#create a sparse matrix\n",
    "import numpy as np\n",
    "import scipy.sparse as sps\n",
    "data = np.loadtxt(user_interaction_map, np.int64, delimiter=',')\n",
    "adj_matrix = sps.coo_matrix((data[:,2], (data[:, 0], data[:, 1])))\n",
    "sps.save_npz(adj_matrix_path, adj_matrix)"
   ]
  },
  {
   "cell_type": "code",
   "execution_count": null,
   "metadata": {},
   "outputs": [],
   "source": []
  }
 ],
 "metadata": {
  "interpreter": {
   "hash": "458e57744219fd35e36fe617bee87769eccb7cd58eff0111259e94f378fae128"
  },
  "kernelspec": {
   "display_name": "Python 3.9.7 ('css')",
   "language": "python",
   "name": "python3"
  },
  "language_info": {
   "codemirror_mode": {
    "name": "ipython",
    "version": 3
   },
   "file_extension": ".py",
   "mimetype": "text/x-python",
   "name": "python",
   "nbconvert_exporter": "python",
   "pygments_lexer": "ipython3",
   "version": "3.9.7"
  },
  "orig_nbformat": 4
 },
 "nbformat": 4,
 "nbformat_minor": 2
}
