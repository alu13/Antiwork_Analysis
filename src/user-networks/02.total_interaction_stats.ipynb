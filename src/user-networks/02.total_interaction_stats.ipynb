{
 "cells": [
  {
   "cell_type": "markdown",
   "metadata": {},
   "source": [
    "# Total statistics\n",
    "\n",
    "This notebook simply computes total interaction statistics. It takes a while as it needs to iterate through all the raw data!"
   ]
  },
  {
   "cell_type": "code",
   "execution_count": 1,
   "metadata": {},
   "outputs": [
    {
     "name": "stdout",
     "output_type": "stream",
     "text": [
      "Total files to be processed: 489\n"
     ]
    }
   ],
   "source": [
    "import polars as pl\n",
    "import itertools as itt\n",
    "from pathlib import Path\n",
    "import csv\n",
    "import json\n",
    "import ctypes as ct\n",
    "from tqdm import tqdm\n",
    "\n",
    "path = \"../../../data/users/\"\n",
    "int_types = {\"directs\": 4, \"indirects\": 5}\n",
    "files = [f.absolute() for f in Path(path + 'raw/').glob(\"*.csv\")]\n",
    "csv.field_size_limit(int(ct.c_ulong(-1).value // 2))\n",
    "print(\"Total files to be processed: {}\".format(len(files)))"
   ]
  },
  {
   "cell_type": "code",
   "execution_count": 2,
   "metadata": {},
   "outputs": [
    {
     "name": "stderr",
     "output_type": "stream",
     "text": [
      "100%|██████████| 489/489 [56:49<00:00,  6.97s/it]  \n"
     ]
    }
   ],
   "source": [
    "total_interactions = {\n",
    "    \"directs\": {\"total\": 0, \"count\": 0}, \n",
    "    \"indirects\": {\"total\": 0, \"count\": 0}, \n",
    "}\n",
    "\n",
    "for f in tqdm(files):        \n",
    "    with open(f) as file:\n",
    "        reader = csv.reader(file, delimiter=',')\n",
    "        next(reader) #skip the header\n",
    "        for i, row in enumerate(reader):\n",
    "            for int_type, int_col_num in int_types.items():\n",
    "                count = len(json.loads(row[int_col_num]))                \n",
    "                total_interactions[int_type]['total'] += count                \n",
    "                total_interactions[int_type]['count'] += 1"
   ]
  },
  {
   "cell_type": "code",
   "execution_count": 4,
   "metadata": {},
   "outputs": [
    {
     "data": {
      "text/plain": [
       "{'directs': {'total': 7747366, 'count': 3316352},\n",
       " 'indirects': {'total': 4785018510, 'count': 3316352}}"
      ]
     },
     "execution_count": 4,
     "metadata": {},
     "output_type": "execute_result"
    }
   ],
   "source": [
    "total_interactions"
   ]
  }
 ],
 "metadata": {
  "interpreter": {
   "hash": "458e57744219fd35e36fe617bee87769eccb7cd58eff0111259e94f378fae128"
  },
  "kernelspec": {
   "display_name": "Python 3 (ipykernel)",
   "language": "python",
   "name": "python3"
  },
  "language_info": {
   "codemirror_mode": {
    "name": "ipython",
    "version": 3
   },
   "file_extension": ".py",
   "mimetype": "text/x-python",
   "name": "python",
   "nbconvert_exporter": "python",
   "pygments_lexer": "ipython3",
   "version": "3.8.10"
  }
 },
 "nbformat": 4,
 "nbformat_minor": 4
}
