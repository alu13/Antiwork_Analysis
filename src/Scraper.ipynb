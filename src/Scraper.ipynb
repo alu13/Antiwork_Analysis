{
 "cells": [
  {
   "cell_type": "code",
   "execution_count": 45,
   "id": "c4fa9e91",
   "metadata": {},
   "outputs": [
    {
     "data": {
      "text/plain": [
       "'/Users/albertlu/Documents/GitHub/Antiwork_Analysis/src'"
      ]
     },
     "execution_count": 45,
     "metadata": {},
     "output_type": "execute_result"
    }
   ],
   "source": [
    "import praw\n",
    "import pandas as pd\n",
    "import os\n",
    "import numpy as np\n",
    "\n",
    "os.getcwd()"
   ]
  },
  {
   "cell_type": "code",
   "execution_count": 3,
   "id": "031f52a3",
   "metadata": {},
   "outputs": [],
   "source": [
    "my_client_id = \"u35-eAIYsZ9aPTx0MY7bcw\"\n",
    "my_client_secret = \"0qUjBGejU5j2xtStKzbK1Y-BUrFywg\"\n",
    "my_user_agent = \"Antiwork_Scrape\"\n",
    "\n",
    "reddit = praw.Reddit(client_id = my_client_id, client_secret = my_client_secret, user_agent = my_user_agent)"
   ]
  },
  {
   "cell_type": "markdown",
   "id": "48781c67",
   "metadata": {},
   "source": [
    "# PRAW Sanity Test"
   ]
  },
  {
   "cell_type": "code",
   "execution_count": 49,
   "id": "19e14ce7",
   "metadata": {},
   "outputs": [
    {
     "name": "stdout",
     "output_type": "stream",
     "text": [
      "[D] Simple Questions Thread\n",
      "[D] Machine Learning - WAYR (What Are You Reading) - Week 130\n",
      "[P] I made a tool for finding the original sources of information on the web called Deepcite! It uses Spacy to check for sentence similarity and records user submitted labels.\n"
     ]
    }
   ],
   "source": [
    "hot_posts = reddit.subreddit('MachineLearning').hot(limit = 3)\n",
    "for post in hot_posts:\n",
    "    print(post.title)"
   ]
  },
  {
   "cell_type": "code",
   "execution_count": 52,
   "id": "d6124dd0",
   "metadata": {},
   "outputs": [
    {
     "name": "stdout",
     "output_type": "stream",
     "text": [
      "< Why Gen Zis having a way better starttoth.. % --\n",
      "\n",
      "   \n",
      "\n",
      "(2) Business Insider @ @Businessinsider\n",
      "\n",
      "February 4, 2022\n",
      "\n",
      "Why Gen Z is having a way better start to their\n",
      "adult lives than millennials did\n",
      "\n",
      "In May 2009, along with millions of fellow millennials, Insider senior correspondent\n",
      "Aki Ito graduated from college into what was shaping up to be the worst job market\n",
      "since World War II. So in 2020, when the coronavirus pandemic shuttered vast\n",
      "portions of the economy, there were worries that another lost generation was in the\n",
      "making. But this time, things played out very differently for Gen Z.\n",
      "\n",
      "Photo via @BusinessInsider\n",
      "\n"
     ]
    }
   ],
   "source": [
    "import pytesseract as py\n",
    "import cv2\n",
    "\n",
    "py.pytesseract.tesseract_cmd = r'/opt/homebrew/Cellar/tesseract/5.0.1/bin/tesseract'\n",
    "img = cv2.imread(r'Tesseract_test.png')\n",
    "print(py.image_to_string(img))"
   ]
  },
  {
   "cell_type": "code",
   "execution_count": 95,
   "id": "f10f6423",
   "metadata": {},
   "outputs": [],
   "source": [
    "import re\n",
    "from urllib.request import urlopen\n",
    "\n",
    "image_regex = re.compile(r'https://i.redd.it/')\n",
    "\n",
    "posts = []\n",
    "\n",
    "for post in antiwork.hot(limit = 10):\n",
    "    real_body = post.selftext\n",
    "    if image_regex.search(post.url) != None:\n",
    "        req = urlopen(post.url)\n",
    "        arr = np.asarray(bytearray(req.read()), dtype=np.uint8)\n",
    "        img = cv2.imdecode(arr, -1)\n",
    "        real_body = str(py.image_to_string(img))\n",
    "    addition = [post.title, post.score, post.id, post.subreddit, post.url, post.num_comments, real_body, post.created]\n",
    "    posts.append(addition)\n",
    "\n",
    "posts = pd.DataFrame(posts, columns=['title', 'score', 'id', 'subreddit', 'url', 'num_comments', 'body', 'created'])\n"
   ]
  },
  {
   "cell_type": "code",
   "execution_count": 96,
   "id": "8ed2bf30",
   "metadata": {},
   "outputs": [],
   "source": [
    "posts.to_csv(\"Scraper_Test.csv\")"
   ]
  },
  {
   "cell_type": "code",
   "execution_count": null,
   "id": "d98eec8a",
   "metadata": {},
   "outputs": [],
   "source": []
  }
 ],
 "metadata": {
  "kernelspec": {
   "display_name": "Python 3 (ipykernel)",
   "language": "python",
   "name": "python3"
  },
  "language_info": {
   "codemirror_mode": {
    "name": "ipython",
    "version": 3
   },
   "file_extension": ".py",
   "mimetype": "text/x-python",
   "name": "python",
   "nbconvert_exporter": "python",
   "pygments_lexer": "ipython3",
   "version": "3.10.0"
  }
 },
 "nbformat": 4,
 "nbformat_minor": 5
}
