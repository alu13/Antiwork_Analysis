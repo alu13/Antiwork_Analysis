{
 "cells": [
  {
   "cell_type": "code",
   "execution_count": 79,
   "metadata": {},
   "outputs": [],
   "source": [
    "import pandas as pd\n",
    "import itertools as itt\n",
    "import praw\n",
    "import csv\n",
    "from collections import defaultdict\n",
    "from datetime import date \n",
    "import json\n",
    "\n",
    "\n",
    "sub_ids_path = \"../../data/all_ids.csv\"\n",
    "user_int_path = \"../../data/user_interactions\""
   ]
  },
  {
   "cell_type": "code",
   "execution_count": 92,
   "metadata": {},
   "outputs": [],
   "source": [
    "#do we use only original content or not?\n",
    "#For later: consider upvote ratio & time-based statistics\n",
    "\n",
    "class UserInteractionCollector:\n",
    "\n",
    "    def __init__(self, client):\n",
    "        self.client = client\n",
    "        self.users = defaultdict(lambda: {\n",
    "            \"no_posts\": 0, \n",
    "            \"no_comments\": 0, \n",
    "            \"post_karma\": 0,     \n",
    "            \"comment_karma\": 0,\n",
    "            \"directs\": defaultdict(int),\n",
    "            \"indirects\": defaultdict(int),\n",
    "            \"first_date\": date(2022,2,20),\n",
    "            \"last_date\":  date(1999,1,1),\n",
    "            \"user_id\": \"\"\n",
    "        })\n",
    "\n",
    "    def process_submission(self, id):\n",
    "        try:\n",
    "            post = self.client.submission(id=id)\n",
    "            self.save_submission_details(post)\n",
    "        except AttributeError:\n",
    "            print(\"Submission id {} failed\".format(id))\n",
    "\n",
    "    def save_submission_details(self, post):\n",
    "        '''Saves given submission user interaction details into the users dictionary'''\n",
    "        \n",
    "        def update_last_seen(user, date):\n",
    "            '''Updates user first and last date attributes based on observed activity date'''\n",
    "            if user['first_date'] > date:\n",
    "                user['first_date'] = date            \n",
    "\n",
    "            if user['last_date'] < date:\n",
    "                user['last_date'] = date\n",
    "\n",
    "        def parse_op_data(post, thread_participants, parents):\n",
    "            '''Parses post author information'''\n",
    "            if (post.author is not None) and (hasattr(post.author, 'id')): #happens when the user is deleted/suspended\n",
    "            #include post statistics & date attributes for the author    \n",
    "                op = self.users[post.author.id]\n",
    "                op['user_id'] = post.author.id\n",
    "                op['no_posts'] += 1\n",
    "                op['post_karma'] += post.score\n",
    "                update_last_seen(op, date.fromtimestamp(post.created_utc))\n",
    "                \n",
    "                #add to participant list\n",
    "                thread_participants.add(post.author.id)\n",
    "            \n",
    "                #add op to the parent id list    \n",
    "                parents[post.id] = post.author.id\n",
    "        \n",
    "        def parse_comments(post, thread_participants, parents):\n",
    "            '''Parses all comments of a post'''\n",
    "            #iterate through comments\n",
    "            post.comments.replace_more(limit=None)\n",
    "            for comment in post.comments.list():        \n",
    "\n",
    "                #include comment statistics & date attributes for the author\n",
    "                if (comment.author is not None) and (hasattr(comment.author, 'id')):\n",
    "                    user = self.users[comment.author.id]\n",
    "                    user['user_id'] = comment.author.id\n",
    "                    user['no_comments'] += 1\n",
    "                    user['comment_karma'] += comment.score\n",
    "                    update_last_seen(user, date.fromtimestamp(comment.created_utc))\n",
    "                \n",
    "                    #add to participant list\n",
    "                    thread_participants.add(comment.author.id)\n",
    "            \n",
    "                    #add user to the parent id list\n",
    "                    parents[comment.id] = comment.author.id\n",
    "                \n",
    "                    #find who is the author of the parent\n",
    "                    real_parent_id = comment.parent_id[3:] #first two symbols is an artificial prefix\n",
    "                    parent_user_id = parents[real_parent_id]                \n",
    "                    \n",
    "                    #save evidence of direct iteraction\n",
    "                    if parent_user_id is not None:\n",
    "                        self.users[comment.author.id]['directs'][parent_user_id] += 1\n",
    "                        self.users[parent_user_id]['directs'][comment.author.id] += 1\n",
    "    \n",
    "        thread_participants = set() #a set of all thread participants\n",
    "        parents = defaultdict(lambda: None) #lookup table for author of each parent thread (to track direct interactions)\n",
    "\n",
    "        parse_op_data(post, thread_participants, parents)\n",
    "        #parse_comments(post, thread_participants, parents)\n",
    "            \n",
    "        #add all indirect interactions\n",
    "        for person in thread_participants:\n",
    "            others = thread_participants.difference(set([person]))\n",
    "            for other_person in others:\n",
    "                self.users[person]['indirects'][other_person] += 1"
   ]
  },
  {
   "cell_type": "code",
   "execution_count": 93,
   "metadata": {},
   "outputs": [
    {
     "name": "stdout",
     "output_type": "stream",
     "text": [
      "Processing submission #0\n",
      "Processing submission #50\n",
      "Processing submission #100\n",
      "Processing submission #150\n",
      "Processing submission #200\n",
      "Processing submission #250\n",
      "Processing submission #300\n",
      "Processing submission #350\n",
      "Processing submission #400\n",
      "Processing submission #450\n",
      "Processing submission #500\n",
      "Processing submission #550\n",
      "Processing submission #600\n",
      "Processing submission #650\n",
      "Processing submission #700\n",
      "Processing submission #750\n",
      "Processing submission #800\n",
      "Processing submission #850\n",
      "Processing submission #900\n",
      "Processing submission #950\n",
      "Processing submission #1000\n"
     ]
    }
   ],
   "source": [
    "client = praw.Reddit(\n",
    "    client_id=\"\",\n",
    "    client_secret=\"\",\n",
    "    user_agent=\"\",\n",
    ")\n",
    "collector = UserInteractionCollector(client=client)\n",
    "\n",
    "with open(sub_ids_path, newline='') as csvfile:\n",
    "    idreader = csv.reader(csvfile, delimiter=',')\n",
    "    next(idreader) #skip the header\n",
    "      \n",
    "    for i, row in enumerate(idreader):        \n",
    "        collector.process_submission(row[1]) #process the submission \n",
    "        if i % 50 == 0:\n",
    "            print(\"Processing submission #{}\".format(i))      \n",
    "        if (i > 0) and (i % 500 == 0):\n",
    "            df = pd.DataFrame(list(collector.users.values()))\n",
    "            df['directs'] = df['directs'].apply(json.dumps)\n",
    "            df['indirects'] = df['indirects'].apply(json.dumps)\n",
    "            df.to_csv(\"{}-{}.csv\".format(user_int_path, i), index=False)\n",
    "        if i == 1000:\n",
    "            break                "
   ]
  },
  {
   "cell_type": "code",
   "execution_count": 89,
   "metadata": {},
   "outputs": [
    {
     "data": {
      "text/plain": [
       "15"
      ]
     },
     "execution_count": 89,
     "metadata": {},
     "output_type": "execute_result"
    }
   ],
   "source": [
    "sum([u['no_posts'] for u in collector.users.values()])"
   ]
  }
 ],
 "metadata": {
  "interpreter": {
   "hash": "458e57744219fd35e36fe617bee87769eccb7cd58eff0111259e94f378fae128"
  },
  "kernelspec": {
   "display_name": "Python 3.9.7 ('css')",
   "language": "python",
   "name": "python3"
  },
  "language_info": {
   "codemirror_mode": {
    "name": "ipython",
    "version": 3
   },
   "file_extension": ".py",
   "mimetype": "text/x-python",
   "name": "python",
   "nbconvert_exporter": "python",
   "pygments_lexer": "ipython3",
   "version": "3.9.7"
  },
  "orig_nbformat": 4
 },
 "nbformat": 4,
 "nbformat_minor": 2
}
