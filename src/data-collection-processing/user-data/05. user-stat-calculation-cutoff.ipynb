{
 "cells": [
  {
   "cell_type": "markdown",
   "metadata": {},
   "source": [
    "# Creating a list of unique users with their activity statistics (with a cut-off date)\n",
    "\n",
    "This notebook scans through all collected user activity files and produces a single csv with user-level statistics:\n",
    " - number of posts\n",
    " - number of comments\n",
    " - total post karma\n",
    " - total comment karma\n",
    " - first and last date\n",
    "\n",
    "+ MODIFICATION - only consider posts before 2022 January 10 (timestamp < 1641790800)"
   ]
  },
  {
   "cell_type": "code",
   "execution_count": 2,
   "metadata": {},
   "outputs": [],
   "source": [
    "import polars as pl\n",
    "from pathlib import Path\n",
    "import datetime\n",
    "import time\n",
    "import sqlite3\n",
    "from tqdm import tqdm\n",
    "import pandas as pd\n",
    "\n",
    "import datetime\n",
    "import time\n",
    "import re\n",
    "\n",
    "path = \"../../../data/users/\"\n",
    "user_stats = path + 'users.sqlite.db'"
   ]
  },
  {
   "cell_type": "code",
   "execution_count": null,
   "metadata": {},
   "outputs": [],
   "source": [
    "files = [f.absolute() for f in Path(path).joinpath(\"raw/\").glob(\"*.csv\")]\n",
    "\n",
    "max_batch_id = 9979\n",
    "\n",
    "r = re.compile(\"user_interactions-batch-20-(\\d+).csv\")\n",
    "files = [f for f in files if int(r.findall(str(f))[0]) <= max_batch_id]\n",
    "print(\"Total files to process: {}\".format(len(files)))"
   ]
  },
  {
   "cell_type": "code",
   "execution_count": null,
   "metadata": {},
   "outputs": [],
   "source": [
    "cols_to_read = [\"user_name\", \"no_posts\", \"no_comments\", \"post_karma\", \"comment_karma\", \"first_date\", \"last_date\"] #skip the large json columns\n",
    "\n",
    "def get_file(f):\n",
    "    return pl.scan_csv(f).select(cols_to_read).with_columns([\n",
    "        pl.col(\"first_date\").apply(lambda x: int(time.mktime(datetime.date.fromisoformat(x).timetuple()))),\n",
    "        pl.col(\"last_date\").apply(lambda x: int(time.mktime(datetime.date.fromisoformat(x).timetuple())))\n",
    "    ]).collect()\n",
    "\n",
    "#read in the first file to serve as the baseline\n",
    "df = get_file(files[0])\n",
    "\n",
    "#read in all other files and groupby / add up statistics after each file\n",
    "for f in tqdm(files[1:]):    \n",
    "    new_df = get_file(f)\n",
    "    df.vstack(new_df, in_place=True)\n",
    "    df = df.lazy().groupby(\"user_name\").agg([\n",
    "        pl.col(\"no_posts\").sum(),\n",
    "        pl.col(\"no_comments\").sum(),\n",
    "        pl.col(\"post_karma\").sum(),\n",
    "        pl.col(\"comment_karma\").sum(),\n",
    "        pl.col(\"first_date\").min(),\n",
    "        pl.col(\"last_date\").max()\n",
    "    ]).collect() "
   ]
  },
  {
   "cell_type": "code",
   "execution_count": null,
   "metadata": {},
   "outputs": [],
   "source": [
    "df = df.with_columns([(pl.col(\"no_posts\") + pl.col(\"no_comments\")).alias(\"total_activity\")])"
   ]
  },
  {
   "cell_type": "code",
   "execution_count": null,
   "metadata": {},
   "outputs": [],
   "source": [
    "conn = sqlite3.connect(user_stats)\n",
    "df.to_pandas().to_sql(\"users_cutoff\", conn, index=False)"
   ]
  },
  {
   "cell_type": "code",
   "execution_count": 3,
   "metadata": {},
   "outputs": [],
   "source": [
    "with sqlite3.connect(user_stats) as conn:\n",
    "    cur = conn.cursor()        \n",
    "    try:\n",
    "        cur.execute(\"ALTER TABLE users_cutoff ADD COLUMN avg_post_karma real\")\n",
    "        cur.execute(\"ALTER TABLE users_cutoff ADD COLUMN avg_comment_karma real\")\n",
    "        cur.execute(\"ALTER TABLE users_cutoff ADD COLUMN activity_window real\")                \n",
    "        cur.execute(\"ALTER TABLE users_cutoff ADD COLUMN longevity real\")        \n",
    "    except sqlite3.OperationalError:\n",
    "        print(\"columns already exist\")\n",
    "    \n",
    "    cur.execute(\"CREATE INDEX IF NOT EXISTS user_name_index ON users_cutoff(user_name)\")\n",
    "    \n",
    "    cur.execute(\"UPDATE users_cutoff SET avg_post_karma = CASE WHEN no_posts > 0 THEN post_karma / CAST(no_posts as REAL) ELSE 0 END\")\n",
    "    cur.execute(\"UPDATE users_cutoff SET avg_comment_karma = CASE WHEN no_comments > 0 THEN comment_karma / CAST(no_comments as REAL) ELSE 0 END\")\n",
    "    cur.execute(\"UPDATE users_cutoff SET activity_window = CAST(last_date - first_date as REAL) / CAST(3600 * 24 as REAL)\") \n",
    "    cur.execute(\"UPDATE users_cutoff SET longevity = (1641790800.0 - first_date) / CAST(3600 * 24 as REAL)\")"
   ]
  },
  {
   "cell_type": "code",
   "execution_count": null,
   "metadata": {},
   "outputs": [],
   "source": []
  }
 ],
 "metadata": {
  "interpreter": {
   "hash": "458e57744219fd35e36fe617bee87769eccb7cd58eff0111259e94f378fae128"
  },
  "kernelspec": {
   "display_name": "css",
   "language": "python",
   "name": "css"
  },
  "language_info": {
   "codemirror_mode": {
    "name": "ipython",
    "version": 3
   },
   "file_extension": ".py",
   "mimetype": "text/x-python",
   "name": "python",
   "nbconvert_exporter": "python",
   "pygments_lexer": "ipython3",
   "version": "3.9.7"
  }
 },
 "nbformat": 4,
 "nbformat_minor": 4
}
