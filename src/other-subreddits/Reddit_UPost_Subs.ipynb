{
 "cells": [
  {
   "cell_type": "markdown",
   "id": "262bba4e",
   "metadata": {},
   "source": [
    "This notebook uses PRAW to pull the subreddits posted in of reddit users in antiwork"
   ]
  },
  {
   "cell_type": "code",
   "execution_count": 2,
   "id": "4281c6d9",
   "metadata": {},
   "outputs": [],
   "source": [
    "#Imports\n",
    "import praw\n",
    "import pandas as pd\n",
    "import datetime as dt\n",
    "import csv\n",
    "import prawcore.exceptions \n",
    "#import pprint"
   ]
  },
  {
   "cell_type": "code",
   "execution_count": null,
   "id": "c35d93f9",
   "metadata": {},
   "outputs": [],
   "source": [
    "#helper function to see if generator is empty\n",
    "def non_empty(iterator):\n",
    "    _exhausted  = object()\n",
    "\n",
    "    if next(iterator, _exhausted) is _exhausted:\n",
    "        return False\n",
    "    else:\n",
    "        return True\n"
   ]
  },
  {
   "cell_type": "markdown",
   "id": "be6f1c55",
   "metadata": {},
   "source": [
    "We import the file of all usernames in antiwork, then loop through their posts and the subsequent subreddits."
   ]
  },
  {
   "cell_type": "code",
   "execution_count": 3,
   "id": "95bef082",
   "metadata": {},
   "outputs": [],
   "source": [
    "from pathlib import Path\n",
    "import sqlite3\n",
    "\n",
    "path = \"../../data/users/\"\n",
    "DB_PATH = path + 'users.sqlite.db'\n",
    "\n",
    "conn = sqlite3.connect(str(Path(DB_PATH).absolute()))\n",
    "selected_users = pd.read_sql(\"SELECT user_name FROM users WHERE is_selected ORDER BY matrix_id ASC\", conn)"
   ]
  },
  {
   "cell_type": "code",
   "execution_count": null,
   "id": "315c2191",
   "metadata": {},
   "outputs": [],
   "source": [
    "reddit = praw.Reddit(client_id='blb2ZuNkAGWKyPJr_ruqOw', \n",
    "                      client_secret='9IYM0Ba4kJQBKKP9H9ZTVkkDgtrSsQ', \n",
    "                      user_agent='6471_Project')\n",
    "\n",
    "#Users with over 100 total activity\n",
    "con_size = selected_users.shape[0]\n",
    "print(\"number of users with 100 or more total activity \", con_size)\n",
    "con_users = selected_users[\"user_name\"]\n",
    "\n",
    "#Sanity Test\n",
    "# username = con_users[3]\n",
    "# user_posts = []\n",
    "# user = reddit.redditor(con_users[3])\n",
    "# submissions = user.submissions.new(limit=None)\n",
    "# test_posts = [username]\n",
    "# try:\n",
    "#     for link in submissions:\n",
    "#         test_posts.append(link.id)\n",
    "#     user_posts.append(test_posts)\n",
    "# except Exception:\n",
    "#     print(\"failed\")\n",
    "\n",
    "\n",
    "#Dictionary mapping users to a list of their comments\n",
    "#loop through most active users\n",
    "\n",
    "#user_posts = []\n",
    "user_post_subreds = []\n",
    "\n",
    "count = 0\n",
    "for username in con_users:\n",
    "    user = reddit.redditor(username)\n",
    "    submissions = user.submissions.new(limit=None)\n",
    "    #post_ids = []\n",
    "    post_subreds = []\n",
    "    post_subreds.append(username)\n",
    "    try:\n",
    "        for link in submissions:\n",
    "            #post_ids.append(link)\n",
    "            post_subreds.append(link.subreddit.display_name)\n",
    "        user_post_subreds.append(post_subreds)\n",
    "        \n",
    "    except Exception:\n",
    "        print(\"no submissions\")\n",
    "    print(count)\n",
    "    count += 1\n",
    "\n",
    "#Writing list to a csv\n",
    "with open('user_posts.csv', 'w', newline = \"\") as f:  # You will need 'wb' mode in Python 2.x\n",
    "    w = csv.writer(f)\n",
    "    w.writerows(user_posts)\n",
    "print(\"done\")\n"
   ]
  },
  {
   "cell_type": "markdown",
   "id": "6dff9e0b",
   "metadata": {},
   "source": [
    "Now we get the subreddits of the posts\n",
    "Edit* it is quicker just using the original loop"
   ]
  },
  {
   "cell_type": "code",
   "execution_count": 44,
   "id": "12f40b32",
   "metadata": {},
   "outputs": [],
   "source": [
    "#cleaning\n",
    "posts = pd.read_csv('user_posts.csv', header = None, dtype = 'string').values.tolist()\n",
    "clean_posts = [[post for post in user if pd.isnull(post) == False] for user in posts]"
   ]
  },
  {
   "cell_type": "code",
   "execution_count": null,
   "id": "467ccc63",
   "metadata": {},
   "outputs": [],
   "source": [
    "# Subreddits = []\n",
    "# for user in clean_posts\n",
    "#     post = reddit.submission(user)\n",
    "#     user_posts = []\n",
    "#     for link in user:\n",
    "#         link.\n",
    "        \n",
    "#     Subreddits.append(user_posts)"
   ]
  },
  {
   "cell_type": "code",
   "execution_count": 5,
   "id": "26aae322",
   "metadata": {},
   "outputs": [
    {
     "data": {
      "text/plain": [
       "'Cebu'"
      ]
     },
     "execution_count": 5,
     "metadata": {},
     "output_type": "execute_result"
    }
   ],
   "source": [
    "link.subreddit.display_name"
   ]
  },
  {
   "cell_type": "code",
   "execution_count": 8,
   "id": "287e4455",
   "metadata": {},
   "outputs": [
    {
     "name": "stdout",
     "output_type": "stream",
     "text": [
      "done\n"
     ]
    }
   ],
   "source": [
    "with open('user_posts.csv', 'w', newline = \"\") as f:  # You will need 'wb' mode in Python 2.x\n",
    "    w = csv.writer(f)\n",
    "    w.writerows(user_post_subreds)\n",
    "print(\"done\")"
   ]
  },
  {
   "cell_type": "code",
   "execution_count": null,
   "id": "98f674c8",
   "metadata": {},
   "outputs": [],
   "source": []
  }
 ],
 "metadata": {
  "kernelspec": {
   "display_name": "Python 3 (ipykernel)",
   "language": "python",
   "name": "python3"
  },
  "language_info": {
   "codemirror_mode": {
    "name": "ipython",
    "version": 3
   },
   "file_extension": ".py",
   "mimetype": "text/x-python",
   "name": "python",
   "nbconvert_exporter": "python",
   "pygments_lexer": "ipython3",
   "version": "3.9.7"
  }
 },
 "nbformat": 4,
 "nbformat_minor": 5
}
