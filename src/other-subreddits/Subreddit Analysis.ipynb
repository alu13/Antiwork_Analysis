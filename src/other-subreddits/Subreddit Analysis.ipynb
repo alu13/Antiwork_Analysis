{
 "cells": [
  {
   "cell_type": "code",
   "execution_count": 4,
   "id": "b0be3cd0",
   "metadata": {},
   "outputs": [],
   "source": [
    "import pandas as pd\n",
    "import numpy as np"
   ]
  },
  {
   "cell_type": "code",
   "execution_count": 238,
   "id": "d9860e18",
   "metadata": {
    "collapsed": true
   },
   "outputs": [
    {
     "name": "stderr",
     "output_type": "stream",
     "text": [
      "/opt/anaconda3/lib/python3.9/site-packages/IPython/core/interactiveshell.py:3444: DtypeWarning: Columns (35,36,37,38,39,40,41,42,43,44,45,46,47,48,49,50,51,52,53,54,55,56,57,58,59,60,61,62,63,64,65,66,67,68,69,70,71,72,73,74,75,76,77,78,79,80,81,82,83,84,85,86,87,88,89,90,91,92,93,94,95,96,97,98,99,100,101,102,103,104,105,106,107,108,109,110,111,112,113,114,115,116,117,118,119,120,121,122,123,124,125,126,127,128,129,130,131,132,133,134,135,136,137,138,139,140,141,142,143,144,145,146,147,148,149,150,151,152,153,154,155,156,157,158,159,160,161,162,163,164,165,166,167,168,169,170,171,172,173,174,175,176,177,178,179,180,181,182,183,184,185,186,187,188,189,190,191,192,193,194,195,196,197,198,199,200,201,202,203,204,205,206,207,208,209,210,211,212,213,214,215,216,217,218,219,220,221,222,223,224,225,226,227,228,229,230,231,232,233,234,235,236,237,238,239,240,241,242,243,244,245,246,247,248,249,250,251,252,253,254,255,256,257,258,259,260,261,262,263,264,265,266,267,268,269,270,271,272,273,274,275,276,277,278,279,280,281,282,283,284,285,286,287,288,289,290,291,292,293,294,295,296,297,298,299,300,301,302,303,304,305,306,307,308,309,310,311,312,313,314,315,316,317,318,319,320,321,322,323,324,325,326,327,328,329,330,331,332,333,334,335,336,337,338,339,340,341,342,343,344,345,346,347,348,349,350,351,352,353,354,355,356,357,358,359,360,361,362,363,364,365,366,367,368,369,370,371,372,373,374,375,376,377,378,379,380,381,382,383,384,385,386,387,388,389,390,391,392,393,394,395,396,397,398,399,400,401,402,403,404,405,406,407,408,409,410,411,412,413,414,415,416,417,418,419,420,421,422,423,424,425,426,427,428,429,430,431,432,433,434,435,436,437,438,439,440,441,442,443,444,445,446,447,448,449,450,451,452,453,454,455,456,457,458,459,460,461,462,463,464,465,466,467,468,469,470,471,472,473,474,475,476,477,478,479,480,481,482,483,484,485,486,487,488,489,490,491,492,493,494,495,496,497,498,499,500,501,502,503,504,505,506,507,508,509,510,511,512,513,514,515,516,517,518,519,520,521,522,523,524,525,526,527,528,529,530,531,532,533,534,535,536,537,538,539,540,541,542,543,544,545,546,547,548,549,550,551,552,553,554,555,556,557,558,559,560,561,562,563,564,565,566,567,568,569,570,571,572,573,574,575,576,577,578,579,580,581,582,583,584,585,586,587,588,589,590,591,592,593,594,595,596,597,598,599,600,601,602,603,604,605,606,607,608,609,610,611,612,613,614,615,616,617,618,619,620,621,622,623,624,625,626,627,628,629,630,631,632,633,634,635,636,637,638,639,640,641,642,643,644,645,646,647,648,649,650,651,652,653,654,655,656,657,658,659,660,661,662,663,664,665,666,667,668,669,670,671,672,673,674,675,676,677,678,679,680,681,682,683,684,685,686,687,688,689,690,691,692,693,694,695,696,697,698,699,700,701,702,703,704,705,706,707,708,709,710,711,712,713,714,715,716,717,718,719,720,721,722,723,724,725,726,727,728,729,730,731,732,733,734,735,736,737,738,739,740,741,742,743,744,745,746,747,748,749,750,751,752,753,754,755,756,757,758,759,760,761,762,763,764,765,766,767,768,769,770,771,772,773,774,775,776,777,778,779,780,781,782,783,784,785,786,787,788,789,790,791,792,793,794,795,796,797,798,799,800,801,802,803,804,805,806,807,808,809,810,811,812,813,814,815,816,817,818,819,820,821,822,823,824,825,826,827,828,829,830,831,832,833,834,835,836,837,838,839,840,841,842,843,844,845,846,847,848,849,850,851,852,853,854,855,856,857,858,859,860,861,862,863,864,865,866,867,868,869,870,871,872,873,874,875,876,877,878,879,880,881,882,883,884,885,886,887,888,889,890,891,892,893,894,895,896,897,898,899,900,901,902,903,904,905,906,907,908,909,910,911,912,913,914,915,916,917,918,919,920,921,922,923,924,925,926,927,928,929,930,931,932,933,934,935,936,937,938,939,940,941,942,943,944,945,946,947,948,949,950,951,952,953,954,955,956,957,958,959,960,961,962,963,964,965,966,967,968,969,970,971,972,973,974,975,976,977,978,979,980,981,982,983,984,985,986,987,988,989,990,991,992,993,994,995,996,997,998,999,1000,1001,1002,1003) have mixed types.Specify dtype option on import or set low_memory=False.\n",
      "  exec(code_obj, self.user_global_ns, self.user_ns)\n"
     ]
    }
   ],
   "source": [
    "df_comments = pd.read_csv ('user_comments_subreddits.csv', header = None)\n",
    "df_posts = pd.read_csv ('user_posts_subreddits.csv', header = None)\n",
    "df_stats = pd.read_csv ('user_stats.csv')"
   ]
  },
  {
   "cell_type": "code",
   "execution_count": 245,
   "id": "5cdd0f8a",
   "metadata": {
    "scrolled": true
   },
   "outputs": [
    {
     "data": {
      "text/plain": [
       "(7166, 1003)"
      ]
     },
     "execution_count": 245,
     "metadata": {},
     "output_type": "execute_result"
    }
   ],
   "source": [
    "df_posts.shape\n",
    "#df_posts.shape\n",
    "#len(list(set(df_posts.iloc[:,0]) &set(df_stats[\"user_name\"])))\n",
    "#len(list(set(df_comments.iloc[:,0]) &set(df_stats[\"user_name\"])))"
   ]
  },
  {
   "cell_type": "code",
   "execution_count": 239,
   "id": "627ea0fe",
   "metadata": {},
   "outputs": [],
   "source": [
    "#flatten to list to get mode and remove NaN\n",
    "#post_users = list(df_posts.iloc[:,0])\n",
    "post_users = list(set(df_posts.iloc[:,0]) &set(df_stats[\"user_name\"]))\n",
    "df_posts = df_posts[df_posts.iloc[:,0].isin(post_users)].drop_duplicates(subset = 0)\n",
    "del df_posts[df_posts.columns[0]]\n",
    "posts_matrix = df_posts.to_numpy()\n",
    "flat_posts = posts_matrix.flatten()\n",
    "flat_posts = flat_posts[~pd.isnull(flat_posts)]\n",
    "#post_matrix = post_matrix[~pd.isnull(post_matrix)]\n",
    "\n",
    "\n",
    "comment_users = list(set(df_comments.iloc[:,0]) &set(df_stats[\"user_name\"]))\n",
    "df_comments = df_comments[df_comments.iloc[:,0].isin(comment_users)].drop_duplicates(subset = 0)\n",
    "comments_matrix = df_comments.to_numpy()\n",
    "del df_comments[df_comments.columns[0]]\n",
    "flat_comments = comments_matrix.flatten()\n",
    "flat_comments = flat_comments[~pd.isnull(flat_comments)]\n",
    "#comment_matrix = comment_matrix[~pd.isnull(comment_matrix)]"
   ]
  },
  {
   "cell_type": "code",
   "execution_count": 247,
   "id": "9cbc6648",
   "metadata": {},
   "outputs": [
    {
     "data": {
      "text/plain": [
       "(7166, 1003)"
      ]
     },
     "execution_count": 247,
     "metadata": {},
     "output_type": "execute_result"
    }
   ],
   "source": [
    "#len(comment_users)\n",
    "posts_matrix.shape\n",
    "#comment_matrix.shape"
   ]
  },
  {
   "cell_type": "code",
   "execution_count": 59,
   "id": "c381b689",
   "metadata": {},
   "outputs": [
    {
     "data": {
      "text/plain": [
       "array(['unpopularopinion', 'lostgeneration', 'PoliticalHumor', 'memes',\n",
       "       'antiwork', 'NoStupidQuestions', 'LateStageCapitalism',\n",
       "       'AskReddit', 'politics', 'Showerthoughts'], dtype=object)"
      ]
     },
     "execution_count": 59,
     "metadata": {},
     "output_type": "execute_result"
    }
   ],
   "source": [
    "vals,counts = np.unique(flat_posts, return_counts=True)\n",
    "index = np.argpartition(counts, -10)[-10:]\n",
    "vals[index]"
   ]
  },
  {
   "cell_type": "code",
   "execution_count": 47,
   "id": "d46af7b1",
   "metadata": {},
   "outputs": [
    {
     "data": {
      "text/plain": [
       "0       7171\n",
       "1       6825\n",
       "2       6574\n",
       "3       6391\n",
       "4       6194\n",
       "        ... \n",
       "999       39\n",
       "1000      26\n",
       "1001       5\n",
       "1002       2\n",
       "1003       1\n",
       "Length: 1004, dtype: int64"
      ]
     },
     "execution_count": 47,
     "metadata": {},
     "output_type": "execute_result"
    }
   ],
   "source": [
    "df_posts.count()"
   ]
  },
  {
   "cell_type": "code",
   "execution_count": 71,
   "id": "e1c06b13",
   "metadata": {},
   "outputs": [
    {
     "data": {
      "text/plain": [
       "array(['PublicFreakout', 'facepalm', 'WorkReform', 'news', 'politics',\n",
       "       'WhitePeopleTwitter', 'AmItheAsshole', 'worldnews', 'antiwork',\n",
       "       'AskReddit'], dtype=object)"
      ]
     },
     "execution_count": 71,
     "metadata": {},
     "output_type": "execute_result"
    }
   ],
   "source": [
    "vals,counts = np.unique(flat_comments, return_counts=True)\n",
    "index = np.argpartition(counts, -10)[-10:]\n",
    "vals[index]"
   ]
  },
  {
   "cell_type": "code",
   "execution_count": 264,
   "id": "f9676de2",
   "metadata": {},
   "outputs": [],
   "source": [
    "#Predictive model\n",
    "from sklearn.linear_model import LinearRegression\n",
    "from sklearn.preprocessing import StandardScaler\n",
    "from scipy import stats"
   ]
  },
  {
   "cell_type": "code",
   "execution_count": 249,
   "id": "97e51218",
   "metadata": {},
   "outputs": [],
   "source": [
    "#df_stats = df_stats.drop_duplicates(subset = \"user_name\")\n",
    "df_stats_posts = df_stats[df_stats['user_name'].isin(post_users)].drop_duplicates(subset = \"user_name\")\n",
    "df_stats_comments = df_stats[df_stats['user_name'].isin(comment_users)].drop_duplicates(subset = \"user_name\")\n",
    "ground_truth_post = df_stats_posts[\"post_karma\"].to_numpy()\n",
    "ground_truth_comment = df_stats_comments[\"post_karma\"].to_numpy()"
   ]
  },
  {
   "cell_type": "code",
   "execution_count": 203,
   "id": "12118763",
   "metadata": {},
   "outputs": [
    {
     "data": {
      "text/plain": [
       "(6403, 8)"
      ]
     },
     "execution_count": 203,
     "metadata": {},
     "output_type": "execute_result"
    }
   ],
   "source": [
    "df_stats_posts.shape\n",
    "df_stats_comments.shape"
   ]
  },
  {
   "cell_type": "code",
   "execution_count": 250,
   "id": "36a28282",
   "metadata": {},
   "outputs": [],
   "source": [
    "#\n",
    "pnum_aw = []\n",
    "pnum_ar = []\n",
    "pnum_st = []\n",
    "pnum_lsc = []\n",
    "pnum_nsq = []\n",
    "pnum_p = []\n",
    "pnum_m = []\n",
    "pnum_ph = []\n",
    "pnum_lg = []\n",
    "pnum_upo = []\n",
    "\n",
    "cnum_aw = []\n",
    "cnum_ar = []\n",
    "cnum_wn = []\n",
    "cnum_p = []\n",
    "cnum_aita = []\n",
    "cnum_wpt = []\n",
    "cnum_n = []\n",
    "cnum_fp = []\n",
    "cnum_lg = []\n",
    "cnum_upo = []\n",
    "\n",
    "\n",
    "for row in posts_matrix:\n",
    "    pnum_aw.append(np.count_nonzero(row == \"antiwork\"))\n",
    "    pnum_ar.append(np.count_nonzero(row == \"AskReddit\"))\n",
    "    pnum_st.append(np.count_nonzero(row == \"Showerthoughts\"))\n",
    "    pnum_lsc.append(np.count_nonzero(row == \"LateStageCapitalism\"))\n",
    "    pnum_nsq.append(np.count_nonzero(row == \"NoStupidQuestions\"))\n",
    "    pnum_p.append(np.count_nonzero(row == \"politics\"))\n",
    "    pnum_m.append(np.count_nonzero(row == \"memes\"))\n",
    "    pnum_ph.append(np.count_nonzero(row == \"PoliticalHumor\"))\n",
    "    pnum_lg.append(np.count_nonzero(row == \"lostgeneration\"))\n",
    "    pnum_upo.append(np.count_nonzero(row == \"unpopularopinion\"))\n",
    "\n",
    "for row in comments_matrix:\n",
    "    cnum_aw.append(np.count_nonzero(row == \"antiwork\"))\n",
    "    cnum_ar.append(np.count_nonzero(row == \"AskReddit\"))\n",
    "    cnum_wn.append(np.count_nonzero(row == \"worldnews\"))\n",
    "    cnum_p.append(np.count_nonzero(row == \"politics\"))\n",
    "    cnum_aita.append(np.count_nonzero(row == \"AmItheAsshole\"))\n",
    "    cnum_wpt.append(np.count_nonzero(row == \"WhitePeopleTwitter\"))\n",
    "    cnum_n.append(np.count_nonzero(row == \"news\"))\n",
    "    cnum_fp.append(np.count_nonzero(row == \"facepalm\"))\n",
    "    \n"
   ]
  },
  {
   "cell_type": "code",
   "execution_count": 251,
   "id": "493b5e7e",
   "metadata": {},
   "outputs": [],
   "source": [
    "pnum_aw = np.array(pnum_aw, ndmin=2)\n",
    "pnum_ar = np.array(pnum_ar,ndmin=2)\n",
    "pnum_st = np.array(pnum_st, ndmin=2)\n",
    "pnum_lsc = np.array(pnum_lsc, ndmin=2)\n",
    "pnum_nsq = np.array(pnum_nsq, ndmin=2)\n",
    "pnum_p = np.array(pnum_p, ndmin=2)\n",
    "pnum_m = np.array(pnum_m, ndmin=2)\n",
    "pnum_ph = np.array(pnum_ph, ndmin=2)\n",
    "pnum_lg = np.array(pnum_lg, ndmin=2)\n",
    "pnum_upo = np.array(pnum_upo, ndmin=2)\n",
    "\n",
    "cnum_aw = np.array(cnum_aw, ndmin=2)\n",
    "cnum_ar = np.array(cnum_ar, ndmin=2)\n",
    "cnum_wn = np.array(cnum_wn, ndmin=2)\n",
    "cnum_p = np.array(cnum_p, ndmin=2)\n",
    "cnum_aita = np.array(cnum_aita, ndmin=2)\n",
    "cnum_wpt = np.array(cnum_wpt, ndmin=2)\n",
    "cnum_n = np.array(cnum_n, ndmin=2)\n",
    "cnum_fp = np.array(cnum_fp, ndmin=2)"
   ]
  },
  {
   "cell_type": "code",
   "execution_count": 252,
   "id": "16d5399d",
   "metadata": {},
   "outputs": [],
   "source": [
    "#concatenate x_vals\n",
    "X_post = np.concatenate((pnum_aw, pnum_ar, pnum_st, pnum_lsc, pnum_nsq, pnum_p, pnum_m,\n",
    "                 pnum_ph, pnum_lg, pnum_upo), axis = 0).T\n",
    "X_comment = np.concatenate((cnum_aw, cnum_ar, cnum_wn, cnum_p, cnum_aita, cnum_wpt, cnum_n, cnum_fp), axis = 0).T"
   ]
  },
  {
   "cell_type": "code",
   "execution_count": 272,
   "id": "c64ff9d8",
   "metadata": {},
   "outputs": [],
   "source": [
    "#standardizing\n",
    "scaler = StandardScaler()\n",
    "Xs_post = scaler.fit_transform(X_post)\n",
    "Xs_comment = scaler.fit_transform(X_comment)"
   ]
  },
  {
   "cell_type": "code",
   "execution_count": 282,
   "id": "d90abf12",
   "metadata": {},
   "outputs": [
    {
     "name": "stdout",
     "output_type": "stream",
     "text": [
      "0.237346862266701\n"
     ]
    },
    {
     "data": {
      "text/plain": [
       "array([5937.29328581,   37.13756363,  373.92586002,  611.68332914,\n",
       "         94.05473076, -257.86299196,  194.70325117,  109.95520986,\n",
       "        787.83078362,  -16.40749527])"
      ]
     },
     "execution_count": 282,
     "metadata": {},
     "output_type": "execute_result"
    }
   ],
   "source": [
    "#Post Regression\n",
    "post_reg = LinearRegression().fit(Xs_post, ground_truth_post)\n",
    "\n",
    "print(post_reg.score(Xs_post, ground_truth_post))\n",
    "post_reg.coef_"
   ]
  },
  {
   "cell_type": "code",
   "execution_count": 281,
   "id": "50caffaf",
   "metadata": {},
   "outputs": [
    {
     "name": "stdout",
     "output_type": "stream",
     "text": [
      "0.0028627584593269306\n"
     ]
    },
    {
     "data": {
      "text/plain": [
       "array([ 477.3563337 ,   54.2479749 , -146.05067414, -212.45103127,\n",
       "       -219.07955377,  -29.28471388, -246.55633835, -209.51881827])"
      ]
     },
     "execution_count": 281,
     "metadata": {},
     "output_type": "execute_result"
    }
   ],
   "source": [
    "#Comment Regression\n",
    "comment_reg = LinearRegression().fit(Xs_comment, ground_truth_comment)\n",
    "print(comment_reg.score(Xs_comment, ground_truth_comment))\n",
    "comment_reg.coef_"
   ]
  },
  {
   "cell_type": "code",
   "execution_count": null,
   "id": "0030020c",
   "metadata": {},
   "outputs": [],
   "source": []
  }
 ],
 "metadata": {
  "kernelspec": {
   "display_name": "Python 3 (ipykernel)",
   "language": "python",
   "name": "python3"
  },
  "language_info": {
   "codemirror_mode": {
    "name": "ipython",
    "version": 3
   },
   "file_extension": ".py",
   "mimetype": "text/x-python",
   "name": "python",
   "nbconvert_exporter": "python",
   "pygments_lexer": "ipython3",
   "version": "3.9.7"
  }
 },
 "nbformat": 4,
 "nbformat_minor": 5
}
