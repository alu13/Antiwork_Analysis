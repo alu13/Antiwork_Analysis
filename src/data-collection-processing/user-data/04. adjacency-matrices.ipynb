{
 "cells": [
  {
   "cell_type": "markdown",
   "metadata": {},
   "source": [
    "# Constructing sparse user adjacency matrices\n",
    "\n",
    "This notebook constructs sparse interaction user matrices for downstream clustering / other analysis tasks."
   ]
  },
  {
   "cell_type": "code",
   "execution_count": 11,
   "metadata": {},
   "outputs": [],
   "source": [
    "from pathlib import Path\n",
    "import csv\n",
    "import json\n",
    "import ctypes as ct\n",
    "from tqdm import tqdm\n",
    "import sqlite3 as sq\n",
    "import numpy as np\n",
    "import scipy.sparse as sps\n",
    "\n",
    "csv.field_size_limit(int(ct.c_ulong(-1).value // 2))\n",
    "\n",
    "path = \"../../../data/users/\"\n",
    "DB_path = path + 'users.sqlite.db'"
   ]
  },
  {
   "cell_type": "markdown",
   "metadata": {},
   "source": [
    "## Adding an identifier to SQL database that can be mapped to the adjacency matrices"
   ]
  },
  {
   "cell_type": "code",
   "execution_count": 3,
   "metadata": {},
   "outputs": [
    {
     "name": "stdout",
     "output_type": "stream",
     "text": [
      "columns already exist\n"
     ]
    }
   ],
   "source": [
    "with sq.connect(DB_path) as conn:\n",
    "    cur = conn.cursor()    \n",
    "    try:\n",
    "        cur.execute(\"ALTER TABLE users ADD COLUMN matrix_id int\")        \n",
    "    except sq.OperationalError:\n",
    "        print(\"columns already exist\")\n",
    "\n",
    "    cur.execute(\"drop table if exists tmp;\")\n",
    "    cur.execute(\"\"\"\n",
    "        CREATE TABLE tmp as \n",
    "            SELECT user_name, row_number() over (order by total_activity DESC) as no FROM users WHERE is_selected = True;\"\"\"\n",
    "    )\n",
    "\n",
    "    cur.execute(\"CREATE INDEX IF NOT EXISTS user_name_idx ON tmp(user_name)\")\n",
    "\n",
    "    cur.execute(\"UPDATE users SET matrix_id = (SELECT no FROM tmp WHERE tmp.user_name = users.user_name);\")\n",
    "    cur.execute(\"drop table if exists tmp;\")"
   ]
  },
  {
   "cell_type": "code",
   "execution_count": 8,
   "metadata": {},
   "outputs": [
    {
     "name": "stdout",
     "output_type": "stream",
     "text": [
      "Total number of users: 7807\n"
     ]
    }
   ],
   "source": [
    "#retrieving a dictionary to map user names to IDs\n",
    "with sq.connect(DB_path) as conn:\n",
    "    cur = conn.cursor()    \n",
    "    cur.execute(\"SELECT user_name, matrix_id FROM users WHERE matrix_id IS NOT NULL\")\n",
    "    mapped = dict(cur.fetchall())\n",
    "\n",
    "print(\"Total number of users: {}\".format(len(mapped)))\n"
   ]
  },
  {
   "cell_type": "code",
   "execution_count": 9,
   "metadata": {},
   "outputs": [
    {
     "name": "stdout",
     "output_type": "stream",
     "text": [
      "Total files to be processed: 489\n"
     ]
    }
   ],
   "source": [
    "files = [f.absolute() for f in Path(path + 'raw/').glob(\"*.csv\")]\n",
    "print(\"Total files to be processed: {}\".format(len(files)))"
   ]
  },
  {
   "cell_type": "code",
   "execution_count": 11,
   "metadata": {},
   "outputs": [
    {
     "name": "stderr",
     "output_type": "stream",
     "text": [
      "100%|██████████| 489/489 [1:11:20<00:00,  8.75s/it]\n"
     ]
    }
   ],
   "source": [
    "def process_batch_file(filename, writer = None, data_column_no = 4, user_column_no = 8):\n",
    "    with open(filename) as file:\n",
    "        reader = csv.reader(file, delimiter=',')\n",
    "        next(reader) #skip the header\n",
    "        for i, row in enumerate(reader):\n",
    "            interactions = json.loads(row[data_column_no])\n",
    "            user_name = row[user_column_no]\n",
    "            for interlocutor, intensity in interactions.items():                \n",
    "                #get IDs\n",
    "                try:\n",
    "                    userid = mapped[user_name]\n",
    "                    interid = mapped[interlocutor]                    \n",
    "                    writer.writerow([userid, interid, intensity])\n",
    "                except KeyError:\n",
    "                    # ignore cases where there is no user in the mapped list\n",
    "                    # this only happens because mapped list is pre-filtered\n",
    "                    pass"
   ]
  },
  {
   "cell_type": "code",
   "execution_count": null,
   "metadata": {},
   "outputs": [],
   "source": [
    "interactions = {\"indirects\": 5, \"directs\": 4}\n",
    "for int_type, data_col in interactions.items():\n",
    "    adj_matrix_path = f\"{path}/adj_matrix-{int_type}.npz\"\n",
    "    user_interaction_map = f\"{path}/adj_map-{int_type}.csv\"\n",
    "    \n",
    "    #first, save the interactions to a CSV (will have repeat rows)\n",
    "    with open(user_interaction_map, \"w\") as outfile:\n",
    "        csvwriter = csv.writer(outfile, delimiter=',', quoting=csv.QUOTE_NONE)\n",
    "        for i,f in enumerate(tqdm(files)):        \n",
    "            process_batch_file(f, csvwriter, data_column_no=data_col)\n",
    "    \n",
    "    #then, generate a scipy matrix with condensed info\n",
    "    adj_matrix = np.zeros((len(mapped), len(mapped)))\n",
    "    with open(user_interaction_map, \"r\") as outfile:\n",
    "        reader = csv.reader(outfile, delimiter=',', quoting=csv.QUOTE_NONE)\n",
    "        for row in tqdm(reader, total=79547162):\n",
    "            i = int(row[0])\n",
    "            j = int(row[1])\n",
    "            adj_matrix[i,j] = adj_matrix[i,j] + 1\n",
    "            adj_matrix[j,i] = adj_matrix[j,i] + 1\n",
    "    \n",
    "    sparse_matrix = sps.csr_matrix(adj_matrix)\n",
    "    sps.save_npz(adj_matrix_path, sparse_matrix)"
   ]
  }
 ],
 "metadata": {
  "interpreter": {
   "hash": "458e57744219fd35e36fe617bee87769eccb7cd58eff0111259e94f378fae128"
  },
  "kernelspec": {
   "display_name": "Python 3 (ipykernel)",
   "language": "python",
   "name": "python3"
  },
  "language_info": {
   "codemirror_mode": {
    "name": "ipython",
    "version": 3
   },
   "file_extension": ".py",
   "mimetype": "text/x-python",
   "name": "python",
   "nbconvert_exporter": "python",
   "pygments_lexer": "ipython3",
   "version": "3.8.10"
  }
 },
 "nbformat": 4,
 "nbformat_minor": 4
}
