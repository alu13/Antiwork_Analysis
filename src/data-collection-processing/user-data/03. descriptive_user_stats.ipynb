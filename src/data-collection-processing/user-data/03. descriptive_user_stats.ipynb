{
 "cells": [
  {
   "cell_type": "markdown",
   "metadata": {},
   "source": [
    "# Descriptive User Statistics\n",
    "This notebook contains basic user statistics analysis included in the report."
   ]
  },
  {
   "cell_type": "code",
   "execution_count": 3,
   "metadata": {},
   "outputs": [],
   "source": [
    "import sys\n",
    "sys.path.append(\"../../../src\")\n",
    "\n",
    "import polars as pl\n",
    "import altair as alt\n",
    "import latex_tables as lx\n",
    "import pandas as pd\n",
    "import importlib as imp\n",
    "import sqlite3 as sq\n",
    "imp.reload(lx)\n",
    "from pathlib import Path\n",
    "\n",
    "DB_path = '../../../data/users/users.sqlite.db'\n",
    "export_path = '../../../data/users/illustrations/'"
   ]
  },
  {
   "cell_type": "markdown",
   "metadata": {},
   "source": [
    "## Adding basic statistics about users directly to the database"
   ]
  },
  {
   "cell_type": "code",
   "execution_count": 4,
   "metadata": {},
   "outputs": [
    {
     "name": "stdout",
     "output_type": "stream",
     "text": [
      "columns already exist\n"
     ]
    }
   ],
   "source": [
    "with sq.connect(DB_path) as conn:\n",
    "    cur = conn.cursor()    \n",
    "    try:\n",
    "        cur.execute(\"ALTER TABLE users ADD COLUMN avg_post_karma real\")\n",
    "        cur.execute(\"ALTER TABLE users ADD COLUMN avg_comment_karma real\")\n",
    "        cur.execute(\"ALTER TABLE users ADD COLUMN activity_window real\")        \n",
    "        cur.execute(\"ALTER TABLE users ADD COLUMN is_bot boolean\")\n",
    "        cur.execute(\"ALTER TABLE users ADD COLUMN is_selected boolean\")    \n",
    "    except sq.OperationalError:\n",
    "        print(\"columns already exist\")\n",
    "\n",
    "    cur.execute(\"CREATE INDEX IF NOT EXISTS selected_index ON users(is_selected)\")\n",
    "    cur.execute(\"CREATE INDEX IF NOT EXISTS user_name_index ON users(user_name)\")\n",
    "    \n",
    "    cur.execute(\"UPDATE users SET avg_post_karma = CASE WHEN no_posts > 0 THEN post_karma / CAST(no_posts as REAL) ELSE 0 END\")\n",
    "    cur.execute(\"UPDATE users SET avg_comment_karma = CASE WHEN no_comments > 0 THEN comment_karma / CAST(no_comments as REAL) ELSE 0 END\")\n",
    "    cur.execute(\"UPDATE users SET activity_window = CAST(last_date - first_date as REAL) / (3600 * 24)\") "
   ]
  },
  {
   "cell_type": "markdown",
   "metadata": {},
   "source": [
    "## Marking bots\n",
    "\n",
    "These users were identified as bots during exploratory analysis."
   ]
  },
  {
   "cell_type": "code",
   "execution_count": 5,
   "metadata": {},
   "outputs": [],
   "source": [
    "bots = [\"__SKIP__\", \"AutoModerator\", \"MAGIC_EYE_BOT\"]\n",
    "with sq.connect(DB_path) as conn:\n",
    "    cur = conn.cursor()\n",
    "    cur.execute(\"UPDATE users SET is_bot = ?\", (False,))\n",
    "    for bot in bots:\n",
    "        cur.execute(\"UPDATE users SET is_bot = ? WHERE user_name = ?\", (True, bot))"
   ]
  },
  {
   "cell_type": "markdown",
   "metadata": {},
   "source": [
    "## Deciding on the cut-off for \"top users\"\n",
    "\n",
    "Based on the below curve and our computational resources, we decided to define \"core community\" as the users that have made at least 100 posts/comments during their lifetime."
   ]
  },
  {
   "cell_type": "code",
   "execution_count": 6,
   "metadata": {},
   "outputs": [],
   "source": [
    "conn_string = \"sqlite://\" + str(Path(DB_path).absolute())\n",
    "users = pl.read_sql(\"SELECT total_activity FROM users WHERE is_bot = FALSE\", conn_string)"
   ]
  },
  {
   "cell_type": "code",
   "execution_count": 7,
   "metadata": {},
   "outputs": [
    {
     "data": {
      "text/html": [
       "\n",
       "<div id=\"altair-viz-47ff11b1f21d434b835e7c60fda7a800\"></div>\n",
       "<script type=\"text/javascript\">\n",
       "  var VEGA_DEBUG = (typeof VEGA_DEBUG == \"undefined\") ? {} : VEGA_DEBUG;\n",
       "  (function(spec, embedOpt){\n",
       "    let outputDiv = document.currentScript.previousElementSibling;\n",
       "    if (outputDiv.id !== \"altair-viz-47ff11b1f21d434b835e7c60fda7a800\") {\n",
       "      outputDiv = document.getElementById(\"altair-viz-47ff11b1f21d434b835e7c60fda7a800\");\n",
       "    }\n",
       "    const paths = {\n",
       "      \"vega\": \"https://cdn.jsdelivr.net/npm//vega@5?noext\",\n",
       "      \"vega-lib\": \"https://cdn.jsdelivr.net/npm//vega-lib?noext\",\n",
       "      \"vega-lite\": \"https://cdn.jsdelivr.net/npm//vega-lite@4.17.0?noext\",\n",
       "      \"vega-embed\": \"https://cdn.jsdelivr.net/npm//vega-embed@6?noext\",\n",
       "    };\n",
       "\n",
       "    function maybeLoadScript(lib, version) {\n",
       "      var key = `${lib.replace(\"-\", \"\")}_version`;\n",
       "      return (VEGA_DEBUG[key] == version) ?\n",
       "        Promise.resolve(paths[lib]) :\n",
       "        new Promise(function(resolve, reject) {\n",
       "          var s = document.createElement('script');\n",
       "          document.getElementsByTagName(\"head\")[0].appendChild(s);\n",
       "          s.async = true;\n",
       "          s.onload = () => {\n",
       "            VEGA_DEBUG[key] = version;\n",
       "            return resolve(paths[lib]);\n",
       "          };\n",
       "          s.onerror = () => reject(`Error loading script: ${paths[lib]}`);\n",
       "          s.src = paths[lib];\n",
       "        });\n",
       "    }\n",
       "\n",
       "    function showError(err) {\n",
       "      outputDiv.innerHTML = `<div class=\"error\" style=\"color:red;\">${err}</div>`;\n",
       "      throw err;\n",
       "    }\n",
       "\n",
       "    function displayChart(vegaEmbed) {\n",
       "      vegaEmbed(outputDiv, spec, embedOpt)\n",
       "        .catch(err => showError(`Javascript Error: ${err.message}<br>This usually means there's a typo in your chart specification. See the javascript console for the full traceback.`));\n",
       "    }\n",
       "\n",
       "    if(typeof define === \"function\" && define.amd) {\n",
       "      requirejs.config({paths});\n",
       "      require([\"vega-embed\"], displayChart, err => showError(`Error loading script: ${err.message}`));\n",
       "    } else {\n",
       "      maybeLoadScript(\"vega\", \"5\")\n",
       "        .then(() => maybeLoadScript(\"vega-lite\", \"4.17.0\"))\n",
       "        .then(() => maybeLoadScript(\"vega-embed\", \"6\"))\n",
       "        .catch(showError)\n",
       "        .then(() => displayChart(vegaEmbed));\n",
       "    }\n",
       "  })({\"config\": {\"view\": {\"continuousWidth\": 400, \"continuousHeight\": 300}}, \"data\": {\"name\": \"data-8366b2df3eaab7dc5910830ef7783647\"}, \"mark\": \"line\", \"encoding\": {\"x\": {\"field\": \"threshold\", \"type\": \"quantitative\"}, \"y\": {\"field\": \"no_users\", \"type\": \"quantitative\"}}, \"$schema\": \"https://vega.github.io/schema/vega-lite/v4.17.0.json\", \"datasets\": {\"data-8366b2df3eaab7dc5910830ef7783647\": [{\"threshold\": 5, \"no_users\": 211505}, {\"threshold\": 6, \"no_users\": 180850}, {\"threshold\": 7, \"no_users\": 158100}, {\"threshold\": 8, \"no_users\": 140585}, {\"threshold\": 9, \"no_users\": 126227}, {\"threshold\": 10, \"no_users\": 114472}, {\"threshold\": 11, \"no_users\": 104849}, {\"threshold\": 12, \"no_users\": 96523}, {\"threshold\": 13, \"no_users\": 89418}, {\"threshold\": 14, \"no_users\": 83219}, {\"threshold\": 15, \"no_users\": 77785}, {\"threshold\": 16, \"no_users\": 72872}, {\"threshold\": 17, \"no_users\": 68455}, {\"threshold\": 18, \"no_users\": 64554}, {\"threshold\": 19, \"no_users\": 60990}, {\"threshold\": 20, \"no_users\": 57810}, {\"threshold\": 21, \"no_users\": 54946}, {\"threshold\": 22, \"no_users\": 52239}, {\"threshold\": 23, \"no_users\": 49739}, {\"threshold\": 24, \"no_users\": 47492}, {\"threshold\": 25, \"no_users\": 45438}, {\"threshold\": 26, \"no_users\": 43526}, {\"threshold\": 27, \"no_users\": 41682}, {\"threshold\": 28, \"no_users\": 40016}, {\"threshold\": 29, \"no_users\": 38510}, {\"threshold\": 30, \"no_users\": 37053}, {\"threshold\": 31, \"no_users\": 35678}, {\"threshold\": 32, \"no_users\": 34330}, {\"threshold\": 33, \"no_users\": 33065}, {\"threshold\": 34, \"no_users\": 31968}, {\"threshold\": 35, \"no_users\": 30865}, {\"threshold\": 36, \"no_users\": 29849}, {\"threshold\": 37, \"no_users\": 28862}, {\"threshold\": 38, \"no_users\": 27959}, {\"threshold\": 39, \"no_users\": 27136}, {\"threshold\": 40, \"no_users\": 26343}, {\"threshold\": 41, \"no_users\": 25526}, {\"threshold\": 42, \"no_users\": 24784}, {\"threshold\": 43, \"no_users\": 24113}, {\"threshold\": 44, \"no_users\": 23391}, {\"threshold\": 45, \"no_users\": 22711}, {\"threshold\": 46, \"no_users\": 22135}, {\"threshold\": 47, \"no_users\": 21544}, {\"threshold\": 48, \"no_users\": 20989}, {\"threshold\": 49, \"no_users\": 20450}, {\"threshold\": 50, \"no_users\": 19923}, {\"threshold\": 51, \"no_users\": 19475}, {\"threshold\": 52, \"no_users\": 18992}, {\"threshold\": 53, \"no_users\": 18556}, {\"threshold\": 54, \"no_users\": 18132}, {\"threshold\": 55, \"no_users\": 17702}, {\"threshold\": 56, \"no_users\": 17291}, {\"threshold\": 57, \"no_users\": 16888}, {\"threshold\": 58, \"no_users\": 16494}, {\"threshold\": 59, \"no_users\": 16134}, {\"threshold\": 60, \"no_users\": 15761}, {\"threshold\": 61, \"no_users\": 15402}, {\"threshold\": 62, \"no_users\": 15084}, {\"threshold\": 63, \"no_users\": 14806}, {\"threshold\": 64, \"no_users\": 14502}, {\"threshold\": 65, \"no_users\": 14220}, {\"threshold\": 66, \"no_users\": 13943}, {\"threshold\": 67, \"no_users\": 13642}, {\"threshold\": 68, \"no_users\": 13355}, {\"threshold\": 69, \"no_users\": 13094}, {\"threshold\": 70, \"no_users\": 12857}, {\"threshold\": 71, \"no_users\": 12586}, {\"threshold\": 72, \"no_users\": 12347}, {\"threshold\": 73, \"no_users\": 12115}, {\"threshold\": 74, \"no_users\": 11929}, {\"threshold\": 75, \"no_users\": 11722}, {\"threshold\": 76, \"no_users\": 11493}, {\"threshold\": 77, \"no_users\": 11255}, {\"threshold\": 78, \"no_users\": 11053}, {\"threshold\": 79, \"no_users\": 10862}, {\"threshold\": 80, \"no_users\": 10678}, {\"threshold\": 81, \"no_users\": 10529}, {\"threshold\": 82, \"no_users\": 10357}, {\"threshold\": 83, \"no_users\": 10176}, {\"threshold\": 84, \"no_users\": 10006}, {\"threshold\": 85, \"no_users\": 9822}, {\"threshold\": 86, \"no_users\": 9682}, {\"threshold\": 87, \"no_users\": 9524}, {\"threshold\": 88, \"no_users\": 9354}, {\"threshold\": 89, \"no_users\": 9205}, {\"threshold\": 90, \"no_users\": 9090}, {\"threshold\": 91, \"no_users\": 8927}, {\"threshold\": 92, \"no_users\": 8781}, {\"threshold\": 93, \"no_users\": 8670}, {\"threshold\": 94, \"no_users\": 8531}, {\"threshold\": 95, \"no_users\": 8411}, {\"threshold\": 96, \"no_users\": 8284}, {\"threshold\": 97, \"no_users\": 8169}, {\"threshold\": 98, \"no_users\": 8040}, {\"threshold\": 99, \"no_users\": 7931}, {\"threshold\": 100, \"no_users\": 7807}, {\"threshold\": 101, \"no_users\": 7704}, {\"threshold\": 102, \"no_users\": 7603}, {\"threshold\": 103, \"no_users\": 7500}, {\"threshold\": 104, \"no_users\": 7397}, {\"threshold\": 105, \"no_users\": 7308}, {\"threshold\": 106, \"no_users\": 7193}, {\"threshold\": 107, \"no_users\": 7096}, {\"threshold\": 108, \"no_users\": 7004}, {\"threshold\": 109, \"no_users\": 6915}, {\"threshold\": 110, \"no_users\": 6811}, {\"threshold\": 111, \"no_users\": 6709}, {\"threshold\": 112, \"no_users\": 6608}, {\"threshold\": 113, \"no_users\": 6508}, {\"threshold\": 114, \"no_users\": 6410}, {\"threshold\": 115, \"no_users\": 6336}, {\"threshold\": 116, \"no_users\": 6252}, {\"threshold\": 117, \"no_users\": 6189}, {\"threshold\": 118, \"no_users\": 6115}, {\"threshold\": 119, \"no_users\": 6015}, {\"threshold\": 120, \"no_users\": 5953}, {\"threshold\": 121, \"no_users\": 5878}, {\"threshold\": 122, \"no_users\": 5801}, {\"threshold\": 123, \"no_users\": 5721}, {\"threshold\": 124, \"no_users\": 5666}, {\"threshold\": 125, \"no_users\": 5604}, {\"threshold\": 126, \"no_users\": 5540}, {\"threshold\": 127, \"no_users\": 5472}, {\"threshold\": 128, \"no_users\": 5402}, {\"threshold\": 129, \"no_users\": 5326}, {\"threshold\": 130, \"no_users\": 5268}, {\"threshold\": 131, \"no_users\": 5196}, {\"threshold\": 132, \"no_users\": 5129}, {\"threshold\": 133, \"no_users\": 5069}, {\"threshold\": 134, \"no_users\": 5004}, {\"threshold\": 135, \"no_users\": 4950}, {\"threshold\": 136, \"no_users\": 4901}, {\"threshold\": 137, \"no_users\": 4838}, {\"threshold\": 138, \"no_users\": 4776}, {\"threshold\": 139, \"no_users\": 4726}, {\"threshold\": 140, \"no_users\": 4686}, {\"threshold\": 141, \"no_users\": 4625}, {\"threshold\": 142, \"no_users\": 4580}, {\"threshold\": 143, \"no_users\": 4528}, {\"threshold\": 144, \"no_users\": 4476}, {\"threshold\": 145, \"no_users\": 4429}, {\"threshold\": 146, \"no_users\": 4387}, {\"threshold\": 147, \"no_users\": 4335}, {\"threshold\": 148, \"no_users\": 4293}, {\"threshold\": 149, \"no_users\": 4260}, {\"threshold\": 150, \"no_users\": 4209}]}}, {\"mode\": \"vega-lite\"});\n",
       "</script>"
      ],
      "text/plain": [
       "alt.Chart(...)"
      ]
     },
     "execution_count": 7,
     "metadata": {},
     "output_type": "execute_result"
    }
   ],
   "source": [
    "subset_sizes = [(threshold, users.filter(pl.col(\"total_activity\") >= threshold).shape[0]) for threshold in range(5, 151)]\n",
    "\n",
    "alt.Chart(pd.DataFrame(subset_sizes, columns=[\"threshold\", \"no_users\"])).mark_line().encode(\n",
    "    x=\"threshold\",\n",
    "    y=\"no_users\"\n",
    ")"
   ]
  },
  {
   "cell_type": "code",
   "execution_count": 8,
   "metadata": {},
   "outputs": [],
   "source": [
    "with sq.connect(DB_path) as conn:\n",
    "    cur = conn.cursor()\n",
    "    cur.execute(\"UPDATE users SET is_selected = ?\", (False,))\n",
    "    for bot in bots:\n",
    "        cur.execute(\"UPDATE users SET is_selected = ? WHERE total_activity >= ? AND NOT is_bot\", (True, 100))"
   ]
  },
  {
   "cell_type": "markdown",
   "metadata": {},
   "source": [
    "## Basic stats\n",
    " - Number of users, posts, and comments\n",
    " - Average post / comment karma\n",
    " - Average length of membership"
   ]
  },
  {
   "cell_type": "code",
   "execution_count": 9,
   "metadata": {},
   "outputs": [],
   "source": [
    "conn_string = \"sqlite://\" + str(Path(DB_path).absolute())\n",
    "users = pl.read_sql(\"SELECT * FROM users WHERE is_bot = FALSE\", conn_string)"
   ]
  },
  {
   "cell_type": "code",
   "execution_count": 10,
   "metadata": {},
   "outputs": [
    {
     "data": {
      "text/html": [
       "<div>\n",
       "<style scoped>\n",
       "    .dataframe tbody tr th:only-of-type {\n",
       "        vertical-align: middle;\n",
       "    }\n",
       "\n",
       "    .dataframe tbody tr th {\n",
       "        vertical-align: top;\n",
       "    }\n",
       "\n",
       "    .dataframe thead th {\n",
       "        text-align: right;\n",
       "    }\n",
       "</style>\n",
       "<table border=\"1\" class=\"dataframe\">\n",
       "  <thead>\n",
       "    <tr style=\"text-align: right;\">\n",
       "      <th></th>\n",
       "      <th>Statistic</th>\n",
       "      <th>All Users</th>\n",
       "      <th>Selected Users</th>\n",
       "    </tr>\n",
       "  </thead>\n",
       "  <tbody>\n",
       "    <tr>\n",
       "      <th>0</th>\n",
       "      <td>Total number of users</td>\n",
       "      <td>8.143500e+05</td>\n",
       "      <td>7.807000e+03</td>\n",
       "    </tr>\n",
       "    <tr>\n",
       "      <th>1</th>\n",
       "      <td>Total posts</td>\n",
       "      <td>1.551840e+05</td>\n",
       "      <td>2.831700e+04</td>\n",
       "    </tr>\n",
       "    <tr>\n",
       "      <th>2</th>\n",
       "      <td>Total comments</td>\n",
       "      <td>5.978678e+06</td>\n",
       "      <td>1.744481e+06</td>\n",
       "    </tr>\n",
       "    <tr>\n",
       "      <th>3</th>\n",
       "      <td>Total post karma</td>\n",
       "      <td>7.613030e+07</td>\n",
       "      <td>1.687691e+07</td>\n",
       "    </tr>\n",
       "    <tr>\n",
       "      <th>4</th>\n",
       "      <td>Total comment karma</td>\n",
       "      <td>8.803150e+07</td>\n",
       "      <td>3.123843e+07</td>\n",
       "    </tr>\n",
       "    <tr>\n",
       "      <th>5</th>\n",
       "      <td>Avg. posts per user</td>\n",
       "      <td>1.905618e-01</td>\n",
       "      <td>3.627129e+00</td>\n",
       "    </tr>\n",
       "    <tr>\n",
       "      <th>6</th>\n",
       "      <td>Median posts per user</td>\n",
       "      <td>0.000000e+00</td>\n",
       "      <td>1.000000e+00</td>\n",
       "    </tr>\n",
       "    <tr>\n",
       "      <th>7</th>\n",
       "      <td>Avg. comments per user</td>\n",
       "      <td>7.341657e+00</td>\n",
       "      <td>2.234509e+02</td>\n",
       "    </tr>\n",
       "    <tr>\n",
       "      <th>8</th>\n",
       "      <td>Median comments per user</td>\n",
       "      <td>2.000000e+00</td>\n",
       "      <td>1.540000e+02</td>\n",
       "    </tr>\n",
       "    <tr>\n",
       "      <th>9</th>\n",
       "      <td>Median average user post karma</td>\n",
       "      <td>4.772883e+01</td>\n",
       "      <td>3.909637e+02</td>\n",
       "    </tr>\n",
       "    <tr>\n",
       "      <th>10</th>\n",
       "      <td>Median average user comment karma</td>\n",
       "      <td>9.399348e+00</td>\n",
       "      <td>1.810422e+01</td>\n",
       "    </tr>\n",
       "    <tr>\n",
       "      <th>11</th>\n",
       "      <td>Median activity window (days)</td>\n",
       "      <td>0.000000e+00</td>\n",
       "      <td>1.250000e+02</td>\n",
       "    </tr>\n",
       "  </tbody>\n",
       "</table>\n",
       "</div>"
      ],
      "text/plain": [
       "                            Statistic     All Users  Selected Users\n",
       "0               Total number of users  8.143500e+05    7.807000e+03\n",
       "1                         Total posts  1.551840e+05    2.831700e+04\n",
       "2                      Total comments  5.978678e+06    1.744481e+06\n",
       "3                    Total post karma  7.613030e+07    1.687691e+07\n",
       "4                 Total comment karma  8.803150e+07    3.123843e+07\n",
       "5                 Avg. posts per user  1.905618e-01    3.627129e+00\n",
       "6               Median posts per user  0.000000e+00    1.000000e+00\n",
       "7              Avg. comments per user  7.341657e+00    2.234509e+02\n",
       "8            Median comments per user  2.000000e+00    1.540000e+02\n",
       "9      Median average user post karma  4.772883e+01    3.909637e+02\n",
       "10  Median average user comment karma  9.399348e+00    1.810422e+01\n",
       "11      Median activity window (days)  0.000000e+00    1.250000e+02"
      ]
     },
     "execution_count": 10,
     "metadata": {},
     "output_type": "execute_result"
    }
   ],
   "source": [
    "def get_basic_stats(df): \n",
    "    stats = df.lazy().select([\n",
    "            pl.col(\"no_posts\").count().alias(\"Total number of users\"),\n",
    "            pl.col('no_posts').sum().alias(\"Total posts\"),    \n",
    "            pl.col('no_comments').sum().alias(\"Total comments\"),\n",
    "            pl.col('post_karma').sum().alias(\"Total post karma\"),\n",
    "            pl.col('comment_karma').sum().alias(\"Total comment karma\"),\n",
    "            pl.col(\"no_posts\").mean().alias(\"Avg. posts per user\"),\n",
    "            pl.col(\"no_posts\").median().alias(\"Median posts per user\"),    \n",
    "            pl.col(\"no_comments\").mean().alias(\"Avg. comments per user\"),\n",
    "            pl.col(\"no_comments\").median().alias(\"Median comments per user\"),\n",
    "            pl.col(\"avg_post_karma\").mean().alias(\"Median average user post karma\"),\n",
    "            pl.col(\"avg_comment_karma\").mean().alias(\"Median average user comment karma\"),  \n",
    "            pl.col(\"activity_window\").median().alias(\"Median activity window (days)\"),            \n",
    "        ]).collect().transpose(include_header=True, header_name=\"Statistic\")\n",
    "    return stats\n",
    "\n",
    "basic_stats_all = get_basic_stats(users)\n",
    "basic_stats_selected = get_basic_stats(users.filter(pl.col(\"is_selected\") == True))\n",
    "\n",
    "df1 = basic_stats_all.to_pandas().set_index(\"Statistic\").rename({\"column_0\": \"All Users\"}, axis=1)\n",
    "df2 = basic_stats_selected.to_pandas().set_index(\"Statistic\").rename({\"column_0\": \"Selected Users\"}, axis=1)\n",
    "\n",
    "joined_df = df1.join(df2).reset_index()\n",
    "\n",
    "joined_df"
   ]
  },
  {
   "cell_type": "code",
   "execution_count": 11,
   "metadata": {},
   "outputs": [],
   "source": [
    "lx.save_lx_table(\n",
    "    filename=export_path + \"basic_user_stats.tex\",\n",
    "    caption=\"Overall user statistics\", \n",
    "    data=joined_df, headers=[\"Statistic\", \"All users\", \"Selected users\"],\n",
    "    precision= \".2f\"\n",
    ")"
   ]
  },
  {
   "cell_type": "markdown",
   "metadata": {},
   "source": [
    "## Distributions"
   ]
  },
  {
   "cell_type": "code",
   "execution_count": 12,
   "metadata": {},
   "outputs": [],
   "source": [
    "def get_histogram(df, column, bin_size):\n",
    "    hist = df.select([\n",
    "        (pl.col(column) / bin_size).floor().alias(\"bin_no\"),\n",
    "    ]).groupby(\"bin_no\").count().select([\n",
    "        (pl.col(\"bin_no\") * bin_size + 1).alias(\"bin\"),\n",
    "        pl.col(\"count\")\n",
    "    ]).sort(pl.col(\"bin\"))\n",
    "\n",
    "    return hist.to_pandas()\n",
    "\n",
    "def plot_histogram(hist, xlab = \"\", ylab=\"Number of users\", y_log_scale=False, max_x=None):    \n",
    "    \n",
    "    if y_log_scale:\n",
    "        y_scale = alt.Scale(type=\"log\")\n",
    "        hist['count'] = hist['count'] + 0.1        \n",
    "    else:\n",
    "        y_scale = alt.Scale(type=\"linear\")\n",
    "\n",
    "    \n",
    "    if max_x is None:\n",
    "        max_x = hist[\"bin\"].max()\n",
    "    chart = alt.Chart(hist).mark_line(size=2, clip=True).encode(\n",
    "        x = alt.X(\"bin:Q\", title=xlab, scale=alt.Scale(domain=(0,max_x)), axis=alt.Axis(grid=False)),\n",
    "        y = alt.Y('count', title=ylab, scale=y_scale, axis=alt.Axis(grid=False)),\n",
    "        color = alt.Color(\"Variable\")\n",
    "    )\n",
    "    return chart"
   ]
  },
  {
   "cell_type": "code",
   "execution_count": 13,
   "metadata": {},
   "outputs": [],
   "source": [
    "hist_posts = get_histogram(users, \"no_posts\", 20)\n",
    "hist_posts['Variable'] = \"Post count\"\n",
    "\n",
    "posts = plot_histogram(\n",
    "    hist_posts, \"Number of posts\", y_log_scale=True, max_x=400\n",
    ").properties(title=\"Histogram of users by post count\")\n",
    "\n",
    "hist_comments = get_histogram(users, \"no_comments\", 100)\n",
    "hist_comments['Variable'] = \"Comment count\"\n",
    "comments = plot_histogram(\n",
    "    hist_comments, \"Number of comments\", y_log_scale=True, max_x=4000\n",
    ").properties(title=\"Histogram of users by comment count\")\n",
    "\n",
    "hist_age = get_histogram(users, \"activity_window\", 100)\n",
    "hist_age['Variable'] = \"Activity window\"\n",
    "age = plot_histogram(\n",
    "    hist_age, \"Activity window (days)\", y_log_scale=True\n",
    ").properties(\n",
    "    title=\"Histogram of users by number of posts, comment and activity window\"\n",
    ")\n",
    "\n",
    "distributions = (posts + comments + age)"
   ]
  },
  {
   "cell_type": "code",
   "execution_count": 14,
   "metadata": {},
   "outputs": [
    {
     "data": {
      "text/html": [
       "\n",
       "<div id=\"altair-viz-77e6f32f0a7f4d5ca27dbca711955193\"></div>\n",
       "<script type=\"text/javascript\">\n",
       "  var VEGA_DEBUG = (typeof VEGA_DEBUG == \"undefined\") ? {} : VEGA_DEBUG;\n",
       "  (function(spec, embedOpt){\n",
       "    let outputDiv = document.currentScript.previousElementSibling;\n",
       "    if (outputDiv.id !== \"altair-viz-77e6f32f0a7f4d5ca27dbca711955193\") {\n",
       "      outputDiv = document.getElementById(\"altair-viz-77e6f32f0a7f4d5ca27dbca711955193\");\n",
       "    }\n",
       "    const paths = {\n",
       "      \"vega\": \"https://cdn.jsdelivr.net/npm//vega@5?noext\",\n",
       "      \"vega-lib\": \"https://cdn.jsdelivr.net/npm//vega-lib?noext\",\n",
       "      \"vega-lite\": \"https://cdn.jsdelivr.net/npm//vega-lite@4.17.0?noext\",\n",
       "      \"vega-embed\": \"https://cdn.jsdelivr.net/npm//vega-embed@6?noext\",\n",
       "    };\n",
       "\n",
       "    function maybeLoadScript(lib, version) {\n",
       "      var key = `${lib.replace(\"-\", \"\")}_version`;\n",
       "      return (VEGA_DEBUG[key] == version) ?\n",
       "        Promise.resolve(paths[lib]) :\n",
       "        new Promise(function(resolve, reject) {\n",
       "          var s = document.createElement('script');\n",
       "          document.getElementsByTagName(\"head\")[0].appendChild(s);\n",
       "          s.async = true;\n",
       "          s.onload = () => {\n",
       "            VEGA_DEBUG[key] = version;\n",
       "            return resolve(paths[lib]);\n",
       "          };\n",
       "          s.onerror = () => reject(`Error loading script: ${paths[lib]}`);\n",
       "          s.src = paths[lib];\n",
       "        });\n",
       "    }\n",
       "\n",
       "    function showError(err) {\n",
       "      outputDiv.innerHTML = `<div class=\"error\" style=\"color:red;\">${err}</div>`;\n",
       "      throw err;\n",
       "    }\n",
       "\n",
       "    function displayChart(vegaEmbed) {\n",
       "      vegaEmbed(outputDiv, spec, embedOpt)\n",
       "        .catch(err => showError(`Javascript Error: ${err.message}<br>This usually means there's a typo in your chart specification. See the javascript console for the full traceback.`));\n",
       "    }\n",
       "\n",
       "    if(typeof define === \"function\" && define.amd) {\n",
       "      requirejs.config({paths});\n",
       "      require([\"vega-embed\"], displayChart, err => showError(`Error loading script: ${err.message}`));\n",
       "    } else {\n",
       "      maybeLoadScript(\"vega\", \"5\")\n",
       "        .then(() => maybeLoadScript(\"vega-lite\", \"4.17.0\"))\n",
       "        .then(() => maybeLoadScript(\"vega-embed\", \"6\"))\n",
       "        .catch(showError)\n",
       "        .then(() => displayChart(vegaEmbed));\n",
       "    }\n",
       "  })({\"config\": {\"view\": {\"continuousWidth\": 400, \"continuousHeight\": 300}}, \"layer\": [{\"data\": {\"name\": \"data-2d1c5cb655fff23d28d85b737ddb7e71\"}, \"mark\": {\"type\": \"line\", \"clip\": true, \"size\": 2}, \"encoding\": {\"color\": {\"field\": \"Variable\", \"type\": \"nominal\"}, \"x\": {\"axis\": {\"grid\": false}, \"field\": \"bin\", \"scale\": {\"domain\": [0, 400]}, \"title\": \"Number of posts\", \"type\": \"quantitative\"}, \"y\": {\"axis\": {\"grid\": false}, \"field\": \"count\", \"scale\": {\"type\": \"log\"}, \"title\": \"Number of users\", \"type\": \"quantitative\"}}, \"title\": \"Histogram of users by post count\"}, {\"data\": {\"name\": \"data-66bc856dac5eea2da95926f3fed902cb\"}, \"mark\": {\"type\": \"line\", \"clip\": true, \"size\": 2}, \"encoding\": {\"color\": {\"field\": \"Variable\", \"type\": \"nominal\"}, \"x\": {\"axis\": {\"grid\": false}, \"field\": \"bin\", \"scale\": {\"domain\": [0, 4000]}, \"title\": \"Number of comments\", \"type\": \"quantitative\"}, \"y\": {\"axis\": {\"grid\": false}, \"field\": \"count\", \"scale\": {\"type\": \"log\"}, \"title\": \"Number of users\", \"type\": \"quantitative\"}}, \"title\": \"Histogram of users by comment count\"}, {\"data\": {\"name\": \"data-b4134022a89b1ee60029443a62d9e46a\"}, \"mark\": {\"type\": \"line\", \"clip\": true, \"size\": 2}, \"encoding\": {\"color\": {\"field\": \"Variable\", \"type\": \"nominal\"}, \"x\": {\"axis\": {\"grid\": false}, \"field\": \"bin\", \"scale\": {\"domain\": [0, 2901.0]}, \"title\": \"Activity window (days)\", \"type\": \"quantitative\"}, \"y\": {\"axis\": {\"grid\": false}, \"field\": \"count\", \"scale\": {\"type\": \"log\"}, \"title\": \"Number of users\", \"type\": \"quantitative\"}}, \"title\": \"Histogram of users by number of posts, comment and activity window\"}], \"$schema\": \"https://vega.github.io/schema/vega-lite/v4.17.0.json\", \"datasets\": {\"data-2d1c5cb655fff23d28d85b737ddb7e71\": [{\"bin\": 1.0, \"count\": 813974.1, \"Variable\": \"Post count\"}, {\"bin\": 21.0, \"count\": 256.1, \"Variable\": \"Post count\"}, {\"bin\": 41.0, \"count\": 61.1, \"Variable\": \"Post count\"}, {\"bin\": 61.0, \"count\": 24.1, \"Variable\": \"Post count\"}, {\"bin\": 81.0, \"count\": 11.1, \"Variable\": \"Post count\"}, {\"bin\": 101.0, \"count\": 7.1, \"Variable\": \"Post count\"}, {\"bin\": 121.0, \"count\": 6.1, \"Variable\": \"Post count\"}, {\"bin\": 181.0, \"count\": 1.1, \"Variable\": \"Post count\"}, {\"bin\": 201.0, \"count\": 2.1, \"Variable\": \"Post count\"}, {\"bin\": 241.0, \"count\": 1.1, \"Variable\": \"Post count\"}, {\"bin\": 261.0, \"count\": 2.1, \"Variable\": \"Post count\"}, {\"bin\": 301.0, \"count\": 2.1, \"Variable\": \"Post count\"}, {\"bin\": 401.0, \"count\": 1.1, \"Variable\": \"Post count\"}, {\"bin\": 621.0, \"count\": 1.1, \"Variable\": \"Post count\"}, {\"bin\": 761.0, \"count\": 1.1, \"Variable\": \"Post count\"}], \"data-66bc856dac5eea2da95926f3fed902cb\": [{\"bin\": 1.0, \"count\": 806733.1, \"Variable\": \"Comment count\"}, {\"bin\": 101.0, \"count\": 5014.1, \"Variable\": \"Comment count\"}, {\"bin\": 201.0, \"count\": 1336.1, \"Variable\": \"Comment count\"}, {\"bin\": 301.0, \"count\": 528.1, \"Variable\": \"Comment count\"}, {\"bin\": 401.0, \"count\": 285.1, \"Variable\": \"Comment count\"}, {\"bin\": 501.0, \"count\": 132.1, \"Variable\": \"Comment count\"}, {\"bin\": 601.0, \"count\": 75.1, \"Variable\": \"Comment count\"}, {\"bin\": 701.0, \"count\": 72.1, \"Variable\": \"Comment count\"}, {\"bin\": 801.0, \"count\": 41.1, \"Variable\": \"Comment count\"}, {\"bin\": 901.0, \"count\": 28.1, \"Variable\": \"Comment count\"}, {\"bin\": 1001.0, \"count\": 19.1, \"Variable\": \"Comment count\"}, {\"bin\": 1101.0, \"count\": 12.1, \"Variable\": \"Comment count\"}, {\"bin\": 1201.0, \"count\": 7.1, \"Variable\": \"Comment count\"}, {\"bin\": 1301.0, \"count\": 12.1, \"Variable\": \"Comment count\"}, {\"bin\": 1401.0, \"count\": 9.1, \"Variable\": \"Comment count\"}, {\"bin\": 1501.0, \"count\": 7.1, \"Variable\": \"Comment count\"}, {\"bin\": 1601.0, \"count\": 6.1, \"Variable\": \"Comment count\"}, {\"bin\": 1701.0, \"count\": 6.1, \"Variable\": \"Comment count\"}, {\"bin\": 1801.0, \"count\": 4.1, \"Variable\": \"Comment count\"}, {\"bin\": 1901.0, \"count\": 2.1, \"Variable\": \"Comment count\"}, {\"bin\": 2001.0, \"count\": 3.1, \"Variable\": \"Comment count\"}, {\"bin\": 2101.0, \"count\": 4.1, \"Variable\": \"Comment count\"}, {\"bin\": 2201.0, \"count\": 2.1, \"Variable\": \"Comment count\"}, {\"bin\": 2301.0, \"count\": 1.1, \"Variable\": \"Comment count\"}, {\"bin\": 2401.0, \"count\": 1.1, \"Variable\": \"Comment count\"}, {\"bin\": 2601.0, \"count\": 4.1, \"Variable\": \"Comment count\"}, {\"bin\": 2801.0, \"count\": 1.1, \"Variable\": \"Comment count\"}, {\"bin\": 3001.0, \"count\": 1.1, \"Variable\": \"Comment count\"}, {\"bin\": 3101.0, \"count\": 1.1, \"Variable\": \"Comment count\"}, {\"bin\": 3301.0, \"count\": 1.1, \"Variable\": \"Comment count\"}, {\"bin\": 4001.0, \"count\": 1.1, \"Variable\": \"Comment count\"}, {\"bin\": 5101.0, \"count\": 1.1, \"Variable\": \"Comment count\"}, {\"bin\": 9401.0, \"count\": 1.1, \"Variable\": \"Comment count\"}], \"data-b4134022a89b1ee60029443a62d9e46a\": [{\"bin\": 1.0, \"count\": 719458.1, \"Variable\": \"Activity window\"}, {\"bin\": 101.0, \"count\": 50372.1, \"Variable\": \"Activity window\"}, {\"bin\": 201.0, \"count\": 17845.1, \"Variable\": \"Activity window\"}, {\"bin\": 301.0, \"count\": 8747.1, \"Variable\": \"Activity window\"}, {\"bin\": 401.0, \"count\": 5940.1, \"Variable\": \"Activity window\"}, {\"bin\": 501.0, \"count\": 3544.1, \"Variable\": \"Activity window\"}, {\"bin\": 601.0, \"count\": 2864.1, \"Variable\": \"Activity window\"}, {\"bin\": 701.0, \"count\": 2419.1, \"Variable\": \"Activity window\"}, {\"bin\": 801.0, \"count\": 1478.1, \"Variable\": \"Activity window\"}, {\"bin\": 901.0, \"count\": 825.1, \"Variable\": \"Activity window\"}, {\"bin\": 1001.0, \"count\": 479.1, \"Variable\": \"Activity window\"}, {\"bin\": 1101.0, \"count\": 186.1, \"Variable\": \"Activity window\"}, {\"bin\": 1201.0, \"count\": 56.1, \"Variable\": \"Activity window\"}, {\"bin\": 1301.0, \"count\": 21.1, \"Variable\": \"Activity window\"}, {\"bin\": 1401.0, \"count\": 17.1, \"Variable\": \"Activity window\"}, {\"bin\": 1501.0, \"count\": 12.1, \"Variable\": \"Activity window\"}, {\"bin\": 1601.0, \"count\": 7.1, \"Variable\": \"Activity window\"}, {\"bin\": 1701.0, \"count\": 4.1, \"Variable\": \"Activity window\"}, {\"bin\": 1801.0, \"count\": 11.1, \"Variable\": \"Activity window\"}, {\"bin\": 1901.0, \"count\": 12.1, \"Variable\": \"Activity window\"}, {\"bin\": 2001.0, \"count\": 11.1, \"Variable\": \"Activity window\"}, {\"bin\": 2101.0, \"count\": 12.1, \"Variable\": \"Activity window\"}, {\"bin\": 2201.0, \"count\": 3.1, \"Variable\": \"Activity window\"}, {\"bin\": 2301.0, \"count\": 9.1, \"Variable\": \"Activity window\"}, {\"bin\": 2401.0, \"count\": 6.1, \"Variable\": \"Activity window\"}, {\"bin\": 2501.0, \"count\": 6.1, \"Variable\": \"Activity window\"}, {\"bin\": 2601.0, \"count\": 2.1, \"Variable\": \"Activity window\"}, {\"bin\": 2701.0, \"count\": 1.1, \"Variable\": \"Activity window\"}, {\"bin\": 2801.0, \"count\": 2.1, \"Variable\": \"Activity window\"}, {\"bin\": 2901.0, \"count\": 1.1, \"Variable\": \"Activity window\"}]}}, {\"mode\": \"vega-lite\"});\n",
       "</script>"
      ],
      "text/plain": [
       "alt.LayerChart(...)"
      ]
     },
     "execution_count": 14,
     "metadata": {},
     "output_type": "execute_result"
    }
   ],
   "source": [
    "distributions"
   ]
  }
 ],
 "metadata": {
  "interpreter": {
   "hash": "458e57744219fd35e36fe617bee87769eccb7cd58eff0111259e94f378fae128"
  },
  "kernelspec": {
   "display_name": "css",
   "language": "python",
   "name": "css"
  },
  "language_info": {
   "codemirror_mode": {
    "name": "ipython",
    "version": 3
   },
   "file_extension": ".py",
   "mimetype": "text/x-python",
   "name": "python",
   "nbconvert_exporter": "python",
   "pygments_lexer": "ipython3",
   "version": "3.9.7"
  },
  "orig_nbformat": 4
 },
 "nbformat": 4,
 "nbformat_minor": 2
}
